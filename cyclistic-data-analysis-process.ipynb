{
 "cells": [
  {
   "cell_type": "markdown",
   "id": "631b6c2d",
   "metadata": {
    "papermill": {
     "duration": 0.010777,
     "end_time": "2024-05-23T16:56:10.182244",
     "exception": false,
     "start_time": "2024-05-23T16:56:10.171467",
     "status": "completed"
    },
    "tags": []
   },
   "source": [
    "### **Background**\n",
    "***(This case study is for Google Data Analysis Professional Certificate)***\n",
    "Cyclistic is a bike-share company that features more than 5,800 bicycles in 692 stations across Chicago. The director of marketing believes Cyclistic’s future depends on maximising the number of annual memberships. To achieve this vision, the marketing analytics team wants to understand how casual riders and annual members use the programme differently & to design a new marketing programme as a recommendation to convert casual riders into annual members. Thereafter, the Cyclistic executives will determine whether to approve the recommended marketing programme.\n",
    "**Note:** *I will be using the 6 Phase Analysis methodology learnt from the course, which are Ask – Prepare - Process – Analyse – Share – Act*\n"
   ]
  },
  {
   "cell_type": "markdown",
   "id": "07c2383e",
   "metadata": {
    "papermill": {
     "duration": 0.009578,
     "end_time": "2024-05-23T16:56:10.201743",
     "exception": false,
     "start_time": "2024-05-23T16:56:10.192165",
     "status": "completed"
    },
    "tags": []
   },
   "source": [
    "### **Phase 1: ASK**\n",
    "> •\tWhat are the problems you are solving for this analysis?\n",
    "> •\tWho are the key stakeholders requesting for the analsysis?\n",
    "> •\tWhat are the data sources used for the case study? Is it ROCCC?\n",
    "\n",
    "Questions to guide the future marketing programme:\n",
    "1.\tHow do annual members and casual riders use Cyclistic bikes differently?\n",
    "2.\tWhy would casual riders buy Cyclistic annual memberships?\n",
    "3.\tHow can Cyclistic use digital media to influence casual riders to become members?\n",
    "\n",
    "For the purpose of the case study, I will answer Question 1: to find the differences between casual riders and annual members of Cyclistic.\n",
    "\n",
    "**Business Task & Key Stakeholders**\n",
    "The aim for the case study is to understand how casual and annual member riders use Cyclistic bike-share programme and to design the future marketing programme based on the analysis. For this case study, our key stakeholders are the director of marketing, the company executive team and Cyclistic’s casual riders."
   ]
  },
  {
   "cell_type": "markdown",
   "id": "29723d7a",
   "metadata": {
    "papermill": {
     "duration": 0.009595,
     "end_time": "2024-05-23T16:56:10.220849",
     "exception": false,
     "start_time": "2024-05-23T16:56:10.211254",
     "status": "completed"
    },
    "tags": []
   },
   "source": [
    "\n",
    "### **Phase 2: PREPARE**\n",
    "> •\tWhat are the data sources used for the case study? Is it ROCCC (Reliable, Original, Comprehensive, Current & Cited)?\n",
    "\n",
    "**Data Sources**\n",
    "Upon the pre-analysis of the data, the data sets used satisfied the ROCCC (Reliable, Original, Comprehensive, Current, Cited) requirements.\n",
    ">\n",
    "**Note:** *The datasets have a different name as Cyclistic is a fictional company and is only used for the purpose of this case study.*\n",
    "\n",
    "Below are the reasoning \n",
    "* **Reliable:** The data are accessible to the public here (https://divvy-tripdata.s3.amazonaws.com/index.html). For this case study, I will focus on data sets from January 2023 until December 2023 which derived from 12 distinct CSV file. Upon the pre-analysis of the data, the data sets used are ROCCC (Reliable, Original, Comprehensive, Current, Cited).\n",
    "**Note:** *The datasets have a different name as Cyclistic is a fictional company and is only used for the purpose of this case study.*\n",
    "* **Original:** According to the Divvy Data License Agreement, the data used was originally collected by the City of Chicago (“City”) and the City has given permission to Bikeshare to make certain Divvy system data\n",
    "* **Comprehensive:** The data set contain all critical information needed to help me understand the difference between casual riders and annual member riders of Cyclistic.\n",
    "* **Current:** The data source refreshes the data on a monthly schedule and contains the current dataset. For the case study, I am going to use dataset from January 2023 until December 2023.\n",
    "* **Cited:** The Divvy Data License Agreement contains the information on the owner of the data, the City and the last time refreshed, December 2023.\n"
   ]
  },
  {
   "cell_type": "markdown",
   "id": "585bc10f",
   "metadata": {
    "papermill": {
     "duration": 0.009517,
     "end_time": "2024-05-23T16:56:10.239928",
     "exception": false,
     "start_time": "2024-05-23T16:56:10.230411",
     "status": "completed"
    },
    "tags": []
   },
   "source": [
    "### **Phase 3: PROCESS**\n",
    "> What are the steps taken to process the data – ensure that the data is cleaned, no null values before the analysis\n",
    "\n",
    "For the purpose of the case study, I am using **Excel, R/ RStudio and Tableau** for data cleaning, data analysis and data visualisation\n",
    "\n",
    "#### Pre-cleaning process\n",
    "* I saved the datasets in .CSV format with \"YYYY-MM\" as naming convention system to organise datasets between Jan 2023 - Dec 2023 efficiently.\n",
    "* Using Excel, I ran through the .CSV file to check what kind of data were collected and to ensure all datasets collected same information. **Result:** There are null values for *start_station_name, start_station_id, end_station_name, end_station_id, end_lat, end_lng*. No null values found in other columns. \n",
    "* Since the size of datasets are large, **I have opt to use R/RStudio for data cleaning.**\n"
   ]
  },
  {
   "cell_type": "markdown",
   "id": "cf74ee0b",
   "metadata": {
    "papermill": {
     "duration": 0.010111,
     "end_time": "2024-05-23T16:56:10.259584",
     "exception": false,
     "start_time": "2024-05-23T16:56:10.249473",
     "status": "completed"
    },
    "tags": []
   },
   "source": [
    "#### Data Cleaning using R\n",
    "**Install the necessary packages and import the datasets into RStudio**"
   ]
  },
  {
   "cell_type": "code",
   "execution_count": 1,
   "id": "06faa60a",
   "metadata": {
    "execution": {
     "iopub.execute_input": "2024-05-23T16:56:10.282529Z",
     "iopub.status.busy": "2024-05-23T16:56:10.280531Z",
     "iopub.status.idle": "2024-05-23T16:56:11.552424Z",
     "shell.execute_reply": "2024-05-23T16:56:11.550661Z"
    },
    "papermill": {
     "duration": 1.285685,
     "end_time": "2024-05-23T16:56:11.554744",
     "exception": false,
     "start_time": "2024-05-23T16:56:10.269059",
     "status": "completed"
    },
    "tags": []
   },
   "outputs": [
    {
     "name": "stderr",
     "output_type": "stream",
     "text": [
      "── \u001b[1mAttaching core tidyverse packages\u001b[22m ──────────────────────── tidyverse 2.0.0 ──\n",
      "\u001b[32m✔\u001b[39m \u001b[34mdplyr    \u001b[39m 1.1.4     \u001b[32m✔\u001b[39m \u001b[34mreadr    \u001b[39m 2.1.4\n",
      "\u001b[32m✔\u001b[39m \u001b[34mforcats  \u001b[39m 1.0.0     \u001b[32m✔\u001b[39m \u001b[34mstringr  \u001b[39m 1.5.1\n",
      "\u001b[32m✔\u001b[39m \u001b[34mggplot2  \u001b[39m 3.4.4     \u001b[32m✔\u001b[39m \u001b[34mtibble   \u001b[39m 3.2.1\n",
      "\u001b[32m✔\u001b[39m \u001b[34mlubridate\u001b[39m 1.9.3     \u001b[32m✔\u001b[39m \u001b[34mtidyr    \u001b[39m 1.3.0\n",
      "\u001b[32m✔\u001b[39m \u001b[34mpurrr    \u001b[39m 1.0.2     \n",
      "── \u001b[1mConflicts\u001b[22m ────────────────────────────────────────── tidyverse_conflicts() ──\n",
      "\u001b[31m✖\u001b[39m \u001b[34mdplyr\u001b[39m::\u001b[32mfilter()\u001b[39m masks \u001b[34mstats\u001b[39m::filter()\n",
      "\u001b[31m✖\u001b[39m \u001b[34mdplyr\u001b[39m::\u001b[32mlag()\u001b[39m    masks \u001b[34mstats\u001b[39m::lag()\n",
      "\u001b[36mℹ\u001b[39m Use the conflicted package (\u001b[3m\u001b[34m<http://conflicted.r-lib.org/>\u001b[39m\u001b[23m) to force all conflicts to become errors\n",
      "\n",
      "Attaching package: ‘janitor’\n",
      "\n",
      "\n",
      "The following objects are masked from ‘package:stats’:\n",
      "\n",
      "    chisq.test, fisher.test\n",
      "\n",
      "\n"
     ]
    }
   ],
   "source": [
    "library(tidyverse) \n",
    "library(janitor)\n",
    "library(lubridate)\n",
    "library(geosphere) #This package assists to measure the distance using latitude, longitude data"
   ]
  },
  {
   "cell_type": "code",
   "execution_count": 2,
   "id": "c125c646",
   "metadata": {
    "execution": {
     "iopub.execute_input": "2024-05-23T16:56:11.606661Z",
     "iopub.status.busy": "2024-05-23T16:56:11.576559Z",
     "iopub.status.idle": "2024-05-23T16:56:42.930596Z",
     "shell.execute_reply": "2024-05-23T16:56:42.928781Z"
    },
    "papermill": {
     "duration": 31.367899,
     "end_time": "2024-05-23T16:56:42.932765",
     "exception": false,
     "start_time": "2024-05-23T16:56:11.564866",
     "status": "completed"
    },
    "tags": []
   },
   "outputs": [
    {
     "name": "stderr",
     "output_type": "stream",
     "text": [
      "\u001b[1mRows: \u001b[22m\u001b[34m190301\u001b[39m \u001b[1mColumns: \u001b[22m\u001b[34m13\u001b[39m\n",
      "\u001b[36m──\u001b[39m \u001b[1mColumn specification\u001b[22m \u001b[36m────────────────────────────────────────────────────────\u001b[39m\n",
      "\u001b[1mDelimiter:\u001b[22m \",\"\n",
      "\u001b[31mchr\u001b[39m  (7): ride_id, rideable_type, start_station_name, start_station_id, end_...\n",
      "\u001b[32mdbl\u001b[39m  (4): start_lat, start_lng, end_lat, end_lng\n",
      "\u001b[34mdttm\u001b[39m (2): started_at, ended_at\n",
      "\n",
      "\u001b[36mℹ\u001b[39m Use `spec()` to retrieve the full column specification for this data.\n",
      "\u001b[36mℹ\u001b[39m Specify the column types or set `show_col_types = FALSE` to quiet this message.\n",
      "\u001b[1mRows: \u001b[22m\u001b[34m190445\u001b[39m \u001b[1mColumns: \u001b[22m\u001b[34m13\u001b[39m\n",
      "\u001b[36m──\u001b[39m \u001b[1mColumn specification\u001b[22m \u001b[36m────────────────────────────────────────────────────────\u001b[39m\n",
      "\u001b[1mDelimiter:\u001b[22m \",\"\n",
      "\u001b[31mchr\u001b[39m  (7): ride_id, rideable_type, start_station_name, start_station_id, end_...\n",
      "\u001b[32mdbl\u001b[39m  (4): start_lat, start_lng, end_lat, end_lng\n",
      "\u001b[34mdttm\u001b[39m (2): started_at, ended_at\n",
      "\n",
      "\u001b[36mℹ\u001b[39m Use `spec()` to retrieve the full column specification for this data.\n",
      "\u001b[36mℹ\u001b[39m Specify the column types or set `show_col_types = FALSE` to quiet this message.\n",
      "\u001b[1mRows: \u001b[22m\u001b[34m258678\u001b[39m \u001b[1mColumns: \u001b[22m\u001b[34m13\u001b[39m\n",
      "\u001b[36m──\u001b[39m \u001b[1mColumn specification\u001b[22m \u001b[36m────────────────────────────────────────────────────────\u001b[39m\n",
      "\u001b[1mDelimiter:\u001b[22m \",\"\n",
      "\u001b[31mchr\u001b[39m  (7): ride_id, rideable_type, start_station_name, start_station_id, end_...\n",
      "\u001b[32mdbl\u001b[39m  (4): start_lat, start_lng, end_lat, end_lng\n",
      "\u001b[34mdttm\u001b[39m (2): started_at, ended_at\n",
      "\n",
      "\u001b[36mℹ\u001b[39m Use `spec()` to retrieve the full column specification for this data.\n",
      "\u001b[36mℹ\u001b[39m Specify the column types or set `show_col_types = FALSE` to quiet this message.\n",
      "\u001b[1mRows: \u001b[22m\u001b[34m426590\u001b[39m \u001b[1mColumns: \u001b[22m\u001b[34m13\u001b[39m\n",
      "\u001b[36m──\u001b[39m \u001b[1mColumn specification\u001b[22m \u001b[36m────────────────────────────────────────────────────────\u001b[39m\n",
      "\u001b[1mDelimiter:\u001b[22m \",\"\n",
      "\u001b[31mchr\u001b[39m  (7): ride_id, rideable_type, start_station_name, start_station_id, end_...\n",
      "\u001b[32mdbl\u001b[39m  (4): start_lat, start_lng, end_lat, end_lng\n",
      "\u001b[34mdttm\u001b[39m (2): started_at, ended_at\n",
      "\n",
      "\u001b[36mℹ\u001b[39m Use `spec()` to retrieve the full column specification for this data.\n",
      "\u001b[36mℹ\u001b[39m Specify the column types or set `show_col_types = FALSE` to quiet this message.\n",
      "\u001b[1mRows: \u001b[22m\u001b[34m604827\u001b[39m \u001b[1mColumns: \u001b[22m\u001b[34m13\u001b[39m\n",
      "\u001b[36m──\u001b[39m \u001b[1mColumn specification\u001b[22m \u001b[36m────────────────────────────────────────────────────────\u001b[39m\n",
      "\u001b[1mDelimiter:\u001b[22m \",\"\n",
      "\u001b[31mchr\u001b[39m  (7): ride_id, rideable_type, start_station_name, start_station_id, end_...\n",
      "\u001b[32mdbl\u001b[39m  (4): start_lat, start_lng, end_lat, end_lng\n",
      "\u001b[34mdttm\u001b[39m (2): started_at, ended_at\n",
      "\n",
      "\u001b[36mℹ\u001b[39m Use `spec()` to retrieve the full column specification for this data.\n",
      "\u001b[36mℹ\u001b[39m Specify the column types or set `show_col_types = FALSE` to quiet this message.\n",
      "\u001b[1mRows: \u001b[22m\u001b[34m719618\u001b[39m \u001b[1mColumns: \u001b[22m\u001b[34m13\u001b[39m\n",
      "\u001b[36m──\u001b[39m \u001b[1mColumn specification\u001b[22m \u001b[36m────────────────────────────────────────────────────────\u001b[39m\n",
      "\u001b[1mDelimiter:\u001b[22m \",\"\n",
      "\u001b[31mchr\u001b[39m  (7): ride_id, rideable_type, start_station_name, start_station_id, end_...\n",
      "\u001b[32mdbl\u001b[39m  (4): start_lat, start_lng, end_lat, end_lng\n",
      "\u001b[34mdttm\u001b[39m (2): started_at, ended_at\n",
      "\n",
      "\u001b[36mℹ\u001b[39m Use `spec()` to retrieve the full column specification for this data.\n",
      "\u001b[36mℹ\u001b[39m Specify the column types or set `show_col_types = FALSE` to quiet this message.\n",
      "\u001b[1mRows: \u001b[22m\u001b[34m767650\u001b[39m \u001b[1mColumns: \u001b[22m\u001b[34m13\u001b[39m\n",
      "\u001b[36m──\u001b[39m \u001b[1mColumn specification\u001b[22m \u001b[36m────────────────────────────────────────────────────────\u001b[39m\n",
      "\u001b[1mDelimiter:\u001b[22m \",\"\n",
      "\u001b[31mchr\u001b[39m  (7): ride_id, rideable_type, start_station_name, start_station_id, end_...\n",
      "\u001b[32mdbl\u001b[39m  (4): start_lat, start_lng, end_lat, end_lng\n",
      "\u001b[34mdttm\u001b[39m (2): started_at, ended_at\n",
      "\n",
      "\u001b[36mℹ\u001b[39m Use `spec()` to retrieve the full column specification for this data.\n",
      "\u001b[36mℹ\u001b[39m Specify the column types or set `show_col_types = FALSE` to quiet this message.\n",
      "\u001b[1mRows: \u001b[22m\u001b[34m771693\u001b[39m \u001b[1mColumns: \u001b[22m\u001b[34m13\u001b[39m\n",
      "\u001b[36m──\u001b[39m \u001b[1mColumn specification\u001b[22m \u001b[36m────────────────────────────────────────────────────────\u001b[39m\n",
      "\u001b[1mDelimiter:\u001b[22m \",\"\n",
      "\u001b[31mchr\u001b[39m  (7): ride_id, rideable_type, start_station_name, start_station_id, end_...\n",
      "\u001b[32mdbl\u001b[39m  (4): start_lat, start_lng, end_lat, end_lng\n",
      "\u001b[34mdttm\u001b[39m (2): started_at, ended_at\n",
      "\n",
      "\u001b[36mℹ\u001b[39m Use `spec()` to retrieve the full column specification for this data.\n",
      "\u001b[36mℹ\u001b[39m Specify the column types or set `show_col_types = FALSE` to quiet this message.\n",
      "\u001b[1mRows: \u001b[22m\u001b[34m666371\u001b[39m \u001b[1mColumns: \u001b[22m\u001b[34m13\u001b[39m\n",
      "\u001b[36m──\u001b[39m \u001b[1mColumn specification\u001b[22m \u001b[36m────────────────────────────────────────────────────────\u001b[39m\n",
      "\u001b[1mDelimiter:\u001b[22m \",\"\n",
      "\u001b[31mchr\u001b[39m  (7): ride_id, rideable_type, start_station_name, start_station_id, end_...\n",
      "\u001b[32mdbl\u001b[39m  (4): start_lat, start_lng, end_lat, end_lng\n",
      "\u001b[34mdttm\u001b[39m (2): started_at, ended_at\n",
      "\n",
      "\u001b[36mℹ\u001b[39m Use `spec()` to retrieve the full column specification for this data.\n",
      "\u001b[36mℹ\u001b[39m Specify the column types or set `show_col_types = FALSE` to quiet this message.\n",
      "\u001b[1mRows: \u001b[22m\u001b[34m537113\u001b[39m \u001b[1mColumns: \u001b[22m\u001b[34m13\u001b[39m\n",
      "\u001b[36m──\u001b[39m \u001b[1mColumn specification\u001b[22m \u001b[36m────────────────────────────────────────────────────────\u001b[39m\n",
      "\u001b[1mDelimiter:\u001b[22m \",\"\n",
      "\u001b[31mchr\u001b[39m  (7): ride_id, rideable_type, start_station_name, start_station_id, end_...\n",
      "\u001b[32mdbl\u001b[39m  (4): start_lat, start_lng, end_lat, end_lng\n",
      "\u001b[34mdttm\u001b[39m (2): started_at, ended_at\n",
      "\n",
      "\u001b[36mℹ\u001b[39m Use `spec()` to retrieve the full column specification for this data.\n",
      "\u001b[36mℹ\u001b[39m Specify the column types or set `show_col_types = FALSE` to quiet this message.\n",
      "\u001b[1mRows: \u001b[22m\u001b[34m362518\u001b[39m \u001b[1mColumns: \u001b[22m\u001b[34m13\u001b[39m\n",
      "\u001b[36m──\u001b[39m \u001b[1mColumn specification\u001b[22m \u001b[36m────────────────────────────────────────────────────────\u001b[39m\n",
      "\u001b[1mDelimiter:\u001b[22m \",\"\n",
      "\u001b[31mchr\u001b[39m  (7): ride_id, rideable_type, start_station_name, start_station_id, end_...\n",
      "\u001b[32mdbl\u001b[39m  (4): start_lat, start_lng, end_lat, end_lng\n",
      "\u001b[34mdttm\u001b[39m (2): started_at, ended_at\n",
      "\n",
      "\u001b[36mℹ\u001b[39m Use `spec()` to retrieve the full column specification for this data.\n",
      "\u001b[36mℹ\u001b[39m Specify the column types or set `show_col_types = FALSE` to quiet this message.\n",
      "\u001b[1mRows: \u001b[22m\u001b[34m224073\u001b[39m \u001b[1mColumns: \u001b[22m\u001b[34m13\u001b[39m\n",
      "\u001b[36m──\u001b[39m \u001b[1mColumn specification\u001b[22m \u001b[36m────────────────────────────────────────────────────────\u001b[39m\n",
      "\u001b[1mDelimiter:\u001b[22m \",\"\n",
      "\u001b[31mchr\u001b[39m (9): ride_id, rideable_type, started_at, ended_at, start_station_name, s...\n",
      "\u001b[32mdbl\u001b[39m (4): start_lat, start_lng, end_lat, end_lng\n",
      "\n",
      "\u001b[36mℹ\u001b[39m Use `spec()` to retrieve the full column specification for this data.\n",
      "\u001b[36mℹ\u001b[39m Specify the column types or set `show_col_types = FALSE` to quiet this message.\n"
     ]
    }
   ],
   "source": [
    "#Import datasets using read_csv command\n",
    "Jan2023 <- read_csv(\"/kaggle/input/google-data-analytics-case-study-1-cyclistic/202301-divvy-tripdata.csv\")\n",
    "Feb2023 <- read_csv(\"/kaggle/input/google-data-analytics-case-study-1-cyclistic/202302-divvy-tripdata.csv\")\n",
    "Mar2023 <- read_csv(\"/kaggle/input/google-data-analytics-case-study-1-cyclistic/202303-divvy-tripdata.csv\")\n",
    "Apr2023 <- read_csv(\"/kaggle/input/google-data-analytics-case-study-1-cyclistic/202304-divvy-tripdata.csv\")\n",
    "May2023 <- read_csv(\"/kaggle/input/google-data-analytics-case-study-1-cyclistic/202305-divvy-tripdata.csv\")\n",
    "Jun2023 <- read_csv(\"/kaggle/input/google-data-analytics-case-study-1-cyclistic/202306-divvy-tripdata.csv\")\n",
    "Jul2023 <- read_csv(\"/kaggle/input/google-data-analytics-case-study-1-cyclistic/202307-divvy-tripdata.csv\")\n",
    "Aug2023 <- read_csv(\"/kaggle/input/google-data-analytics-case-study-1-cyclistic/202308-divvy-tripdata.csv\")\n",
    "Sep2023 <- read_csv(\"/kaggle/input/google-data-analytics-case-study-1-cyclistic/202309-divvy-tripdata.csv\")\n",
    "Oct2023 <- read_csv(\"/kaggle/input/google-data-analytics-case-study-1-cyclistic/202310-divvy-tripdata.csv\")\n",
    "Nov2023 <- read_csv(\"/kaggle/input/google-data-analytics-case-study-1-cyclistic/202311-divvy-tripdata.csv\")\n",
    "Dec2023 <- read_csv(\"/kaggle/input/google-data-analytics-case-study-1-cyclistic/202312-divvy-tripdata.csv\")"
   ]
  },
  {
   "cell_type": "markdown",
   "id": "e99d4263",
   "metadata": {
    "papermill": {
     "duration": 0.012422,
     "end_time": "2024-05-23T16:56:42.957503",
     "exception": false,
     "start_time": "2024-05-23T16:56:42.945081",
     "status": "completed"
    },
    "tags": []
   },
   "source": [
    "**Check the structure of the datasets**\n",
    "* **Result:** Data for 'started_at' and 'ended_at' columns in Dec2023 are in chr value. To change these columns to date and time type.\n",
    "* Then, 12 datasets are merged into one dataset, **merged_cyclistic2023** for data cleaning purposes."
   ]
  },
  {
   "cell_type": "code",
   "execution_count": 3,
   "id": "acef8a1b",
   "metadata": {
    "execution": {
     "iopub.execute_input": "2024-05-23T16:56:42.985016Z",
     "iopub.status.busy": "2024-05-23T16:56:42.983513Z",
     "iopub.status.idle": "2024-05-23T16:56:43.399283Z",
     "shell.execute_reply": "2024-05-23T16:56:43.397293Z"
    },
    "papermill": {
     "duration": 0.432111,
     "end_time": "2024-05-23T16:56:43.401633",
     "exception": false,
     "start_time": "2024-05-23T16:56:42.969522",
     "status": "completed"
    },
    "tags": []
   },
   "outputs": [
    {
     "name": "stdout",
     "output_type": "stream",
     "text": [
      "spc_tbl_ [190,301 × 13] (S3: spec_tbl_df/tbl_df/tbl/data.frame)\n",
      " $ ride_id           : chr [1:190301] \"F96D5A74A3E41399\" \"13CB7EB698CEDB88\" \"BD88A2E670661CE5\" \"C90792D034FED968\" ...\n",
      " $ rideable_type     : chr [1:190301] \"electric_bike\" \"classic_bike\" \"electric_bike\" \"classic_bike\" ...\n",
      " $ started_at        : POSIXct[1:190301], format: \"2023-01-21 20:05:42\" \"2023-01-10 15:37:36\" ...\n",
      " $ ended_at          : POSIXct[1:190301], format: \"2023-01-21 20:16:33\" \"2023-01-10 15:46:05\" ...\n",
      " $ start_station_name: chr [1:190301] \"Lincoln Ave & Fullerton Ave\" \"Kimbark Ave & 53rd St\" \"Western Ave & Lunt Ave\" \"Kimbark Ave & 53rd St\" ...\n",
      " $ start_station_id  : chr [1:190301] \"TA1309000058\" \"TA1309000037\" \"RP-005\" \"TA1309000037\" ...\n",
      " $ end_station_name  : chr [1:190301] \"Hampden Ct & Diversey Ave\" \"Greenwood Ave & 47th St\" \"Valli Produce - Evanston Plaza\" \"Greenwood Ave & 47th St\" ...\n",
      " $ end_station_id    : chr [1:190301] \"202480.0\" \"TA1308000002\" \"599\" \"TA1308000002\" ...\n",
      " $ start_lat         : num [1:190301] 41.9 41.8 42 41.8 41.8 ...\n",
      " $ start_lng         : num [1:190301] -87.6 -87.6 -87.7 -87.6 -87.6 ...\n",
      " $ end_lat           : num [1:190301] 41.9 41.8 42 41.8 41.8 ...\n",
      " $ end_lng           : num [1:190301] -87.6 -87.6 -87.7 -87.6 -87.6 ...\n",
      " $ member_casual     : chr [1:190301] \"member\" \"member\" \"casual\" \"member\" ...\n",
      " - attr(*, \"spec\")=\n",
      "  .. cols(\n",
      "  ..   ride_id = \u001b[31mcol_character()\u001b[39m,\n",
      "  ..   rideable_type = \u001b[31mcol_character()\u001b[39m,\n",
      "  ..   started_at = \u001b[34mcol_datetime(format = \"\")\u001b[39m,\n",
      "  ..   ended_at = \u001b[34mcol_datetime(format = \"\")\u001b[39m,\n",
      "  ..   start_station_name = \u001b[31mcol_character()\u001b[39m,\n",
      "  ..   start_station_id = \u001b[31mcol_character()\u001b[39m,\n",
      "  ..   end_station_name = \u001b[31mcol_character()\u001b[39m,\n",
      "  ..   end_station_id = \u001b[31mcol_character()\u001b[39m,\n",
      "  ..   start_lat = \u001b[32mcol_double()\u001b[39m,\n",
      "  ..   start_lng = \u001b[32mcol_double()\u001b[39m,\n",
      "  ..   end_lat = \u001b[32mcol_double()\u001b[39m,\n",
      "  ..   end_lng = \u001b[32mcol_double()\u001b[39m,\n",
      "  ..   member_casual = \u001b[31mcol_character()\u001b[39m\n",
      "  .. )\n",
      " - attr(*, \"problems\")=<externalptr> \n",
      "spc_tbl_ [190,445 × 13] (S3: spec_tbl_df/tbl_df/tbl/data.frame)\n",
      " $ ride_id           : chr [1:190445] \"CBCD0D7777F0E45F\" \"F3EC5FCE5FF39DE9\" \"E54C1F27FA9354FF\" \"3D561E04F739CC45\" ...\n",
      " $ rideable_type     : chr [1:190445] \"classic_bike\" \"electric_bike\" \"classic_bike\" \"electric_bike\" ...\n",
      " $ started_at        : POSIXct[1:190445], format: \"2023-02-14 11:59:42\" \"2023-02-15 13:53:48\" ...\n",
      " $ ended_at          : POSIXct[1:190445], format: \"2023-02-14 12:13:38\" \"2023-02-15 13:59:08\" ...\n",
      " $ start_station_name: chr [1:190445] \"Southport Ave & Clybourn Ave\" \"Clarendon Ave & Gordon Ter\" \"Southport Ave & Clybourn Ave\" \"Southport Ave & Clybourn Ave\" ...\n",
      " $ start_station_id  : chr [1:190445] \"TA1309000030\" \"13379\" \"TA1309000030\" \"TA1309000030\" ...\n",
      " $ end_station_name  : chr [1:190445] \"Clark St & Schiller St\" \"Sheridan Rd & Lawrence Ave\" \"Aberdeen St & Monroe St\" \"Franklin St & Adams St (Temp)\" ...\n",
      " $ end_station_id    : chr [1:190445] \"TA1309000024\" \"TA1309000041\" \"13156\" \"TA1309000008\" ...\n",
      " $ start_lat         : num [1:190445] 41.9 42 41.9 41.9 41.8 ...\n",
      " $ start_lng         : num [1:190445] -87.7 -87.6 -87.7 -87.7 -87.6 ...\n",
      " $ end_lat           : num [1:190445] 41.9 42 41.9 41.9 41.8 ...\n",
      " $ end_lng           : num [1:190445] -87.6 -87.7 -87.7 -87.6 -87.6 ...\n",
      " $ member_casual     : chr [1:190445] \"casual\" \"casual\" \"member\" \"member\" ...\n",
      " - attr(*, \"spec\")=\n",
      "  .. cols(\n",
      "  ..   ride_id = \u001b[31mcol_character()\u001b[39m,\n",
      "  ..   rideable_type = \u001b[31mcol_character()\u001b[39m,\n",
      "  ..   started_at = \u001b[34mcol_datetime(format = \"\")\u001b[39m,\n",
      "  ..   ended_at = \u001b[34mcol_datetime(format = \"\")\u001b[39m,\n",
      "  ..   start_station_name = \u001b[31mcol_character()\u001b[39m,\n",
      "  ..   start_station_id = \u001b[31mcol_character()\u001b[39m,\n",
      "  ..   end_station_name = \u001b[31mcol_character()\u001b[39m,\n",
      "  ..   end_station_id = \u001b[31mcol_character()\u001b[39m,\n",
      "  ..   start_lat = \u001b[32mcol_double()\u001b[39m,\n",
      "  ..   start_lng = \u001b[32mcol_double()\u001b[39m,\n",
      "  ..   end_lat = \u001b[32mcol_double()\u001b[39m,\n",
      "  ..   end_lng = \u001b[32mcol_double()\u001b[39m,\n",
      "  ..   member_casual = \u001b[31mcol_character()\u001b[39m\n",
      "  .. )\n",
      " - attr(*, \"problems\")=<externalptr> \n",
      "spc_tbl_ [258,678 × 13] (S3: spec_tbl_df/tbl_df/tbl/data.frame)\n",
      " $ ride_id           : chr [1:258678] \"6842AA605EE9FBB3\" \"F984267A75B99A8C\" \"FF7CF57CFE026D02\" \"6B61B916032CB6D6\" ...\n",
      " $ rideable_type     : chr [1:258678] \"electric_bike\" \"electric_bike\" \"classic_bike\" \"classic_bike\" ...\n",
      " $ started_at        : POSIXct[1:258678], format: \"2023-03-16 08:20:34\" \"2023-03-04 14:07:06\" ...\n",
      " $ ended_at          : POSIXct[1:258678], format: \"2023-03-16 08:22:52\" \"2023-03-04 14:15:31\" ...\n",
      " $ start_station_name: chr [1:258678] \"Clark St & Armitage Ave\" \"Public Rack - Kedzie Ave & Argyle St\" \"Orleans St & Chestnut St (NEXT Apts)\" \"Desplaines St & Kinzie St\" ...\n",
      " $ start_station_id  : chr [1:258678] \"13146\" \"491\" \"620\" \"TA1306000003\" ...\n",
      " $ end_station_name  : chr [1:258678] \"Larrabee St & Webster Ave\" NA \"Clark St & Randolph St\" \"Sheffield Ave & Kingsbury St\" ...\n",
      " $ end_station_id    : chr [1:258678] \"13193\" NA \"TA1305000030\" \"13154\" ...\n",
      " $ start_lat         : num [1:258678] 41.9 42 41.9 41.9 41.9 ...\n",
      " $ start_lng         : num [1:258678] -87.6 -87.7 -87.6 -87.6 -87.7 ...\n",
      " $ end_lat           : num [1:258678] 41.9 42 41.9 41.9 41.9 ...\n",
      " $ end_lng           : num [1:258678] -87.6 -87.7 -87.6 -87.7 -87.7 ...\n",
      " $ member_casual     : chr [1:258678] \"member\" \"member\" \"member\" \"member\" ...\n",
      " - attr(*, \"spec\")=\n",
      "  .. cols(\n",
      "  ..   ride_id = \u001b[31mcol_character()\u001b[39m,\n",
      "  ..   rideable_type = \u001b[31mcol_character()\u001b[39m,\n",
      "  ..   started_at = \u001b[34mcol_datetime(format = \"\")\u001b[39m,\n",
      "  ..   ended_at = \u001b[34mcol_datetime(format = \"\")\u001b[39m,\n",
      "  ..   start_station_name = \u001b[31mcol_character()\u001b[39m,\n",
      "  ..   start_station_id = \u001b[31mcol_character()\u001b[39m,\n",
      "  ..   end_station_name = \u001b[31mcol_character()\u001b[39m,\n",
      "  ..   end_station_id = \u001b[31mcol_character()\u001b[39m,\n",
      "  ..   start_lat = \u001b[32mcol_double()\u001b[39m,\n",
      "  ..   start_lng = \u001b[32mcol_double()\u001b[39m,\n",
      "  ..   end_lat = \u001b[32mcol_double()\u001b[39m,\n",
      "  ..   end_lng = \u001b[32mcol_double()\u001b[39m,\n",
      "  ..   member_casual = \u001b[31mcol_character()\u001b[39m\n",
      "  .. )\n",
      " - attr(*, \"problems\")=<externalptr> \n",
      "spc_tbl_ [426,590 × 13] (S3: spec_tbl_df/tbl_df/tbl/data.frame)\n",
      " $ ride_id           : chr [1:426590] \"8FE8F7D9C10E88C7\" \"34E4ED3ADF1D821B\" \"5296BF07A2F77CB5\" \"40759916B76D5D52\" ...\n",
      " $ rideable_type     : chr [1:426590] \"electric_bike\" \"electric_bike\" \"electric_bike\" \"electric_bike\" ...\n",
      " $ started_at        : POSIXct[1:426590], format: \"2023-04-02 08:37:28\" \"2023-04-19 11:29:02\" ...\n",
      " $ ended_at          : POSIXct[1:426590], format: \"2023-04-02 08:41:37\" \"2023-04-19 11:52:12\" ...\n",
      " $ start_station_name: chr [1:426590] NA NA NA NA ...\n",
      " $ start_station_id  : chr [1:426590] NA NA NA NA ...\n",
      " $ end_station_name  : chr [1:426590] NA NA NA NA ...\n",
      " $ end_station_id    : chr [1:426590] NA NA NA NA ...\n",
      " $ start_lat         : num [1:426590] 41.8 41.9 41.9 41.9 41.9 ...\n",
      " $ start_lng         : num [1:426590] -87.6 -87.7 -87.7 -87.7 -87.7 ...\n",
      " $ end_lat           : num [1:426590] 41.8 41.9 41.9 41.9 41.9 ...\n",
      " $ end_lng           : num [1:426590] -87.6 -87.7 -87.7 -87.7 -87.6 ...\n",
      " $ member_casual     : chr [1:426590] \"member\" \"member\" \"member\" \"member\" ...\n",
      " - attr(*, \"spec\")=\n",
      "  .. cols(\n",
      "  ..   ride_id = \u001b[31mcol_character()\u001b[39m,\n",
      "  ..   rideable_type = \u001b[31mcol_character()\u001b[39m,\n",
      "  ..   started_at = \u001b[34mcol_datetime(format = \"\")\u001b[39m,\n",
      "  ..   ended_at = \u001b[34mcol_datetime(format = \"\")\u001b[39m,\n",
      "  ..   start_station_name = \u001b[31mcol_character()\u001b[39m,\n",
      "  ..   start_station_id = \u001b[31mcol_character()\u001b[39m,\n",
      "  ..   end_station_name = \u001b[31mcol_character()\u001b[39m,\n",
      "  ..   end_station_id = \u001b[31mcol_character()\u001b[39m,\n",
      "  ..   start_lat = \u001b[32mcol_double()\u001b[39m,\n",
      "  ..   start_lng = \u001b[32mcol_double()\u001b[39m,\n",
      "  ..   end_lat = \u001b[32mcol_double()\u001b[39m,\n",
      "  ..   end_lng = \u001b[32mcol_double()\u001b[39m,\n",
      "  ..   member_casual = \u001b[31mcol_character()\u001b[39m\n",
      "  .. )\n",
      " - attr(*, \"problems\")=<externalptr> \n",
      "spc_tbl_ [604,827 × 13] (S3: spec_tbl_df/tbl_df/tbl/data.frame)\n",
      " $ ride_id           : chr [1:604827] \"0D9FA920C3062031\" \"92485E5FB5888ACD\" \"FB144B3FC8300187\" \"DDEB93BC2CE9AA77\" ...\n",
      " $ rideable_type     : chr [1:604827] \"electric_bike\" \"electric_bike\" \"electric_bike\" \"classic_bike\" ...\n",
      " $ started_at        : POSIXct[1:604827], format: \"2023-05-07 19:53:48\" \"2023-05-06 18:54:08\" ...\n",
      " $ ended_at          : POSIXct[1:604827], format: \"2023-05-07 19:58:32\" \"2023-05-06 19:03:35\" ...\n",
      " $ start_station_name: chr [1:604827] \"Southport Ave & Belmont Ave\" \"Southport Ave & Belmont Ave\" \"Halsted St & 21st St\" \"Carpenter St & Huron St\" ...\n",
      " $ start_station_id  : chr [1:604827] \"13229\" \"13229\" \"13162\" \"13196\" ...\n",
      " $ end_station_name  : chr [1:604827] NA NA NA \"Damen Ave & Cortland St\" ...\n",
      " $ end_station_id    : chr [1:604827] NA NA NA \"13133\" ...\n",
      " $ start_lat         : num [1:604827] 41.9 41.9 41.9 41.9 42 ...\n",
      " $ start_lng         : num [1:604827] -87.7 -87.7 -87.6 -87.7 -87.7 ...\n",
      " $ end_lat           : num [1:604827] 41.9 41.9 41.9 41.9 41.9 ...\n",
      " $ end_lng           : num [1:604827] -87.7 -87.7 -87.7 -87.7 -87.7 ...\n",
      " $ member_casual     : chr [1:604827] \"member\" \"member\" \"member\" \"member\" ...\n",
      " - attr(*, \"spec\")=\n",
      "  .. cols(\n",
      "  ..   ride_id = \u001b[31mcol_character()\u001b[39m,\n",
      "  ..   rideable_type = \u001b[31mcol_character()\u001b[39m,\n",
      "  ..   started_at = \u001b[34mcol_datetime(format = \"\")\u001b[39m,\n",
      "  ..   ended_at = \u001b[34mcol_datetime(format = \"\")\u001b[39m,\n",
      "  ..   start_station_name = \u001b[31mcol_character()\u001b[39m,\n",
      "  ..   start_station_id = \u001b[31mcol_character()\u001b[39m,\n",
      "  ..   end_station_name = \u001b[31mcol_character()\u001b[39m,\n",
      "  ..   end_station_id = \u001b[31mcol_character()\u001b[39m,\n",
      "  ..   start_lat = \u001b[32mcol_double()\u001b[39m,\n",
      "  ..   start_lng = \u001b[32mcol_double()\u001b[39m,\n",
      "  ..   end_lat = \u001b[32mcol_double()\u001b[39m,\n",
      "  ..   end_lng = \u001b[32mcol_double()\u001b[39m,\n",
      "  ..   member_casual = \u001b[31mcol_character()\u001b[39m\n",
      "  .. )\n",
      " - attr(*, \"problems\")=<externalptr> \n",
      "spc_tbl_ [719,618 × 13] (S3: spec_tbl_df/tbl_df/tbl/data.frame)\n",
      " $ ride_id           : chr [1:719618] \"6F1682AC40EB6F71\" \"622A1686D64948EB\" \"3C88859D926253B4\" \"EAD8A5E0259DEC88\" ...\n",
      " $ rideable_type     : chr [1:719618] \"electric_bike\" \"electric_bike\" \"electric_bike\" \"electric_bike\" ...\n",
      " $ started_at        : POSIXct[1:719618], format: \"2023-06-05 13:34:12\" \"2023-06-05 01:30:22\" ...\n",
      " $ ended_at          : POSIXct[1:719618], format: \"2023-06-05 14:31:56\" \"2023-06-05 01:33:06\" ...\n",
      " $ start_station_name: chr [1:719618] NA NA NA NA ...\n",
      " $ start_station_id  : chr [1:719618] NA NA NA NA ...\n",
      " $ end_station_name  : chr [1:719618] NA NA NA NA ...\n",
      " $ end_station_id    : chr [1:719618] NA NA NA NA ...\n",
      " $ start_lat         : num [1:719618] 41.9 41.9 42 42 42 ...\n",
      " $ start_lng         : num [1:719618] -87.7 -87.7 -87.7 -87.7 -87.7 ...\n",
      " $ end_lat           : num [1:719618] 41.9 41.9 41.9 42 42 ...\n",
      " $ end_lng           : num [1:719618] -87.7 -87.7 -87.6 -87.7 -87.7 ...\n",
      " $ member_casual     : chr [1:719618] \"member\" \"member\" \"member\" \"member\" ...\n",
      " - attr(*, \"spec\")=\n",
      "  .. cols(\n",
      "  ..   ride_id = \u001b[31mcol_character()\u001b[39m,\n",
      "  ..   rideable_type = \u001b[31mcol_character()\u001b[39m,\n",
      "  ..   started_at = \u001b[34mcol_datetime(format = \"\")\u001b[39m,\n",
      "  ..   ended_at = \u001b[34mcol_datetime(format = \"\")\u001b[39m,\n",
      "  ..   start_station_name = \u001b[31mcol_character()\u001b[39m,\n",
      "  ..   start_station_id = \u001b[31mcol_character()\u001b[39m,\n",
      "  ..   end_station_name = \u001b[31mcol_character()\u001b[39m,\n",
      "  ..   end_station_id = \u001b[31mcol_character()\u001b[39m,\n",
      "  ..   start_lat = \u001b[32mcol_double()\u001b[39m,\n",
      "  ..   start_lng = \u001b[32mcol_double()\u001b[39m,\n",
      "  ..   end_lat = \u001b[32mcol_double()\u001b[39m,\n",
      "  ..   end_lng = \u001b[32mcol_double()\u001b[39m,\n",
      "  ..   member_casual = \u001b[31mcol_character()\u001b[39m\n",
      "  .. )\n",
      " - attr(*, \"problems\")=<externalptr> \n",
      "spc_tbl_ [767,650 × 13] (S3: spec_tbl_df/tbl_df/tbl/data.frame)\n",
      " $ ride_id           : chr [1:767650] \"9340B064F0AEE130\" \"D1460EE3CE0D8AF8\" \"DF41BE31B895A25E\" \"9624A293749EF703\" ...\n",
      " $ rideable_type     : chr [1:767650] \"electric_bike\" \"classic_bike\" \"classic_bike\" \"electric_bike\" ...\n",
      " $ started_at        : POSIXct[1:767650], format: \"2023-07-23 20:06:14\" \"2023-07-23 17:05:07\" ...\n",
      " $ ended_at          : POSIXct[1:767650], format: \"2023-07-23 20:22:44\" \"2023-07-23 17:18:37\" ...\n",
      " $ start_station_name: chr [1:767650] \"Kedzie Ave & 110th St\" \"Western Ave & Walton St\" \"Western Ave & Walton St\" \"Racine Ave & Randolph St\" ...\n",
      " $ start_station_id  : chr [1:767650] \"20204\" \"KA1504000103\" \"KA1504000103\" \"13155\" ...\n",
      " $ end_station_name  : chr [1:767650] \"Public Rack - Racine Ave & 109th Pl\" \"Milwaukee Ave & Grand Ave\" \"Damen Ave & Pierce Ave\" \"Clinton St & Madison St\" ...\n",
      " $ end_station_id    : chr [1:767650] \"877\" \"13033\" \"TA1305000041\" \"TA1305000032\" ...\n",
      " $ start_lat         : num [1:767650] 41.7 41.9 41.9 41.9 42 ...\n",
      " $ start_lng         : num [1:767650] -87.7 -87.7 -87.7 -87.7 -87.7 ...\n",
      " $ end_lat           : num [1:767650] 41.7 41.9 41.9 41.9 42 ...\n",
      " $ end_lng           : num [1:767650] -87.7 -87.6 -87.7 -87.6 -87.6 ...\n",
      " $ member_casual     : chr [1:767650] \"member\" \"member\" \"member\" \"member\" ...\n",
      " - attr(*, \"spec\")=\n",
      "  .. cols(\n",
      "  ..   ride_id = \u001b[31mcol_character()\u001b[39m,\n",
      "  ..   rideable_type = \u001b[31mcol_character()\u001b[39m,\n",
      "  ..   started_at = \u001b[34mcol_datetime(format = \"\")\u001b[39m,\n",
      "  ..   ended_at = \u001b[34mcol_datetime(format = \"\")\u001b[39m,\n",
      "  ..   start_station_name = \u001b[31mcol_character()\u001b[39m,\n",
      "  ..   start_station_id = \u001b[31mcol_character()\u001b[39m,\n",
      "  ..   end_station_name = \u001b[31mcol_character()\u001b[39m,\n",
      "  ..   end_station_id = \u001b[31mcol_character()\u001b[39m,\n",
      "  ..   start_lat = \u001b[32mcol_double()\u001b[39m,\n",
      "  ..   start_lng = \u001b[32mcol_double()\u001b[39m,\n",
      "  ..   end_lat = \u001b[32mcol_double()\u001b[39m,\n",
      "  ..   end_lng = \u001b[32mcol_double()\u001b[39m,\n",
      "  ..   member_casual = \u001b[31mcol_character()\u001b[39m\n",
      "  .. )\n",
      " - attr(*, \"problems\")=<externalptr> \n",
      "spc_tbl_ [771,693 × 13] (S3: spec_tbl_df/tbl_df/tbl/data.frame)\n",
      " $ ride_id           : chr [1:771693] \"903C30C2D810A53B\" \"F2FB18A98E110A2B\" \"D0DEC7C94E4663DA\" \"E0DDDC5F84747ED9\" ...\n",
      " $ rideable_type     : chr [1:771693] \"electric_bike\" \"electric_bike\" \"electric_bike\" \"electric_bike\" ...\n",
      " $ started_at        : POSIXct[1:771693], format: \"2023-08-19 15:41:53\" \"2023-08-18 15:30:18\" ...\n",
      " $ ended_at          : POSIXct[1:771693], format: \"2023-08-19 15:53:36\" \"2023-08-18 15:45:25\" ...\n",
      " $ start_station_name: chr [1:771693] \"LaSalle St & Illinois St\" \"Clark St & Randolph St\" \"Clark St & Randolph St\" \"Wells St & Elm St\" ...\n",
      " $ start_station_id  : chr [1:771693] \"13430\" \"TA1305000030\" \"TA1305000030\" \"KA1504000135\" ...\n",
      " $ end_station_name  : chr [1:771693] \"Clark St & Elm St\" NA NA NA ...\n",
      " $ end_station_id    : chr [1:771693] \"TA1307000039\" NA NA NA ...\n",
      " $ start_lat         : num [1:771693] 41.9 41.9 41.9 41.9 41.9 ...\n",
      " $ start_lng         : num [1:771693] -87.6 -87.6 -87.6 -87.6 -87.6 ...\n",
      " $ end_lat           : num [1:771693] 41.9 41.9 41.9 41.9 41.9 ...\n",
      " $ end_lng           : num [1:771693] -87.6 -87.6 -87.6 -87.6 -87.7 ...\n",
      " $ member_casual     : chr [1:771693] \"member\" \"member\" \"member\" \"member\" ...\n",
      " - attr(*, \"spec\")=\n",
      "  .. cols(\n",
      "  ..   ride_id = \u001b[31mcol_character()\u001b[39m,\n",
      "  ..   rideable_type = \u001b[31mcol_character()\u001b[39m,\n",
      "  ..   started_at = \u001b[34mcol_datetime(format = \"\")\u001b[39m,\n",
      "  ..   ended_at = \u001b[34mcol_datetime(format = \"\")\u001b[39m,\n",
      "  ..   start_station_name = \u001b[31mcol_character()\u001b[39m,\n",
      "  ..   start_station_id = \u001b[31mcol_character()\u001b[39m,\n",
      "  ..   end_station_name = \u001b[31mcol_character()\u001b[39m,\n",
      "  ..   end_station_id = \u001b[31mcol_character()\u001b[39m,\n",
      "  ..   start_lat = \u001b[32mcol_double()\u001b[39m,\n",
      "  ..   start_lng = \u001b[32mcol_double()\u001b[39m,\n",
      "  ..   end_lat = \u001b[32mcol_double()\u001b[39m,\n",
      "  ..   end_lng = \u001b[32mcol_double()\u001b[39m,\n",
      "  ..   member_casual = \u001b[31mcol_character()\u001b[39m\n",
      "  .. )\n",
      " - attr(*, \"problems\")=<externalptr> \n",
      "spc_tbl_ [666,371 × 13] (S3: spec_tbl_df/tbl_df/tbl/data.frame)\n",
      " $ ride_id           : chr [1:666371] \"011C1903BF4E2E28\" \"87DB80E048A1BF9F\" \"7C2EB7AF669066E3\" \"57D197B010269CE3\" ...\n",
      " $ rideable_type     : chr [1:666371] \"classic_bike\" \"classic_bike\" \"electric_bike\" \"classic_bike\" ...\n",
      " $ started_at        : POSIXct[1:666371], format: \"2023-09-23 00:27:50\" \"2023-09-02 09:26:43\" ...\n",
      " $ ended_at          : POSIXct[1:666371], format: \"2023-09-23 00:33:27\" \"2023-09-02 09:38:19\" ...\n",
      " $ start_station_name: chr [1:666371] \"Halsted St & Wrightwood Ave\" \"Clark St & Drummond Pl\" \"Financial Pl & Ida B Wells Dr\" \"Clark St & Drummond Pl\" ...\n",
      " $ start_station_id  : chr [1:666371] \"TA1309000061\" \"TA1307000142\" \"SL-010\" \"TA1307000142\" ...\n",
      " $ end_station_name  : chr [1:666371] \"Sheffield Ave & Wellington Ave\" \"Racine Ave & Fullerton Ave\" \"Racine Ave & 15th St\" \"Racine Ave & Belmont Ave\" ...\n",
      " $ end_station_id    : chr [1:666371] \"TA1307000052\" \"TA1306000026\" \"13304\" \"TA1308000019\" ...\n",
      " $ start_lat         : num [1:666371] 41.9 41.9 41.9 41.9 41.9 ...\n",
      " $ start_lng         : num [1:666371] -87.6 -87.6 -87.6 -87.6 -87.6 ...\n",
      " $ end_lat           : num [1:666371] 41.9 41.9 41.9 41.9 41.9 ...\n",
      " $ end_lng           : num [1:666371] -87.7 -87.7 -87.7 -87.7 -87.7 ...\n",
      " $ member_casual     : chr [1:666371] \"member\" \"member\" \"member\" \"member\" ...\n",
      " - attr(*, \"spec\")=\n",
      "  .. cols(\n",
      "  ..   ride_id = \u001b[31mcol_character()\u001b[39m,\n",
      "  ..   rideable_type = \u001b[31mcol_character()\u001b[39m,\n",
      "  ..   started_at = \u001b[34mcol_datetime(format = \"\")\u001b[39m,\n",
      "  ..   ended_at = \u001b[34mcol_datetime(format = \"\")\u001b[39m,\n",
      "  ..   start_station_name = \u001b[31mcol_character()\u001b[39m,\n",
      "  ..   start_station_id = \u001b[31mcol_character()\u001b[39m,\n",
      "  ..   end_station_name = \u001b[31mcol_character()\u001b[39m,\n",
      "  ..   end_station_id = \u001b[31mcol_character()\u001b[39m,\n",
      "  ..   start_lat = \u001b[32mcol_double()\u001b[39m,\n",
      "  ..   start_lng = \u001b[32mcol_double()\u001b[39m,\n",
      "  ..   end_lat = \u001b[32mcol_double()\u001b[39m,\n",
      "  ..   end_lng = \u001b[32mcol_double()\u001b[39m,\n",
      "  ..   member_casual = \u001b[31mcol_character()\u001b[39m\n",
      "  .. )\n",
      " - attr(*, \"problems\")=<externalptr> \n",
      "spc_tbl_ [537,113 × 13] (S3: spec_tbl_df/tbl_df/tbl/data.frame)\n",
      " $ ride_id           : chr [1:537113] \"4449097279F8BBE7\" \"9CF060543CA7B439\" \"667F21F4D6BDE69C\" \"F92714CC6B019B96\" ...\n",
      " $ rideable_type     : chr [1:537113] \"classic_bike\" \"electric_bike\" \"electric_bike\" \"classic_bike\" ...\n",
      " $ started_at        : POSIXct[1:537113], format: \"2023-10-08 10:36:26\" \"2023-10-11 17:23:59\" ...\n",
      " $ ended_at          : POSIXct[1:537113], format: \"2023-10-08 10:49:19\" \"2023-10-11 17:36:08\" ...\n",
      " $ start_station_name: chr [1:537113] \"Orleans St & Chestnut St (NEXT Apts)\" \"Desplaines St & Kinzie St\" \"Orleans St & Chestnut St (NEXT Apts)\" \"Desplaines St & Kinzie St\" ...\n",
      " $ start_station_id  : chr [1:537113] \"620\" \"TA1306000003\" \"620\" \"TA1306000003\" ...\n",
      " $ end_station_name  : chr [1:537113] \"Sheffield Ave & Webster Ave\" \"Sheffield Ave & Webster Ave\" \"Franklin St & Lake St\" \"Franklin St & Lake St\" ...\n",
      " $ end_station_id    : chr [1:537113] \"TA1309000033\" \"TA1309000033\" \"TA1307000111\" \"TA1307000111\" ...\n",
      " $ start_lat         : num [1:537113] 41.9 41.9 41.9 41.9 41.9 ...\n",
      " $ start_lng         : num [1:537113] -87.6 -87.6 -87.6 -87.6 -87.6 ...\n",
      " $ end_lat           : num [1:537113] 41.9 41.9 41.9 41.9 41.9 ...\n",
      " $ end_lng           : num [1:537113] -87.7 -87.7 -87.6 -87.6 -87.6 ...\n",
      " $ member_casual     : chr [1:537113] \"member\" \"member\" \"member\" \"member\" ...\n",
      " - attr(*, \"spec\")=\n",
      "  .. cols(\n",
      "  ..   ride_id = \u001b[31mcol_character()\u001b[39m,\n",
      "  ..   rideable_type = \u001b[31mcol_character()\u001b[39m,\n",
      "  ..   started_at = \u001b[34mcol_datetime(format = \"\")\u001b[39m,\n",
      "  ..   ended_at = \u001b[34mcol_datetime(format = \"\")\u001b[39m,\n",
      "  ..   start_station_name = \u001b[31mcol_character()\u001b[39m,\n",
      "  ..   start_station_id = \u001b[31mcol_character()\u001b[39m,\n",
      "  ..   end_station_name = \u001b[31mcol_character()\u001b[39m,\n",
      "  ..   end_station_id = \u001b[31mcol_character()\u001b[39m,\n",
      "  ..   start_lat = \u001b[32mcol_double()\u001b[39m,\n",
      "  ..   start_lng = \u001b[32mcol_double()\u001b[39m,\n",
      "  ..   end_lat = \u001b[32mcol_double()\u001b[39m,\n",
      "  ..   end_lng = \u001b[32mcol_double()\u001b[39m,\n",
      "  ..   member_casual = \u001b[31mcol_character()\u001b[39m\n",
      "  .. )\n",
      " - attr(*, \"problems\")=<externalptr> \n",
      "spc_tbl_ [362,518 × 13] (S3: spec_tbl_df/tbl_df/tbl/data.frame)\n",
      " $ ride_id           : chr [1:362518] \"4EAD8F1AD547356B\" \"6322270563BF5470\" \"B37BDE091ECA38E0\" \"CF0CA5DD26E4F90E\" ...\n",
      " $ rideable_type     : chr [1:362518] \"electric_bike\" \"electric_bike\" \"electric_bike\" \"classic_bike\" ...\n",
      " $ started_at        : POSIXct[1:362518], format: \"2023-11-30 21:50:05\" \"2023-11-03 09:44:02\" ...\n",
      " $ ended_at          : POSIXct[1:362518], format: \"2023-11-30 22:13:27\" \"2023-11-03 10:17:15\" ...\n",
      " $ start_station_name: chr [1:362518] \"Millennium Park\" \"Broadway & Sheridan Rd\" \"State St & Pearson St\" \"Theater on the Lake\" ...\n",
      " $ start_station_id  : chr [1:362518] \"13008\" \"13323\" \"TA1307000061\" \"TA1308000001\" ...\n",
      " $ end_station_name  : chr [1:362518] \"Pine Grove Ave & Waveland Ave\" \"Broadway & Sheridan Rd\" \"State St & Pearson St\" \"Theater on the Lake\" ...\n",
      " $ end_station_id    : chr [1:362518] \"TA1307000150\" \"13323\" \"TA1307000061\" \"TA1308000001\" ...\n",
      " $ start_lat         : num [1:362518] 41.9 42 41.9 41.9 41.9 ...\n",
      " $ start_lng         : num [1:362518] -87.6 -87.7 -87.6 -87.6 -87.6 ...\n",
      " $ end_lat           : num [1:362518] 41.9 42 41.9 41.9 41.9 ...\n",
      " $ end_lng           : num [1:362518] -87.6 -87.6 -87.6 -87.6 -87.6 ...\n",
      " $ member_casual     : chr [1:362518] \"member\" \"member\" \"member\" \"member\" ...\n",
      " - attr(*, \"spec\")=\n",
      "  .. cols(\n",
      "  ..   ride_id = \u001b[31mcol_character()\u001b[39m,\n",
      "  ..   rideable_type = \u001b[31mcol_character()\u001b[39m,\n",
      "  ..   started_at = \u001b[34mcol_datetime(format = \"\")\u001b[39m,\n",
      "  ..   ended_at = \u001b[34mcol_datetime(format = \"\")\u001b[39m,\n",
      "  ..   start_station_name = \u001b[31mcol_character()\u001b[39m,\n",
      "  ..   start_station_id = \u001b[31mcol_character()\u001b[39m,\n",
      "  ..   end_station_name = \u001b[31mcol_character()\u001b[39m,\n",
      "  ..   end_station_id = \u001b[31mcol_character()\u001b[39m,\n",
      "  ..   start_lat = \u001b[32mcol_double()\u001b[39m,\n",
      "  ..   start_lng = \u001b[32mcol_double()\u001b[39m,\n",
      "  ..   end_lat = \u001b[32mcol_double()\u001b[39m,\n",
      "  ..   end_lng = \u001b[32mcol_double()\u001b[39m,\n",
      "  ..   member_casual = \u001b[31mcol_character()\u001b[39m\n",
      "  .. )\n",
      " - attr(*, \"problems\")=<externalptr> \n",
      "spc_tbl_ [224,073 × 13] (S3: spec_tbl_df/tbl_df/tbl/data.frame)\n",
      " $ ride_id           : chr [1:224073] \"C9BD54F578F57246\" \"CDBD92F067FA620E\" \"ABC0858E52CBFC84\" \"F44B6F0E8F76DC90\" ...\n",
      " $ rideable_type     : chr [1:224073] \"electric_bike\" \"electric_bike\" \"electric_bike\" \"electric_bike\" ...\n",
      " $ started_at        : chr [1:224073] \"02-12-23 18:44\" \"02-12-23 18:48\" \"24-12-23 1:56\" \"24-12-23 10:58\" ...\n",
      " $ ended_at          : chr [1:224073] \"02-12-23 18:47\" \"02-12-23 18:54\" \"24-12-23 2:04\" \"24-12-23 11:03\" ...\n",
      " $ start_station_name: chr [1:224073] NA NA NA NA ...\n",
      " $ start_station_id  : chr [1:224073] NA NA NA NA ...\n",
      " $ end_station_name  : chr [1:224073] NA NA NA NA ...\n",
      " $ end_station_id    : chr [1:224073] NA NA NA NA ...\n",
      " $ start_lat         : num [1:224073] 41.9 41.9 41.9 42 41.9 ...\n",
      " $ start_lng         : num [1:224073] -87.7 -87.7 -87.6 -87.7 -87.6 ...\n",
      " $ end_lat           : num [1:224073] 41.9 41.9 41.9 41.9 41.9 ...\n",
      " $ end_lng           : num [1:224073] -87.7 -87.6 -87.6 -87.7 -87.6 ...\n",
      " $ member_casual     : chr [1:224073] \"member\" \"member\" \"member\" \"member\" ...\n",
      " - attr(*, \"spec\")=\n",
      "  .. cols(\n",
      "  ..   ride_id = \u001b[31mcol_character()\u001b[39m,\n",
      "  ..   rideable_type = \u001b[31mcol_character()\u001b[39m,\n",
      "  ..   started_at = \u001b[31mcol_character()\u001b[39m,\n",
      "  ..   ended_at = \u001b[31mcol_character()\u001b[39m,\n",
      "  ..   start_station_name = \u001b[31mcol_character()\u001b[39m,\n",
      "  ..   start_station_id = \u001b[31mcol_character()\u001b[39m,\n",
      "  ..   end_station_name = \u001b[31mcol_character()\u001b[39m,\n",
      "  ..   end_station_id = \u001b[31mcol_character()\u001b[39m,\n",
      "  ..   start_lat = \u001b[32mcol_double()\u001b[39m,\n",
      "  ..   start_lng = \u001b[32mcol_double()\u001b[39m,\n",
      "  ..   end_lat = \u001b[32mcol_double()\u001b[39m,\n",
      "  ..   end_lng = \u001b[32mcol_double()\u001b[39m,\n",
      "  ..   member_casual = \u001b[31mcol_character()\u001b[39m\n",
      "  .. )\n",
      " - attr(*, \"problems\")=<externalptr> \n"
     ]
    }
   ],
   "source": [
    "#Check structure of datasets\n",
    "str(Jan2023)\n",
    "str(Feb2023)\n",
    "str(Mar2023)\n",
    "str(Apr2023)\n",
    "str(May2023)\n",
    "str(Jun2023)\n",
    "str(Jul2023)\n",
    "str(Aug2023)\n",
    "str(Sep2023)\n",
    "str(Oct2023)\n",
    "str(Nov2023)\n",
    "str(Dec2023)"
   ]
  },
  {
   "cell_type": "code",
   "execution_count": 4,
   "id": "c5da0e2d",
   "metadata": {
    "execution": {
     "iopub.execute_input": "2024-05-23T16:56:43.433231Z",
     "iopub.status.busy": "2024-05-23T16:56:43.431492Z",
     "iopub.status.idle": "2024-05-23T16:56:43.587213Z",
     "shell.execute_reply": "2024-05-23T16:56:43.585112Z"
    },
    "papermill": {
     "duration": 0.174723,
     "end_time": "2024-05-23T16:56:43.590475",
     "exception": false,
     "start_time": "2024-05-23T16:56:43.415752",
     "status": "completed"
    },
    "tags": []
   },
   "outputs": [],
   "source": [
    "#Upon checking, data of 'started_at' and 'ended_at' in 'Dec2023' are in chr value. Need to change the structure for these columns\n",
    "Dec2023$started_at = dmy_hm(Dec2023$started_at)\n",
    "Dec2023$ended_at = dmy_hm(Dec2023$ended_at)"
   ]
  },
  {
   "cell_type": "code",
   "execution_count": 5,
   "id": "5ccdb309",
   "metadata": {
    "execution": {
     "iopub.execute_input": "2024-05-23T16:56:43.622216Z",
     "iopub.status.busy": "2024-05-23T16:56:43.620289Z",
     "iopub.status.idle": "2024-05-23T16:56:43.665538Z",
     "shell.execute_reply": "2024-05-23T16:56:43.663198Z"
    },
    "papermill": {
     "duration": 0.064192,
     "end_time": "2024-05-23T16:56:43.668564",
     "exception": false,
     "start_time": "2024-05-23T16:56:43.604372",
     "status": "completed"
    },
    "tags": []
   },
   "outputs": [
    {
     "name": "stdout",
     "output_type": "stream",
     "text": [
      "spc_tbl_ [224,073 × 13] (S3: spec_tbl_df/tbl_df/tbl/data.frame)\n",
      " $ ride_id           : chr [1:224073] \"C9BD54F578F57246\" \"CDBD92F067FA620E\" \"ABC0858E52CBFC84\" \"F44B6F0E8F76DC90\" ...\n",
      " $ rideable_type     : chr [1:224073] \"electric_bike\" \"electric_bike\" \"electric_bike\" \"electric_bike\" ...\n",
      " $ started_at        : POSIXct[1:224073], format: \"2023-12-02 18:44:00\" \"2023-12-02 18:48:00\" ...\n",
      " $ ended_at          : POSIXct[1:224073], format: \"2023-12-02 18:47:00\" \"2023-12-02 18:54:00\" ...\n",
      " $ start_station_name: chr [1:224073] NA NA NA NA ...\n",
      " $ start_station_id  : chr [1:224073] NA NA NA NA ...\n",
      " $ end_station_name  : chr [1:224073] NA NA NA NA ...\n",
      " $ end_station_id    : chr [1:224073] NA NA NA NA ...\n",
      " $ start_lat         : num [1:224073] 41.9 41.9 41.9 42 41.9 ...\n",
      " $ start_lng         : num [1:224073] -87.7 -87.7 -87.6 -87.7 -87.6 ...\n",
      " $ end_lat           : num [1:224073] 41.9 41.9 41.9 41.9 41.9 ...\n",
      " $ end_lng           : num [1:224073] -87.7 -87.6 -87.6 -87.7 -87.6 ...\n",
      " $ member_casual     : chr [1:224073] \"member\" \"member\" \"member\" \"member\" ...\n",
      " - attr(*, \"spec\")=\n",
      "  .. cols(\n",
      "  ..   ride_id = \u001b[31mcol_character()\u001b[39m,\n",
      "  ..   rideable_type = \u001b[31mcol_character()\u001b[39m,\n",
      "  ..   started_at = \u001b[31mcol_character()\u001b[39m,\n",
      "  ..   ended_at = \u001b[31mcol_character()\u001b[39m,\n",
      "  ..   start_station_name = \u001b[31mcol_character()\u001b[39m,\n",
      "  ..   start_station_id = \u001b[31mcol_character()\u001b[39m,\n",
      "  ..   end_station_name = \u001b[31mcol_character()\u001b[39m,\n",
      "  ..   end_station_id = \u001b[31mcol_character()\u001b[39m,\n",
      "  ..   start_lat = \u001b[32mcol_double()\u001b[39m,\n",
      "  ..   start_lng = \u001b[32mcol_double()\u001b[39m,\n",
      "  ..   end_lat = \u001b[32mcol_double()\u001b[39m,\n",
      "  ..   end_lng = \u001b[32mcol_double()\u001b[39m,\n",
      "  ..   member_casual = \u001b[31mcol_character()\u001b[39m\n",
      "  .. )\n",
      " - attr(*, \"problems\")=<externalptr> \n"
     ]
    }
   ],
   "source": [
    "str(Dec2023)"
   ]
  },
  {
   "cell_type": "code",
   "execution_count": 6,
   "id": "3afe1d6a",
   "metadata": {
    "execution": {
     "iopub.execute_input": "2024-05-23T16:56:43.700383Z",
     "iopub.status.busy": "2024-05-23T16:56:43.698477Z",
     "iopub.status.idle": "2024-05-23T16:56:48.451101Z",
     "shell.execute_reply": "2024-05-23T16:56:48.449298Z"
    },
    "papermill": {
     "duration": 4.771224,
     "end_time": "2024-05-23T16:56:48.453658",
     "exception": false,
     "start_time": "2024-05-23T16:56:43.682434",
     "status": "completed"
    },
    "tags": []
   },
   "outputs": [],
   "source": [
    "#Merging all datasets into one new dataset\n",
    "merged_cyclistic2023 <- bind_rows(Jan2023, Feb2023, Mar2023, Apr2023, May2023, Jun2023, Jul2023, Aug2023, Sep2023, Oct2023, Nov2023, Dec2023)"
   ]
  },
  {
   "cell_type": "markdown",
   "id": "376a3d30",
   "metadata": {
    "papermill": {
     "duration": 0.01385,
     "end_time": "2024-05-23T16:56:48.481749",
     "exception": false,
     "start_time": "2024-05-23T16:56:48.467899",
     "status": "completed"
    },
    "tags": []
   },
   "source": [
    "**Check the summary of 'merged_cyclistic2023' dataset**\n",
    "* There are 5,719,877 observations of data with 13 variables of data\n",
    "* The data can be group based on the following category: *rideable_type, member_casual, start_station_name, start_station_id, end_station_name, end_station_id*\n",
    "> * **ride_id:** There are 5,719,877 rows for ride_id, indicating that the ride_id is unique regardless users are casual riders or members. \n",
    "> * **rideable_type:** 2,696,011 rows are classic_bike, 78,287 rows are docked_bike and 2,945,579 rows are electric_bike\n",
    "> * **member_casual:** 2,059,179 rides were made by casual riders, 3,660,698 rides were made by members.\n",
    "* started_at and ended_at columns are in dttm variables which associated with the ride time in which we can determine the month, days and seasons of the ride time.\n",
    "* start_lat, start_lng, end_lat, and end_lng columns contain the location data of where the ride started and ended."
   ]
  },
  {
   "cell_type": "code",
   "execution_count": 7,
   "id": "054b0fc8",
   "metadata": {
    "execution": {
     "iopub.execute_input": "2024-05-23T16:56:48.512525Z",
     "iopub.status.busy": "2024-05-23T16:56:48.511034Z",
     "iopub.status.idle": "2024-05-23T16:56:54.463804Z",
     "shell.execute_reply": "2024-05-23T16:56:54.461504Z"
    },
    "papermill": {
     "duration": 5.971483,
     "end_time": "2024-05-23T16:56:54.466968",
     "exception": false,
     "start_time": "2024-05-23T16:56:48.495485",
     "status": "completed"
    },
    "tags": []
   },
   "outputs": [
    {
     "data": {
      "text/plain": [
       "   ride_id          rideable_type        started_at                 \n",
       " Length:5719877     Length:5719877     Min.   :2023-01-01 00:01:58  \n",
       " Class :character   Class :character   1st Qu.:2023-05-21 12:50:44  \n",
       " Mode  :character   Mode  :character   Median :2023-07-20 18:02:50  \n",
       "                                       Mean   :2023-07-16 10:27:48  \n",
       "                                       3rd Qu.:2023-09-16 20:08:49  \n",
       "                                       Max.   :2023-12-31 23:59:00  \n",
       "                                                                    \n",
       "    ended_at                   start_station_name start_station_id  \n",
       " Min.   :2023-01-01 00:02:41   Length:5719877     Length:5719877    \n",
       " 1st Qu.:2023-05-21 13:14:09   Class :character   Class :character  \n",
       " Median :2023-07-20 18:19:47   Mode  :character   Mode  :character  \n",
       " Mean   :2023-07-16 10:45:59                                        \n",
       " 3rd Qu.:2023-09-16 20:28:10                                        \n",
       " Max.   :2024-01-01 23:50:00                                        \n",
       "                                                                    \n",
       " end_station_name   end_station_id       start_lat       start_lng     \n",
       " Length:5719877     Length:5719877     Min.   :41.63   Min.   :-87.94  \n",
       " Class :character   Class :character   1st Qu.:41.88   1st Qu.:-87.66  \n",
       " Mode  :character   Mode  :character   Median :41.90   Median :-87.64  \n",
       "                                       Mean   :41.90   Mean   :-87.65  \n",
       "                                       3rd Qu.:41.93   3rd Qu.:-87.63  \n",
       "                                       Max.   :42.07   Max.   :-87.46  \n",
       "                                                                       \n",
       "    end_lat         end_lng       member_casual     \n",
       " Min.   : 0.00   Min.   :-88.16   Length:5719877    \n",
       " 1st Qu.:41.88   1st Qu.:-87.66   Class :character  \n",
       " Median :41.90   Median :-87.64   Mode  :character  \n",
       " Mean   :41.90   Mean   :-87.65                     \n",
       " 3rd Qu.:41.93   3rd Qu.:-87.63                     \n",
       " Max.   :42.18   Max.   :  0.00                     \n",
       " NA's   :6990    NA's   :6990                       "
      ]
     },
     "metadata": {},
     "output_type": "display_data"
    },
    {
     "data": {
      "text/html": [
       "<style>\n",
       ".list-inline {list-style: none; margin:0; padding: 0}\n",
       ".list-inline>li {display: inline-block}\n",
       ".list-inline>li:not(:last-child)::after {content: \"\\00b7\"; padding: 0 .5ex}\n",
       "</style>\n",
       "<ol class=list-inline><li>'ride_id'</li><li>'rideable_type'</li><li>'started_at'</li><li>'ended_at'</li><li>'start_station_name'</li><li>'start_station_id'</li><li>'end_station_name'</li><li>'end_station_id'</li><li>'start_lat'</li><li>'start_lng'</li><li>'end_lat'</li><li>'end_lng'</li><li>'member_casual'</li></ol>\n"
      ],
      "text/latex": [
       "\\begin{enumerate*}\n",
       "\\item 'ride\\_id'\n",
       "\\item 'rideable\\_type'\n",
       "\\item 'started\\_at'\n",
       "\\item 'ended\\_at'\n",
       "\\item 'start\\_station\\_name'\n",
       "\\item 'start\\_station\\_id'\n",
       "\\item 'end\\_station\\_name'\n",
       "\\item 'end\\_station\\_id'\n",
       "\\item 'start\\_lat'\n",
       "\\item 'start\\_lng'\n",
       "\\item 'end\\_lat'\n",
       "\\item 'end\\_lng'\n",
       "\\item 'member\\_casual'\n",
       "\\end{enumerate*}\n"
      ],
      "text/markdown": [
       "1. 'ride_id'\n",
       "2. 'rideable_type'\n",
       "3. 'started_at'\n",
       "4. 'ended_at'\n",
       "5. 'start_station_name'\n",
       "6. 'start_station_id'\n",
       "7. 'end_station_name'\n",
       "8. 'end_station_id'\n",
       "9. 'start_lat'\n",
       "10. 'start_lng'\n",
       "11. 'end_lat'\n",
       "12. 'end_lng'\n",
       "13. 'member_casual'\n",
       "\n",
       "\n"
      ],
      "text/plain": [
       " [1] \"ride_id\"            \"rideable_type\"      \"started_at\"        \n",
       " [4] \"ended_at\"           \"start_station_name\" \"start_station_id\"  \n",
       " [7] \"end_station_name\"   \"end_station_id\"     \"start_lat\"         \n",
       "[10] \"start_lng\"          \"end_lat\"            \"end_lng\"           \n",
       "[13] \"member_casual\"     "
      ]
     },
     "metadata": {},
     "output_type": "display_data"
    },
    {
     "data": {
      "text/html": [
       "5719877"
      ],
      "text/latex": [
       "5719877"
      ],
      "text/markdown": [
       "5719877"
      ],
      "text/plain": [
       "[1] 5719877"
      ]
     },
     "metadata": {},
     "output_type": "display_data"
    },
    {
     "data": {
      "text/html": [
       "<table class=\"dataframe\">\n",
       "<caption>A tibble: 6 × 13</caption>\n",
       "<thead>\n",
       "\t<tr><th scope=col>ride_id</th><th scope=col>rideable_type</th><th scope=col>started_at</th><th scope=col>ended_at</th><th scope=col>start_station_name</th><th scope=col>start_station_id</th><th scope=col>end_station_name</th><th scope=col>end_station_id</th><th scope=col>start_lat</th><th scope=col>start_lng</th><th scope=col>end_lat</th><th scope=col>end_lng</th><th scope=col>member_casual</th></tr>\n",
       "\t<tr><th scope=col>&lt;chr&gt;</th><th scope=col>&lt;chr&gt;</th><th scope=col>&lt;dttm&gt;</th><th scope=col>&lt;dttm&gt;</th><th scope=col>&lt;chr&gt;</th><th scope=col>&lt;chr&gt;</th><th scope=col>&lt;chr&gt;</th><th scope=col>&lt;chr&gt;</th><th scope=col>&lt;dbl&gt;</th><th scope=col>&lt;dbl&gt;</th><th scope=col>&lt;dbl&gt;</th><th scope=col>&lt;dbl&gt;</th><th scope=col>&lt;chr&gt;</th></tr>\n",
       "</thead>\n",
       "<tbody>\n",
       "\t<tr><td>F96D5A74A3E41399</td><td>electric_bike</td><td>2023-01-21 20:05:42</td><td>2023-01-21 20:16:33</td><td><span style=white-space:pre-wrap>Lincoln Ave &amp; Fullerton Ave  </span></td><td>TA1309000058</td><td><span style=white-space:pre-wrap>Hampden Ct &amp; Diversey Ave     </span></td><td><span style=white-space:pre-wrap>202480.0    </span></td><td>41.92407</td><td>-87.64628</td><td>41.93000</td><td>-87.64000</td><td>member</td></tr>\n",
       "\t<tr><td>13CB7EB698CEDB88</td><td>classic_bike </td><td>2023-01-10 15:37:36</td><td>2023-01-10 15:46:05</td><td><span style=white-space:pre-wrap>Kimbark Ave &amp; 53rd St        </span></td><td>TA1309000037</td><td><span style=white-space:pre-wrap>Greenwood Ave &amp; 47th St       </span></td><td>TA1308000002</td><td>41.79957</td><td>-87.59475</td><td>41.80983</td><td>-87.59938</td><td>member</td></tr>\n",
       "\t<tr><td>BD88A2E670661CE5</td><td>electric_bike</td><td>2023-01-02 07:51:57</td><td>2023-01-02 08:05:11</td><td><span style=white-space:pre-wrap>Western Ave &amp; Lunt Ave       </span></td><td><span style=white-space:pre-wrap>RP-005      </span></td><td>Valli Produce - Evanston Plaza</td><td><span style=white-space:pre-wrap>599         </span></td><td>42.00857</td><td>-87.69048</td><td>42.03974</td><td>-87.69941</td><td>casual</td></tr>\n",
       "\t<tr><td>C90792D034FED968</td><td>classic_bike </td><td>2023-01-22 10:52:58</td><td>2023-01-22 11:01:44</td><td><span style=white-space:pre-wrap>Kimbark Ave &amp; 53rd St        </span></td><td>TA1309000037</td><td><span style=white-space:pre-wrap>Greenwood Ave &amp; 47th St       </span></td><td>TA1308000002</td><td>41.79957</td><td>-87.59475</td><td>41.80983</td><td>-87.59938</td><td>member</td></tr>\n",
       "\t<tr><td>3397017529188E8A</td><td>classic_bike </td><td>2023-01-12 13:58:01</td><td>2023-01-12 14:13:20</td><td><span style=white-space:pre-wrap>Kimbark Ave &amp; 53rd St        </span></td><td>TA1309000037</td><td><span style=white-space:pre-wrap>Greenwood Ave &amp; 47th St       </span></td><td>TA1308000002</td><td>41.79957</td><td>-87.59475</td><td>41.80983</td><td>-87.59938</td><td>member</td></tr>\n",
       "\t<tr><td>58E68156DAE3E311</td><td>electric_bike</td><td>2023-01-31 07:18:03</td><td>2023-01-31 07:21:16</td><td>Lakeview Ave &amp; Fullerton Pkwy</td><td>TA1309000019</td><td><span style=white-space:pre-wrap>Hampden Ct &amp; Diversey Ave     </span></td><td><span style=white-space:pre-wrap>202480.0    </span></td><td>41.92607</td><td>-87.63886</td><td>41.93000</td><td>-87.64000</td><td>member</td></tr>\n",
       "</tbody>\n",
       "</table>\n"
      ],
      "text/latex": [
       "A tibble: 6 × 13\n",
       "\\begin{tabular}{lllllllllllll}\n",
       " ride\\_id & rideable\\_type & started\\_at & ended\\_at & start\\_station\\_name & start\\_station\\_id & end\\_station\\_name & end\\_station\\_id & start\\_lat & start\\_lng & end\\_lat & end\\_lng & member\\_casual\\\\\n",
       " <chr> & <chr> & <dttm> & <dttm> & <chr> & <chr> & <chr> & <chr> & <dbl> & <dbl> & <dbl> & <dbl> & <chr>\\\\\n",
       "\\hline\n",
       "\t F96D5A74A3E41399 & electric\\_bike & 2023-01-21 20:05:42 & 2023-01-21 20:16:33 & Lincoln Ave \\& Fullerton Ave   & TA1309000058 & Hampden Ct \\& Diversey Ave      & 202480.0     & 41.92407 & -87.64628 & 41.93000 & -87.64000 & member\\\\\n",
       "\t 13CB7EB698CEDB88 & classic\\_bike  & 2023-01-10 15:37:36 & 2023-01-10 15:46:05 & Kimbark Ave \\& 53rd St         & TA1309000037 & Greenwood Ave \\& 47th St        & TA1308000002 & 41.79957 & -87.59475 & 41.80983 & -87.59938 & member\\\\\n",
       "\t BD88A2E670661CE5 & electric\\_bike & 2023-01-02 07:51:57 & 2023-01-02 08:05:11 & Western Ave \\& Lunt Ave        & RP-005       & Valli Produce - Evanston Plaza & 599          & 42.00857 & -87.69048 & 42.03974 & -87.69941 & casual\\\\\n",
       "\t C90792D034FED968 & classic\\_bike  & 2023-01-22 10:52:58 & 2023-01-22 11:01:44 & Kimbark Ave \\& 53rd St         & TA1309000037 & Greenwood Ave \\& 47th St        & TA1308000002 & 41.79957 & -87.59475 & 41.80983 & -87.59938 & member\\\\\n",
       "\t 3397017529188E8A & classic\\_bike  & 2023-01-12 13:58:01 & 2023-01-12 14:13:20 & Kimbark Ave \\& 53rd St         & TA1309000037 & Greenwood Ave \\& 47th St        & TA1308000002 & 41.79957 & -87.59475 & 41.80983 & -87.59938 & member\\\\\n",
       "\t 58E68156DAE3E311 & electric\\_bike & 2023-01-31 07:18:03 & 2023-01-31 07:21:16 & Lakeview Ave \\& Fullerton Pkwy & TA1309000019 & Hampden Ct \\& Diversey Ave      & 202480.0     & 41.92607 & -87.63886 & 41.93000 & -87.64000 & member\\\\\n",
       "\\end{tabular}\n"
      ],
      "text/markdown": [
       "\n",
       "A tibble: 6 × 13\n",
       "\n",
       "| ride_id &lt;chr&gt; | rideable_type &lt;chr&gt; | started_at &lt;dttm&gt; | ended_at &lt;dttm&gt; | start_station_name &lt;chr&gt; | start_station_id &lt;chr&gt; | end_station_name &lt;chr&gt; | end_station_id &lt;chr&gt; | start_lat &lt;dbl&gt; | start_lng &lt;dbl&gt; | end_lat &lt;dbl&gt; | end_lng &lt;dbl&gt; | member_casual &lt;chr&gt; |\n",
       "|---|---|---|---|---|---|---|---|---|---|---|---|---|\n",
       "| F96D5A74A3E41399 | electric_bike | 2023-01-21 20:05:42 | 2023-01-21 20:16:33 | Lincoln Ave &amp; Fullerton Ave   | TA1309000058 | Hampden Ct &amp; Diversey Ave      | 202480.0     | 41.92407 | -87.64628 | 41.93000 | -87.64000 | member |\n",
       "| 13CB7EB698CEDB88 | classic_bike  | 2023-01-10 15:37:36 | 2023-01-10 15:46:05 | Kimbark Ave &amp; 53rd St         | TA1309000037 | Greenwood Ave &amp; 47th St        | TA1308000002 | 41.79957 | -87.59475 | 41.80983 | -87.59938 | member |\n",
       "| BD88A2E670661CE5 | electric_bike | 2023-01-02 07:51:57 | 2023-01-02 08:05:11 | Western Ave &amp; Lunt Ave        | RP-005       | Valli Produce - Evanston Plaza | 599          | 42.00857 | -87.69048 | 42.03974 | -87.69941 | casual |\n",
       "| C90792D034FED968 | classic_bike  | 2023-01-22 10:52:58 | 2023-01-22 11:01:44 | Kimbark Ave &amp; 53rd St         | TA1309000037 | Greenwood Ave &amp; 47th St        | TA1308000002 | 41.79957 | -87.59475 | 41.80983 | -87.59938 | member |\n",
       "| 3397017529188E8A | classic_bike  | 2023-01-12 13:58:01 | 2023-01-12 14:13:20 | Kimbark Ave &amp; 53rd St         | TA1309000037 | Greenwood Ave &amp; 47th St        | TA1308000002 | 41.79957 | -87.59475 | 41.80983 | -87.59938 | member |\n",
       "| 58E68156DAE3E311 | electric_bike | 2023-01-31 07:18:03 | 2023-01-31 07:21:16 | Lakeview Ave &amp; Fullerton Pkwy | TA1309000019 | Hampden Ct &amp; Diversey Ave      | 202480.0     | 41.92607 | -87.63886 | 41.93000 | -87.64000 | member |\n",
       "\n"
      ],
      "text/plain": [
       "  ride_id          rideable_type started_at          ended_at           \n",
       "1 F96D5A74A3E41399 electric_bike 2023-01-21 20:05:42 2023-01-21 20:16:33\n",
       "2 13CB7EB698CEDB88 classic_bike  2023-01-10 15:37:36 2023-01-10 15:46:05\n",
       "3 BD88A2E670661CE5 electric_bike 2023-01-02 07:51:57 2023-01-02 08:05:11\n",
       "4 C90792D034FED968 classic_bike  2023-01-22 10:52:58 2023-01-22 11:01:44\n",
       "5 3397017529188E8A classic_bike  2023-01-12 13:58:01 2023-01-12 14:13:20\n",
       "6 58E68156DAE3E311 electric_bike 2023-01-31 07:18:03 2023-01-31 07:21:16\n",
       "  start_station_name            start_station_id end_station_name              \n",
       "1 Lincoln Ave & Fullerton Ave   TA1309000058     Hampden Ct & Diversey Ave     \n",
       "2 Kimbark Ave & 53rd St         TA1309000037     Greenwood Ave & 47th St       \n",
       "3 Western Ave & Lunt Ave        RP-005           Valli Produce - Evanston Plaza\n",
       "4 Kimbark Ave & 53rd St         TA1309000037     Greenwood Ave & 47th St       \n",
       "5 Kimbark Ave & 53rd St         TA1309000037     Greenwood Ave & 47th St       \n",
       "6 Lakeview Ave & Fullerton Pkwy TA1309000019     Hampden Ct & Diversey Ave     \n",
       "  end_station_id start_lat start_lng end_lat  end_lng   member_casual\n",
       "1 202480.0       41.92407  -87.64628 41.93000 -87.64000 member       \n",
       "2 TA1308000002   41.79957  -87.59475 41.80983 -87.59938 member       \n",
       "3 599            42.00857  -87.69048 42.03974 -87.69941 casual       \n",
       "4 TA1308000002   41.79957  -87.59475 41.80983 -87.59938 member       \n",
       "5 TA1308000002   41.79957  -87.59475 41.80983 -87.59938 member       \n",
       "6 202480.0       41.92607  -87.63886 41.93000 -87.64000 member       "
      ]
     },
     "metadata": {},
     "output_type": "display_data"
    },
    {
     "name": "stdout",
     "output_type": "stream",
     "text": [
      "spc_tbl_ [5,719,877 × 13] (S3: spec_tbl_df/tbl_df/tbl/data.frame)\n",
      " $ ride_id           : chr [1:5719877] \"F96D5A74A3E41399\" \"13CB7EB698CEDB88\" \"BD88A2E670661CE5\" \"C90792D034FED968\" ...\n",
      " $ rideable_type     : chr [1:5719877] \"electric_bike\" \"classic_bike\" \"electric_bike\" \"classic_bike\" ...\n",
      " $ started_at        : POSIXct[1:5719877], format: \"2023-01-21 20:05:42\" \"2023-01-10 15:37:36\" ...\n",
      " $ ended_at          : POSIXct[1:5719877], format: \"2023-01-21 20:16:33\" \"2023-01-10 15:46:05\" ...\n",
      " $ start_station_name: chr [1:5719877] \"Lincoln Ave & Fullerton Ave\" \"Kimbark Ave & 53rd St\" \"Western Ave & Lunt Ave\" \"Kimbark Ave & 53rd St\" ...\n",
      " $ start_station_id  : chr [1:5719877] \"TA1309000058\" \"TA1309000037\" \"RP-005\" \"TA1309000037\" ...\n",
      " $ end_station_name  : chr [1:5719877] \"Hampden Ct & Diversey Ave\" \"Greenwood Ave & 47th St\" \"Valli Produce - Evanston Plaza\" \"Greenwood Ave & 47th St\" ...\n",
      " $ end_station_id    : chr [1:5719877] \"202480.0\" \"TA1308000002\" \"599\" \"TA1308000002\" ...\n",
      " $ start_lat         : num [1:5719877] 41.9 41.8 42 41.8 41.8 ...\n",
      " $ start_lng         : num [1:5719877] -87.6 -87.6 -87.7 -87.6 -87.6 ...\n",
      " $ end_lat           : num [1:5719877] 41.9 41.8 42 41.8 41.8 ...\n",
      " $ end_lng           : num [1:5719877] -87.6 -87.6 -87.7 -87.6 -87.6 ...\n",
      " $ member_casual     : chr [1:5719877] \"member\" \"member\" \"casual\" \"member\" ...\n",
      " - attr(*, \"spec\")=\n",
      "  .. cols(\n",
      "  ..   ride_id = \u001b[31mcol_character()\u001b[39m,\n",
      "  ..   rideable_type = \u001b[31mcol_character()\u001b[39m,\n",
      "  ..   started_at = \u001b[34mcol_datetime(format = \"\")\u001b[39m,\n",
      "  ..   ended_at = \u001b[34mcol_datetime(format = \"\")\u001b[39m,\n",
      "  ..   start_station_name = \u001b[31mcol_character()\u001b[39m,\n",
      "  ..   start_station_id = \u001b[31mcol_character()\u001b[39m,\n",
      "  ..   end_station_name = \u001b[31mcol_character()\u001b[39m,\n",
      "  ..   end_station_id = \u001b[31mcol_character()\u001b[39m,\n",
      "  ..   start_lat = \u001b[32mcol_double()\u001b[39m,\n",
      "  ..   start_lng = \u001b[32mcol_double()\u001b[39m,\n",
      "  ..   end_lat = \u001b[32mcol_double()\u001b[39m,\n",
      "  ..   end_lng = \u001b[32mcol_double()\u001b[39m,\n",
      "  ..   member_casual = \u001b[31mcol_character()\u001b[39m\n",
      "  .. )\n",
      " - attr(*, \"problems\")=<externalptr> \n",
      "Rows: 5,719,877\n",
      "Columns: 13\n",
      "$ ride_id            \u001b[3m\u001b[90m<chr>\u001b[39m\u001b[23m \"F96D5A74A3E41399\", \"13CB7EB698CEDB88\", \"BD88A2E670…\n",
      "$ rideable_type      \u001b[3m\u001b[90m<chr>\u001b[39m\u001b[23m \"electric_bike\", \"classic_bike\", \"electric_bike\", \"…\n",
      "$ started_at         \u001b[3m\u001b[90m<dttm>\u001b[39m\u001b[23m 2023-01-21 20:05:42, 2023-01-10 15:37:36, 2023-01-…\n",
      "$ ended_at           \u001b[3m\u001b[90m<dttm>\u001b[39m\u001b[23m 2023-01-21 20:16:33, 2023-01-10 15:46:05, 2023-01-…\n",
      "$ start_station_name \u001b[3m\u001b[90m<chr>\u001b[39m\u001b[23m \"Lincoln Ave & Fullerton Ave\", \"Kimbark Ave & 53rd …\n",
      "$ start_station_id   \u001b[3m\u001b[90m<chr>\u001b[39m\u001b[23m \"TA1309000058\", \"TA1309000037\", \"RP-005\", \"TA130900…\n",
      "$ end_station_name   \u001b[3m\u001b[90m<chr>\u001b[39m\u001b[23m \"Hampden Ct & Diversey Ave\", \"Greenwood Ave & 47th …\n",
      "$ end_station_id     \u001b[3m\u001b[90m<chr>\u001b[39m\u001b[23m \"202480.0\", \"TA1308000002\", \"599\", \"TA1308000002\", …\n",
      "$ start_lat          \u001b[3m\u001b[90m<dbl>\u001b[39m\u001b[23m 41.92407, 41.79957, 42.00857, 41.79957, 41.79957, 4…\n",
      "$ start_lng          \u001b[3m\u001b[90m<dbl>\u001b[39m\u001b[23m -87.64628, -87.59475, -87.69048, -87.59475, -87.594…\n",
      "$ end_lat            \u001b[3m\u001b[90m<dbl>\u001b[39m\u001b[23m 41.93000, 41.80983, 42.03974, 41.80983, 41.80983, 4…\n",
      "$ end_lng            \u001b[3m\u001b[90m<dbl>\u001b[39m\u001b[23m -87.64000, -87.59938, -87.69941, -87.59938, -87.599…\n",
      "$ member_casual      \u001b[3m\u001b[90m<chr>\u001b[39m\u001b[23m \"member\", \"member\", \"casual\", \"member\", \"member\", \"…\n"
     ]
    }
   ],
   "source": [
    "#Check the summary for merged dataset, merged_cyclistic2023\n",
    "summary(merged_cyclistic2023)\n",
    "colnames(merged_cyclistic2023)\n",
    "nrow(merged_cyclistic2023)\n",
    "head(merged_cyclistic2023)\n",
    "str(merged_cyclistic2023)\n",
    "glimpse(merged_cyclistic2023)"
   ]
  },
  {
   "cell_type": "code",
   "execution_count": 8,
   "id": "e3b4a6dd",
   "metadata": {
    "execution": {
     "iopub.execute_input": "2024-05-23T16:56:54.501587Z",
     "iopub.status.busy": "2024-05-23T16:56:54.500033Z",
     "iopub.status.idle": "2024-05-23T16:59:05.901988Z",
     "shell.execute_reply": "2024-05-23T16:59:05.900297Z"
    },
    "papermill": {
     "duration": 131.42227,
     "end_time": "2024-05-23T16:59:05.904529",
     "exception": false,
     "start_time": "2024-05-23T16:56:54.482259",
     "status": "completed"
    },
    "tags": []
   },
   "outputs": [
    {
     "data": {
      "text/html": [
       "5719877"
      ],
      "text/latex": [
       "5719877"
      ],
      "text/markdown": [
       "5719877"
      ],
      "text/plain": [
       "[1] 5719877"
      ]
     },
     "metadata": {},
     "output_type": "display_data"
    },
    {
     "data": {
      "text/html": [
       "<table class=\"dataframe\">\n",
       "<caption>A grouped_df: 0 × 2</caption>\n",
       "<thead>\n",
       "\t<tr><th scope=col>ride_id</th><th scope=col>n</th></tr>\n",
       "\t<tr><th scope=col>&lt;chr&gt;</th><th scope=col>&lt;int&gt;</th></tr>\n",
       "</thead>\n",
       "<tbody>\n",
       "</tbody>\n",
       "</table>\n"
      ],
      "text/latex": [
       "A grouped\\_df: 0 × 2\n",
       "\\begin{tabular}{ll}\n",
       " ride\\_id & n\\\\\n",
       " <chr> & <int>\\\\\n",
       "\\hline\n",
       "\\end{tabular}\n"
      ],
      "text/markdown": [
       "\n",
       "A grouped_df: 0 × 2\n",
       "\n",
       "| ride_id &lt;chr&gt; | n &lt;int&gt; |\n",
       "|---|---|\n",
       "\n"
      ],
      "text/plain": [
       "     ride_id n"
      ]
     },
     "metadata": {},
     "output_type": "display_data"
    },
    {
     "data": {
      "text/html": [
       "<table class=\"dataframe\">\n",
       "<caption>A grouped_df: 3 × 2</caption>\n",
       "<thead>\n",
       "\t<tr><th scope=col>rideable_type</th><th scope=col>n</th></tr>\n",
       "\t<tr><th scope=col>&lt;chr&gt;</th><th scope=col>&lt;int&gt;</th></tr>\n",
       "</thead>\n",
       "<tbody>\n",
       "\t<tr><td>classic_bike </td><td>2696011</td></tr>\n",
       "\t<tr><td>docked_bike  </td><td>  78287</td></tr>\n",
       "\t<tr><td>electric_bike</td><td>2945579</td></tr>\n",
       "</tbody>\n",
       "</table>\n"
      ],
      "text/latex": [
       "A grouped\\_df: 3 × 2\n",
       "\\begin{tabular}{ll}\n",
       " rideable\\_type & n\\\\\n",
       " <chr> & <int>\\\\\n",
       "\\hline\n",
       "\t classic\\_bike  & 2696011\\\\\n",
       "\t docked\\_bike   &   78287\\\\\n",
       "\t electric\\_bike & 2945579\\\\\n",
       "\\end{tabular}\n"
      ],
      "text/markdown": [
       "\n",
       "A grouped_df: 3 × 2\n",
       "\n",
       "| rideable_type &lt;chr&gt; | n &lt;int&gt; |\n",
       "|---|---|\n",
       "| classic_bike  | 2696011 |\n",
       "| docked_bike   |   78287 |\n",
       "| electric_bike | 2945579 |\n",
       "\n"
      ],
      "text/plain": [
       "  rideable_type n      \n",
       "1 classic_bike  2696011\n",
       "2 docked_bike     78287\n",
       "3 electric_bike 2945579"
      ]
     },
     "metadata": {},
     "output_type": "display_data"
    },
    {
     "data": {
      "text/html": [
       "<table class=\"dataframe\">\n",
       "<caption>A grouped_df: 2 × 2</caption>\n",
       "<thead>\n",
       "\t<tr><th scope=col>member_casual</th><th scope=col>n</th></tr>\n",
       "\t<tr><th scope=col>&lt;chr&gt;</th><th scope=col>&lt;int&gt;</th></tr>\n",
       "</thead>\n",
       "<tbody>\n",
       "\t<tr><td>casual</td><td>2059179</td></tr>\n",
       "\t<tr><td>member</td><td>3660698</td></tr>\n",
       "</tbody>\n",
       "</table>\n"
      ],
      "text/latex": [
       "A grouped\\_df: 2 × 2\n",
       "\\begin{tabular}{ll}\n",
       " member\\_casual & n\\\\\n",
       " <chr> & <int>\\\\\n",
       "\\hline\n",
       "\t casual & 2059179\\\\\n",
       "\t member & 3660698\\\\\n",
       "\\end{tabular}\n"
      ],
      "text/markdown": [
       "\n",
       "A grouped_df: 2 × 2\n",
       "\n",
       "| member_casual &lt;chr&gt; | n &lt;int&gt; |\n",
       "|---|---|\n",
       "| casual | 2059179 |\n",
       "| member | 3660698 |\n",
       "\n"
      ],
      "text/plain": [
       "  member_casual n      \n",
       "1 casual        2059179\n",
       "2 member        3660698"
      ]
     },
     "metadata": {},
     "output_type": "display_data"
    }
   ],
   "source": [
    "#Ran a simple analysis to understand the dataframe\n",
    "n_distinct(merged_cyclistic2023$ride_id)\n",
    "\n",
    "merged_cyclistic2023 %>%\n",
    "  group_by(ride_id) %>%\n",
    "  count(ride_id)  %>%\n",
    "  filter (n>1)\n",
    "\n",
    "merged_cyclistic2023 %>%\n",
    "  group_by(rideable_type) %>%\n",
    "  count(rideable_type)\n",
    "\n",
    "merged_cyclistic2023 %>% \n",
    "  group_by(member_casual) %>%\n",
    "  count(member_casual)"
   ]
  },
  {
   "cell_type": "markdown",
   "id": "812b017a",
   "metadata": {
    "papermill": {
     "duration": 0.015383,
     "end_time": "2024-05-23T16:59:05.938435",
     "exception": false,
     "start_time": "2024-05-23T16:59:05.923052",
     "status": "completed"
    },
    "tags": []
   },
   "source": [
    "**Deal with null values in dataset**\n",
    "* During pre-analysis, I have identified there are null values for *start_station_name, start_station_id, end_station_name, end_station_id, end_lat, end_lng*. For this step, rechecking using the code below to get the actual number of null values.\n",
    "* For *start_station_name, start_station_id, end_station_name, end_station_id*, I decided to check what are the top start stations and end stations before deciding to rename null values or to remove.\n",
    "* For *end_lat* and *end_lng*, I decided to remove these columns as I am unable to determine the distance without these data.\n"
   ]
  },
  {
   "cell_type": "code",
   "execution_count": 9,
   "id": "4832df93",
   "metadata": {
    "execution": {
     "iopub.execute_input": "2024-05-23T16:59:05.972250Z",
     "iopub.status.busy": "2024-05-23T16:59:05.970722Z",
     "iopub.status.idle": "2024-05-23T16:59:06.586000Z",
     "shell.execute_reply": "2024-05-23T16:59:06.583769Z"
    },
    "papermill": {
     "duration": 0.635133,
     "end_time": "2024-05-23T16:59:06.588829",
     "exception": false,
     "start_time": "2024-05-23T16:59:05.953696",
     "status": "completed"
    },
    "tags": []
   },
   "outputs": [
    {
     "data": {
      "text/html": [
       "0"
      ],
      "text/latex": [
       "0"
      ],
      "text/markdown": [
       "0"
      ],
      "text/plain": [
       "[1] 0"
      ]
     },
     "metadata": {},
     "output_type": "display_data"
    },
    {
     "data": {
      "text/html": [
       "0"
      ],
      "text/latex": [
       "0"
      ],
      "text/markdown": [
       "0"
      ],
      "text/plain": [
       "[1] 0"
      ]
     },
     "metadata": {},
     "output_type": "display_data"
    },
    {
     "data": {
      "text/html": [
       "0"
      ],
      "text/latex": [
       "0"
      ],
      "text/markdown": [
       "0"
      ],
      "text/plain": [
       "[1] 0"
      ]
     },
     "metadata": {},
     "output_type": "display_data"
    },
    {
     "data": {
      "text/html": [
       "0"
      ],
      "text/latex": [
       "0"
      ],
      "text/markdown": [
       "0"
      ],
      "text/plain": [
       "[1] 0"
      ]
     },
     "metadata": {},
     "output_type": "display_data"
    },
    {
     "data": {
      "text/html": [
       "875716"
      ],
      "text/latex": [
       "875716"
      ],
      "text/markdown": [
       "875716"
      ],
      "text/plain": [
       "[1] 875716"
      ]
     },
     "metadata": {},
     "output_type": "display_data"
    },
    {
     "data": {
      "text/html": [
       "875848"
      ],
      "text/latex": [
       "875848"
      ],
      "text/markdown": [
       "875848"
      ],
      "text/plain": [
       "[1] 875848"
      ]
     },
     "metadata": {},
     "output_type": "display_data"
    },
    {
     "data": {
      "text/html": [
       "929202"
      ],
      "text/latex": [
       "929202"
      ],
      "text/markdown": [
       "929202"
      ],
      "text/plain": [
       "[1] 929202"
      ]
     },
     "metadata": {},
     "output_type": "display_data"
    },
    {
     "data": {
      "text/html": [
       "929343"
      ],
      "text/latex": [
       "929343"
      ],
      "text/markdown": [
       "929343"
      ],
      "text/plain": [
       "[1] 929343"
      ]
     },
     "metadata": {},
     "output_type": "display_data"
    },
    {
     "data": {
      "text/html": [
       "0"
      ],
      "text/latex": [
       "0"
      ],
      "text/markdown": [
       "0"
      ],
      "text/plain": [
       "[1] 0"
      ]
     },
     "metadata": {},
     "output_type": "display_data"
    },
    {
     "data": {
      "text/html": [
       "0"
      ],
      "text/latex": [
       "0"
      ],
      "text/markdown": [
       "0"
      ],
      "text/plain": [
       "[1] 0"
      ]
     },
     "metadata": {},
     "output_type": "display_data"
    },
    {
     "data": {
      "text/html": [
       "6990"
      ],
      "text/latex": [
       "6990"
      ],
      "text/markdown": [
       "6990"
      ],
      "text/plain": [
       "[1] 6990"
      ]
     },
     "metadata": {},
     "output_type": "display_data"
    },
    {
     "data": {
      "text/html": [
       "6990"
      ],
      "text/latex": [
       "6990"
      ],
      "text/markdown": [
       "6990"
      ],
      "text/plain": [
       "[1] 6990"
      ]
     },
     "metadata": {},
     "output_type": "display_data"
    },
    {
     "data": {
      "text/html": [
       "0"
      ],
      "text/latex": [
       "0"
      ],
      "text/markdown": [
       "0"
      ],
      "text/plain": [
       "[1] 0"
      ]
     },
     "metadata": {},
     "output_type": "display_data"
    }
   ],
   "source": [
    "#Check for null values in each column in merged_cyclistic2023\n",
    "sum(is.na(merged_cyclistic2023$ride_id))\n",
    "sum(is.na(merged_cyclistic2023$rideable_type))\n",
    "sum(is.na(merged_cyclistic2023$started_at))\n",
    "sum(is.na(merged_cyclistic2023$ended_at))\n",
    "sum(is.na(merged_cyclistic2023$start_station_name))\n",
    "sum(is.na(merged_cyclistic2023$start_station_id))\n",
    "sum(is.na(merged_cyclistic2023$end_station_name))\n",
    "sum(is.na(merged_cyclistic2023$end_station_id))\n",
    "sum(is.na(merged_cyclistic2023$start_lat))\n",
    "sum(is.na(merged_cyclistic2023$start_lng))\n",
    "sum(is.na(merged_cyclistic2023$end_lat))\n",
    "sum(is.na(merged_cyclistic2023$end_lng))\n",
    "sum(is.na(merged_cyclistic2023$member_casual))"
   ]
  },
  {
   "cell_type": "code",
   "execution_count": 10,
   "id": "1042d1fd",
   "metadata": {
    "execution": {
     "iopub.execute_input": "2024-05-23T16:59:06.626356Z",
     "iopub.status.busy": "2024-05-23T16:59:06.624827Z",
     "iopub.status.idle": "2024-05-23T16:59:09.522712Z",
     "shell.execute_reply": "2024-05-23T16:59:09.520349Z"
    },
    "papermill": {
     "duration": 2.919695,
     "end_time": "2024-05-23T16:59:09.525638",
     "exception": false,
     "start_time": "2024-05-23T16:59:06.605943",
     "status": "completed"
    },
    "tags": []
   },
   "outputs": [
    {
     "data": {
      "text/html": [
       "<table class=\"dataframe\">\n",
       "<caption>A spec_tbl_df: 10 × 3</caption>\n",
       "<thead>\n",
       "\t<tr><th scope=col>start_station_name</th><th scope=col>start_station_id</th><th scope=col>n</th></tr>\n",
       "\t<tr><th scope=col>&lt;chr&gt;</th><th scope=col>&lt;chr&gt;</th><th scope=col>&lt;int&gt;</th></tr>\n",
       "</thead>\n",
       "<tbody>\n",
       "\t<tr><td>NA                                </td><td>NA          </td><td>875716</td></tr>\n",
       "\t<tr><td><span style=white-space:pre-wrap>Streeter Dr &amp; Grand Ave           </span></td><td><span style=white-space:pre-wrap>13022       </span></td><td> 63249</td></tr>\n",
       "\t<tr><td>DuSable Lake Shore Dr &amp; Monroe St </td><td><span style=white-space:pre-wrap>13300       </span></td><td> 40288</td></tr>\n",
       "\t<tr><td><span style=white-space:pre-wrap>Michigan Ave &amp; Oak St             </span></td><td><span style=white-space:pre-wrap>13042       </span></td><td> 37383</td></tr>\n",
       "\t<tr><td>DuSable Lake Shore Dr &amp; North Blvd</td><td><span style=white-space:pre-wrap>LF-005      </span></td><td> 35966</td></tr>\n",
       "\t<tr><td><span style=white-space:pre-wrap>Clark St &amp; Elm St                 </span></td><td>TA1307000039</td><td> 35805</td></tr>\n",
       "\t<tr><td><span style=white-space:pre-wrap>Kingsbury St &amp; Kinzie St          </span></td><td>KA1503000043</td><td> 34966</td></tr>\n",
       "\t<tr><td><span style=white-space:pre-wrap>Wells St &amp; Concord Ln             </span></td><td>TA1308000050</td><td> 33590</td></tr>\n",
       "\t<tr><td><span style=white-space:pre-wrap>Clinton St &amp; Washington Blvd      </span></td><td><span style=white-space:pre-wrap>WL-012      </span></td><td> 32715</td></tr>\n",
       "\t<tr><td><span style=white-space:pre-wrap>Wells St &amp; Elm St                 </span></td><td>KA1504000135</td><td> 30407</td></tr>\n",
       "</tbody>\n",
       "</table>\n"
      ],
      "text/latex": [
       "A spec\\_tbl\\_df: 10 × 3\n",
       "\\begin{tabular}{lll}\n",
       " start\\_station\\_name & start\\_station\\_id & n\\\\\n",
       " <chr> & <chr> & <int>\\\\\n",
       "\\hline\n",
       "\t NA                                 & NA           & 875716\\\\\n",
       "\t Streeter Dr \\& Grand Ave            & 13022        &  63249\\\\\n",
       "\t DuSable Lake Shore Dr \\& Monroe St  & 13300        &  40288\\\\\n",
       "\t Michigan Ave \\& Oak St              & 13042        &  37383\\\\\n",
       "\t DuSable Lake Shore Dr \\& North Blvd & LF-005       &  35966\\\\\n",
       "\t Clark St \\& Elm St                  & TA1307000039 &  35805\\\\\n",
       "\t Kingsbury St \\& Kinzie St           & KA1503000043 &  34966\\\\\n",
       "\t Wells St \\& Concord Ln              & TA1308000050 &  33590\\\\\n",
       "\t Clinton St \\& Washington Blvd       & WL-012       &  32715\\\\\n",
       "\t Wells St \\& Elm St                  & KA1504000135 &  30407\\\\\n",
       "\\end{tabular}\n"
      ],
      "text/markdown": [
       "\n",
       "A spec_tbl_df: 10 × 3\n",
       "\n",
       "| start_station_name &lt;chr&gt; | start_station_id &lt;chr&gt; | n &lt;int&gt; |\n",
       "|---|---|---|\n",
       "| NA                                 | NA           | 875716 |\n",
       "| Streeter Dr &amp; Grand Ave            | 13022        |  63249 |\n",
       "| DuSable Lake Shore Dr &amp; Monroe St  | 13300        |  40288 |\n",
       "| Michigan Ave &amp; Oak St              | 13042        |  37383 |\n",
       "| DuSable Lake Shore Dr &amp; North Blvd | LF-005       |  35966 |\n",
       "| Clark St &amp; Elm St                  | TA1307000039 |  35805 |\n",
       "| Kingsbury St &amp; Kinzie St           | KA1503000043 |  34966 |\n",
       "| Wells St &amp; Concord Ln              | TA1308000050 |  33590 |\n",
       "| Clinton St &amp; Washington Blvd       | WL-012       |  32715 |\n",
       "| Wells St &amp; Elm St                  | KA1504000135 |  30407 |\n",
       "\n"
      ],
      "text/plain": [
       "   start_station_name                 start_station_id n     \n",
       "1  NA                                 NA               875716\n",
       "2  Streeter Dr & Grand Ave            13022             63249\n",
       "3  DuSable Lake Shore Dr & Monroe St  13300             40288\n",
       "4  Michigan Ave & Oak St              13042             37383\n",
       "5  DuSable Lake Shore Dr & North Blvd LF-005            35966\n",
       "6  Clark St & Elm St                  TA1307000039      35805\n",
       "7  Kingsbury St & Kinzie St           KA1503000043      34966\n",
       "8  Wells St & Concord Ln              TA1308000050      33590\n",
       "9  Clinton St & Washington Blvd       WL-012            32715\n",
       "10 Wells St & Elm St                  KA1504000135      30407"
      ]
     },
     "metadata": {},
     "output_type": "display_data"
    },
    {
     "data": {
      "text/html": [
       "<table class=\"dataframe\">\n",
       "<caption>A spec_tbl_df: 10 × 3</caption>\n",
       "<thead>\n",
       "\t<tr><th scope=col>end_station_name</th><th scope=col>end_station_id</th><th scope=col>n</th></tr>\n",
       "\t<tr><th scope=col>&lt;chr&gt;</th><th scope=col>&lt;chr&gt;</th><th scope=col>&lt;int&gt;</th></tr>\n",
       "</thead>\n",
       "<tbody>\n",
       "\t<tr><td>NA                                </td><td>NA          </td><td>929202</td></tr>\n",
       "\t<tr><td><span style=white-space:pre-wrap>Streeter Dr &amp; Grand Ave           </span></td><td><span style=white-space:pre-wrap>13022       </span></td><td> 64197</td></tr>\n",
       "\t<tr><td>DuSable Lake Shore Dr &amp; North Blvd</td><td><span style=white-space:pre-wrap>LF-005      </span></td><td> 39301</td></tr>\n",
       "\t<tr><td>DuSable Lake Shore Dr &amp; Monroe St </td><td><span style=white-space:pre-wrap>13300       </span></td><td> 38022</td></tr>\n",
       "\t<tr><td><span style=white-space:pre-wrap>Michigan Ave &amp; Oak St             </span></td><td><span style=white-space:pre-wrap>13042       </span></td><td> 37997</td></tr>\n",
       "\t<tr><td><span style=white-space:pre-wrap>Clark St &amp; Elm St                 </span></td><td>TA1307000039</td><td> 34964</td></tr>\n",
       "\t<tr><td><span style=white-space:pre-wrap>Kingsbury St &amp; Kinzie St          </span></td><td>KA1503000043</td><td> 34255</td></tr>\n",
       "\t<tr><td><span style=white-space:pre-wrap>Wells St &amp; Concord Ln             </span></td><td>TA1308000050</td><td> 34173</td></tr>\n",
       "\t<tr><td><span style=white-space:pre-wrap>Clinton St &amp; Washington Blvd      </span></td><td><span style=white-space:pre-wrap>WL-012      </span></td><td> 33395</td></tr>\n",
       "\t<tr><td>Millennium Park                   </td><td>13008       </td><td> 31051</td></tr>\n",
       "</tbody>\n",
       "</table>\n"
      ],
      "text/latex": [
       "A spec\\_tbl\\_df: 10 × 3\n",
       "\\begin{tabular}{lll}\n",
       " end\\_station\\_name & end\\_station\\_id & n\\\\\n",
       " <chr> & <chr> & <int>\\\\\n",
       "\\hline\n",
       "\t NA                                 & NA           & 929202\\\\\n",
       "\t Streeter Dr \\& Grand Ave            & 13022        &  64197\\\\\n",
       "\t DuSable Lake Shore Dr \\& North Blvd & LF-005       &  39301\\\\\n",
       "\t DuSable Lake Shore Dr \\& Monroe St  & 13300        &  38022\\\\\n",
       "\t Michigan Ave \\& Oak St              & 13042        &  37997\\\\\n",
       "\t Clark St \\& Elm St                  & TA1307000039 &  34964\\\\\n",
       "\t Kingsbury St \\& Kinzie St           & KA1503000043 &  34255\\\\\n",
       "\t Wells St \\& Concord Ln              & TA1308000050 &  34173\\\\\n",
       "\t Clinton St \\& Washington Blvd       & WL-012       &  33395\\\\\n",
       "\t Millennium Park                    & 13008        &  31051\\\\\n",
       "\\end{tabular}\n"
      ],
      "text/markdown": [
       "\n",
       "A spec_tbl_df: 10 × 3\n",
       "\n",
       "| end_station_name &lt;chr&gt; | end_station_id &lt;chr&gt; | n &lt;int&gt; |\n",
       "|---|---|---|\n",
       "| NA                                 | NA           | 929202 |\n",
       "| Streeter Dr &amp; Grand Ave            | 13022        |  64197 |\n",
       "| DuSable Lake Shore Dr &amp; North Blvd | LF-005       |  39301 |\n",
       "| DuSable Lake Shore Dr &amp; Monroe St  | 13300        |  38022 |\n",
       "| Michigan Ave &amp; Oak St              | 13042        |  37997 |\n",
       "| Clark St &amp; Elm St                  | TA1307000039 |  34964 |\n",
       "| Kingsbury St &amp; Kinzie St           | KA1503000043 |  34255 |\n",
       "| Wells St &amp; Concord Ln              | TA1308000050 |  34173 |\n",
       "| Clinton St &amp; Washington Blvd       | WL-012       |  33395 |\n",
       "| Millennium Park                    | 13008        |  31051 |\n",
       "\n"
      ],
      "text/plain": [
       "   end_station_name                   end_station_id n     \n",
       "1  NA                                 NA             929202\n",
       "2  Streeter Dr & Grand Ave            13022           64197\n",
       "3  DuSable Lake Shore Dr & North Blvd LF-005          39301\n",
       "4  DuSable Lake Shore Dr & Monroe St  13300           38022\n",
       "5  Michigan Ave & Oak St              13042           37997\n",
       "6  Clark St & Elm St                  TA1307000039    34964\n",
       "7  Kingsbury St & Kinzie St           KA1503000043    34255\n",
       "8  Wells St & Concord Ln              TA1308000050    34173\n",
       "9  Clinton St & Washington Blvd       WL-012          33395\n",
       "10 Millennium Park                    13008           31051"
      ]
     },
     "metadata": {},
     "output_type": "display_data"
    },
    {
     "data": {
      "text/html": [
       "<table class=\"dataframe\">\n",
       "<caption>A spec_tbl_df: 15 × 5</caption>\n",
       "<thead>\n",
       "\t<tr><th scope=col>start_station_name</th><th scope=col>start_station_id</th><th scope=col>end_station_name</th><th scope=col>end_station_id</th><th scope=col>n</th></tr>\n",
       "\t<tr><th scope=col>&lt;chr&gt;</th><th scope=col>&lt;chr&gt;</th><th scope=col>&lt;chr&gt;</th><th scope=col>&lt;chr&gt;</th><th scope=col>&lt;int&gt;</th></tr>\n",
       "</thead>\n",
       "<tbody>\n",
       "\t<tr><td>NA                               </td><td>NA          </td><td>NA                               </td><td>NA          </td><td>417110</td></tr>\n",
       "\t<tr><td><span style=white-space:pre-wrap>Streeter Dr &amp; Grand Ave          </span></td><td><span style=white-space:pre-wrap>13022       </span></td><td><span style=white-space:pre-wrap>Streeter Dr &amp; Grand Ave          </span></td><td><span style=white-space:pre-wrap>13022       </span></td><td> 10044</td></tr>\n",
       "\t<tr><td>DuSable Lake Shore Dr &amp; Monroe St</td><td><span style=white-space:pre-wrap>13300       </span></td><td>DuSable Lake Shore Dr &amp; Monroe St</td><td><span style=white-space:pre-wrap>13300       </span></td><td><span style=white-space:pre-wrap>  7572</span></td></tr>\n",
       "\t<tr><td><span style=white-space:pre-wrap>Ellis Ave &amp; 60th St              </span></td><td>KA1503000014</td><td><span style=white-space:pre-wrap>Ellis Ave &amp; 55th St              </span></td><td>KA1504000076</td><td><span style=white-space:pre-wrap>  6966</span></td></tr>\n",
       "\t<tr><td><span style=white-space:pre-wrap>Ellis Ave &amp; 60th St              </span></td><td>KA1503000014</td><td><span style=white-space:pre-wrap>University Ave &amp; 57th St         </span></td><td>KA1503000071</td><td><span style=white-space:pre-wrap>  6672</span></td></tr>\n",
       "\t<tr><td><span style=white-space:pre-wrap>Ellis Ave &amp; 55th St              </span></td><td>KA1504000076</td><td><span style=white-space:pre-wrap>Ellis Ave &amp; 60th St              </span></td><td>KA1503000014</td><td><span style=white-space:pre-wrap>  6405</span></td></tr>\n",
       "\t<tr><td><span style=white-space:pre-wrap>University Ave &amp; 57th St         </span></td><td>KA1503000071</td><td><span style=white-space:pre-wrap>Ellis Ave &amp; 60th St              </span></td><td>KA1503000014</td><td><span style=white-space:pre-wrap>  6250</span></td></tr>\n",
       "\t<tr><td><span style=white-space:pre-wrap>Calumet Ave &amp; 33rd St            </span></td><td><span style=white-space:pre-wrap>13217       </span></td><td><span style=white-space:pre-wrap>State St &amp; 33rd St               </span></td><td><span style=white-space:pre-wrap>13216       </span></td><td><span style=white-space:pre-wrap>  5474</span></td></tr>\n",
       "\t<tr><td><span style=white-space:pre-wrap>State St &amp; 33rd St               </span></td><td><span style=white-space:pre-wrap>13216       </span></td><td><span style=white-space:pre-wrap>Calumet Ave &amp; 33rd St            </span></td><td><span style=white-space:pre-wrap>13217       </span></td><td><span style=white-space:pre-wrap>  5374</span></td></tr>\n",
       "\t<tr><td><span style=white-space:pre-wrap>Michigan Ave &amp; Oak St            </span></td><td><span style=white-space:pre-wrap>13042       </span></td><td><span style=white-space:pre-wrap>Michigan Ave &amp; Oak St            </span></td><td><span style=white-space:pre-wrap>13042       </span></td><td><span style=white-space:pre-wrap>  5253</span></td></tr>\n",
       "\t<tr><td>DuSable Lake Shore Dr &amp; Monroe St</td><td><span style=white-space:pre-wrap>13300       </span></td><td><span style=white-space:pre-wrap>Streeter Dr &amp; Grand Ave          </span></td><td><span style=white-space:pre-wrap>13022       </span></td><td><span style=white-space:pre-wrap>  5136</span></td></tr>\n",
       "\t<tr><td>Millennium Park                  </td><td>13008       </td><td>Millennium Park                  </td><td>13008       </td><td>  3864</td></tr>\n",
       "\t<tr><td><span style=white-space:pre-wrap>Loomis St &amp; Lexington St         </span></td><td><span style=white-space:pre-wrap>13332       </span></td><td><span style=white-space:pre-wrap>Morgan St &amp; Polk St              </span></td><td>TA1307000130</td><td><span style=white-space:pre-wrap>  3749</span></td></tr>\n",
       "\t<tr><td><span style=white-space:pre-wrap>Streeter Dr &amp; Grand Ave          </span></td><td><span style=white-space:pre-wrap>13022       </span></td><td><span style=white-space:pre-wrap>NA                               </span></td><td><span style=white-space:pre-wrap>NA          </span></td><td><span style=white-space:pre-wrap>  3634</span></td></tr>\n",
       "\t<tr><td><span style=white-space:pre-wrap>Wells St &amp; Concord Ln            </span></td><td>TA1308000050</td><td><span style=white-space:pre-wrap>NA                               </span></td><td><span style=white-space:pre-wrap>NA          </span></td><td><span style=white-space:pre-wrap>  3541</span></td></tr>\n",
       "</tbody>\n",
       "</table>\n"
      ],
      "text/latex": [
       "A spec\\_tbl\\_df: 15 × 5\n",
       "\\begin{tabular}{lllll}\n",
       " start\\_station\\_name & start\\_station\\_id & end\\_station\\_name & end\\_station\\_id & n\\\\\n",
       " <chr> & <chr> & <chr> & <chr> & <int>\\\\\n",
       "\\hline\n",
       "\t NA                                & NA           & NA                                & NA           & 417110\\\\\n",
       "\t Streeter Dr \\& Grand Ave           & 13022        & Streeter Dr \\& Grand Ave           & 13022        &  10044\\\\\n",
       "\t DuSable Lake Shore Dr \\& Monroe St & 13300        & DuSable Lake Shore Dr \\& Monroe St & 13300        &   7572\\\\\n",
       "\t Ellis Ave \\& 60th St               & KA1503000014 & Ellis Ave \\& 55th St               & KA1504000076 &   6966\\\\\n",
       "\t Ellis Ave \\& 60th St               & KA1503000014 & University Ave \\& 57th St          & KA1503000071 &   6672\\\\\n",
       "\t Ellis Ave \\& 55th St               & KA1504000076 & Ellis Ave \\& 60th St               & KA1503000014 &   6405\\\\\n",
       "\t University Ave \\& 57th St          & KA1503000071 & Ellis Ave \\& 60th St               & KA1503000014 &   6250\\\\\n",
       "\t Calumet Ave \\& 33rd St             & 13217        & State St \\& 33rd St                & 13216        &   5474\\\\\n",
       "\t State St \\& 33rd St                & 13216        & Calumet Ave \\& 33rd St             & 13217        &   5374\\\\\n",
       "\t Michigan Ave \\& Oak St             & 13042        & Michigan Ave \\& Oak St             & 13042        &   5253\\\\\n",
       "\t DuSable Lake Shore Dr \\& Monroe St & 13300        & Streeter Dr \\& Grand Ave           & 13022        &   5136\\\\\n",
       "\t Millennium Park                   & 13008        & Millennium Park                   & 13008        &   3864\\\\\n",
       "\t Loomis St \\& Lexington St          & 13332        & Morgan St \\& Polk St               & TA1307000130 &   3749\\\\\n",
       "\t Streeter Dr \\& Grand Ave           & 13022        & NA                                & NA           &   3634\\\\\n",
       "\t Wells St \\& Concord Ln             & TA1308000050 & NA                                & NA           &   3541\\\\\n",
       "\\end{tabular}\n"
      ],
      "text/markdown": [
       "\n",
       "A spec_tbl_df: 15 × 5\n",
       "\n",
       "| start_station_name &lt;chr&gt; | start_station_id &lt;chr&gt; | end_station_name &lt;chr&gt; | end_station_id &lt;chr&gt; | n &lt;int&gt; |\n",
       "|---|---|---|---|---|\n",
       "| NA                                | NA           | NA                                | NA           | 417110 |\n",
       "| Streeter Dr &amp; Grand Ave           | 13022        | Streeter Dr &amp; Grand Ave           | 13022        |  10044 |\n",
       "| DuSable Lake Shore Dr &amp; Monroe St | 13300        | DuSable Lake Shore Dr &amp; Monroe St | 13300        |   7572 |\n",
       "| Ellis Ave &amp; 60th St               | KA1503000014 | Ellis Ave &amp; 55th St               | KA1504000076 |   6966 |\n",
       "| Ellis Ave &amp; 60th St               | KA1503000014 | University Ave &amp; 57th St          | KA1503000071 |   6672 |\n",
       "| Ellis Ave &amp; 55th St               | KA1504000076 | Ellis Ave &amp; 60th St               | KA1503000014 |   6405 |\n",
       "| University Ave &amp; 57th St          | KA1503000071 | Ellis Ave &amp; 60th St               | KA1503000014 |   6250 |\n",
       "| Calumet Ave &amp; 33rd St             | 13217        | State St &amp; 33rd St                | 13216        |   5474 |\n",
       "| State St &amp; 33rd St                | 13216        | Calumet Ave &amp; 33rd St             | 13217        |   5374 |\n",
       "| Michigan Ave &amp; Oak St             | 13042        | Michigan Ave &amp; Oak St             | 13042        |   5253 |\n",
       "| DuSable Lake Shore Dr &amp; Monroe St | 13300        | Streeter Dr &amp; Grand Ave           | 13022        |   5136 |\n",
       "| Millennium Park                   | 13008        | Millennium Park                   | 13008        |   3864 |\n",
       "| Loomis St &amp; Lexington St          | 13332        | Morgan St &amp; Polk St               | TA1307000130 |   3749 |\n",
       "| Streeter Dr &amp; Grand Ave           | 13022        | NA                                | NA           |   3634 |\n",
       "| Wells St &amp; Concord Ln             | TA1308000050 | NA                                | NA           |   3541 |\n",
       "\n"
      ],
      "text/plain": [
       "   start_station_name                start_station_id\n",
       "1  NA                                NA              \n",
       "2  Streeter Dr & Grand Ave           13022           \n",
       "3  DuSable Lake Shore Dr & Monroe St 13300           \n",
       "4  Ellis Ave & 60th St               KA1503000014    \n",
       "5  Ellis Ave & 60th St               KA1503000014    \n",
       "6  Ellis Ave & 55th St               KA1504000076    \n",
       "7  University Ave & 57th St          KA1503000071    \n",
       "8  Calumet Ave & 33rd St             13217           \n",
       "9  State St & 33rd St                13216           \n",
       "10 Michigan Ave & Oak St             13042           \n",
       "11 DuSable Lake Shore Dr & Monroe St 13300           \n",
       "12 Millennium Park                   13008           \n",
       "13 Loomis St & Lexington St          13332           \n",
       "14 Streeter Dr & Grand Ave           13022           \n",
       "15 Wells St & Concord Ln             TA1308000050    \n",
       "   end_station_name                  end_station_id n     \n",
       "1  NA                                NA             417110\n",
       "2  Streeter Dr & Grand Ave           13022           10044\n",
       "3  DuSable Lake Shore Dr & Monroe St 13300            7572\n",
       "4  Ellis Ave & 55th St               KA1504000076     6966\n",
       "5  University Ave & 57th St          KA1503000071     6672\n",
       "6  Ellis Ave & 60th St               KA1503000014     6405\n",
       "7  Ellis Ave & 60th St               KA1503000014     6250\n",
       "8  State St & 33rd St                13216            5474\n",
       "9  Calumet Ave & 33rd St             13217            5374\n",
       "10 Michigan Ave & Oak St             13042            5253\n",
       "11 Streeter Dr & Grand Ave           13022            5136\n",
       "12 Millennium Park                   13008            3864\n",
       "13 Morgan St & Polk St               TA1307000130     3749\n",
       "14 NA                                NA               3634\n",
       "15 NA                                NA               3541"
      ]
     },
     "metadata": {},
     "output_type": "display_data"
    }
   ],
   "source": [
    "#Check what are the top stations for start_station_name, start_station_id, end_station_name, end_station_id\n",
    "merged_cyclistic2023 %>%\n",
    "  count(start_station_name, start_station_id) %>%\n",
    "  arrange(desc(n)) %>% \n",
    "  slice (1:10)\n",
    "\n",
    "merged_cyclistic2023 %>%\n",
    "  count(end_station_name, end_station_id) %>%\n",
    "  arrange(desc(n)) %>%\n",
    "  slice(1:10)\n",
    "\n",
    "#Check what are the top stations for start\n",
    "merged_cyclistic2023 %>%\n",
    "  count(start_station_name, start_station_id, end_station_name, end_station_id) %>%\n",
    "  arrange(desc(n)) %>%\n",
    "  slice(1:15)"
   ]
  },
  {
   "cell_type": "markdown",
   "id": "88739254",
   "metadata": {
    "papermill": {
     "duration": 0.017708,
     "end_time": "2024-05-23T16:59:09.561263",
     "exception": false,
     "start_time": "2024-05-23T16:59:09.543555",
     "status": "completed"
    },
    "tags": []
   },
   "source": [
    "* **Result:** Null values are the highest results for *start_station_name*, and *end_station_name*. I decided to remove rows all null values in these 4 columns"
   ]
  },
  {
   "cell_type": "code",
   "execution_count": 11,
   "id": "f2428f0f",
   "metadata": {
    "execution": {
     "iopub.execute_input": "2024-05-23T16:59:09.599868Z",
     "iopub.status.busy": "2024-05-23T16:59:09.598327Z",
     "iopub.status.idle": "2024-05-23T16:59:20.229597Z",
     "shell.execute_reply": "2024-05-23T16:59:20.227810Z"
    },
    "papermill": {
     "duration": 10.653487,
     "end_time": "2024-05-23T16:59:20.232204",
     "exception": false,
     "start_time": "2024-05-23T16:59:09.578717",
     "status": "completed"
    },
    "tags": []
   },
   "outputs": [],
   "source": [
    "#Result : NA value is still the highest, hence I have decided to remove all na values for these 4 columns\n",
    "#Dropping all the na values for start_station_name, start_station_id, end_station_name, end_station_id, end_lat and end_lng\n",
    "Cyclistic1 <- merged_cyclistic2023 %>%\n",
    "  drop_na(start_station_name) %>% \n",
    "  drop_na(start_station_id) %>%\n",
    "  drop_na(end_station_name) %>% \n",
    "  drop_na(end_station_id) %>%\n",
    "  drop_na(end_lat) %>%\n",
    "  drop_na(end_lng)"
   ]
  },
  {
   "cell_type": "code",
   "execution_count": 12,
   "id": "c341aa1f",
   "metadata": {
    "execution": {
     "iopub.execute_input": "2024-05-23T16:59:20.271535Z",
     "iopub.status.busy": "2024-05-23T16:59:20.269997Z",
     "iopub.status.idle": "2024-05-23T16:59:20.478407Z",
     "shell.execute_reply": "2024-05-23T16:59:20.476708Z"
    },
    "papermill": {
     "duration": 0.230389,
     "end_time": "2024-05-23T16:59:20.480582",
     "exception": false,
     "start_time": "2024-05-23T16:59:20.250193",
     "status": "completed"
    },
    "tags": []
   },
   "outputs": [
    {
     "data": {
      "text/html": [
       "0"
      ],
      "text/latex": [
       "0"
      ],
      "text/markdown": [
       "0"
      ],
      "text/plain": [
       "[1] 0"
      ]
     },
     "metadata": {},
     "output_type": "display_data"
    },
    {
     "data": {
      "text/html": [
       "0"
      ],
      "text/latex": [
       "0"
      ],
      "text/markdown": [
       "0"
      ],
      "text/plain": [
       "[1] 0"
      ]
     },
     "metadata": {},
     "output_type": "display_data"
    },
    {
     "data": {
      "text/html": [
       "0"
      ],
      "text/latex": [
       "0"
      ],
      "text/markdown": [
       "0"
      ],
      "text/plain": [
       "[1] 0"
      ]
     },
     "metadata": {},
     "output_type": "display_data"
    },
    {
     "data": {
      "text/html": [
       "0"
      ],
      "text/latex": [
       "0"
      ],
      "text/markdown": [
       "0"
      ],
      "text/plain": [
       "[1] 0"
      ]
     },
     "metadata": {},
     "output_type": "display_data"
    },
    {
     "data": {
      "text/html": [
       "0"
      ],
      "text/latex": [
       "0"
      ],
      "text/markdown": [
       "0"
      ],
      "text/plain": [
       "[1] 0"
      ]
     },
     "metadata": {},
     "output_type": "display_data"
    },
    {
     "data": {
      "text/html": [
       "0"
      ],
      "text/latex": [
       "0"
      ],
      "text/markdown": [
       "0"
      ],
      "text/plain": [
       "[1] 0"
      ]
     },
     "metadata": {},
     "output_type": "display_data"
    },
    {
     "data": {
      "text/html": [
       "0"
      ],
      "text/latex": [
       "0"
      ],
      "text/markdown": [
       "0"
      ],
      "text/plain": [
       "[1] 0"
      ]
     },
     "metadata": {},
     "output_type": "display_data"
    },
    {
     "data": {
      "text/html": [
       "0"
      ],
      "text/latex": [
       "0"
      ],
      "text/markdown": [
       "0"
      ],
      "text/plain": [
       "[1] 0"
      ]
     },
     "metadata": {},
     "output_type": "display_data"
    },
    {
     "data": {
      "text/html": [
       "0"
      ],
      "text/latex": [
       "0"
      ],
      "text/markdown": [
       "0"
      ],
      "text/plain": [
       "[1] 0"
      ]
     },
     "metadata": {},
     "output_type": "display_data"
    },
    {
     "data": {
      "text/html": [
       "0"
      ],
      "text/latex": [
       "0"
      ],
      "text/markdown": [
       "0"
      ],
      "text/plain": [
       "[1] 0"
      ]
     },
     "metadata": {},
     "output_type": "display_data"
    },
    {
     "data": {
      "text/html": [
       "0"
      ],
      "text/latex": [
       "0"
      ],
      "text/markdown": [
       "0"
      ],
      "text/plain": [
       "[1] 0"
      ]
     },
     "metadata": {},
     "output_type": "display_data"
    },
    {
     "data": {
      "text/html": [
       "0"
      ],
      "text/latex": [
       "0"
      ],
      "text/markdown": [
       "0"
      ],
      "text/plain": [
       "[1] 0"
      ]
     },
     "metadata": {},
     "output_type": "display_data"
    },
    {
     "data": {
      "text/html": [
       "0"
      ],
      "text/latex": [
       "0"
      ],
      "text/markdown": [
       "0"
      ],
      "text/plain": [
       "[1] 0"
      ]
     },
     "metadata": {},
     "output_type": "display_data"
    }
   ],
   "source": [
    "#[OPTIONAL] Can run the code again to be sure there is no null values in the dataframe\n",
    "sum(is.na(Cyclistic1$ride_id))\n",
    "sum(is.na(Cyclistic1$rideable_type))\n",
    "sum(is.na(Cyclistic1$started_at))\n",
    "sum(is.na(Cyclistic1$ended_at))\n",
    "sum(is.na(Cyclistic1$start_station_name))\n",
    "sum(is.na(Cyclistic1$start_station_id))\n",
    "sum(is.na(Cyclistic1$end_station_name))\n",
    "sum(is.na(Cyclistic1$end_station_id))\n",
    "sum(is.na(Cyclistic1$start_lat))\n",
    "sum(is.na(Cyclistic1$start_lng))\n",
    "sum(is.na(Cyclistic1$end_lat))\n",
    "sum(is.na(Cyclistic1$end_lng))\n",
    "sum(is.na(Cyclistic1$member_casual))"
   ]
  },
  {
   "cell_type": "code",
   "execution_count": 13,
   "id": "5b18b8f8",
   "metadata": {
    "execution": {
     "iopub.execute_input": "2024-05-23T16:59:20.523051Z",
     "iopub.status.busy": "2024-05-23T16:59:20.521543Z",
     "iopub.status.idle": "2024-05-23T16:59:21.917505Z",
     "shell.execute_reply": "2024-05-23T16:59:21.915495Z"
    },
    "papermill": {
     "duration": 1.419641,
     "end_time": "2024-05-23T16:59:21.919747",
     "exception": false,
     "start_time": "2024-05-23T16:59:20.500106",
     "status": "completed"
    },
    "tags": []
   },
   "outputs": [
    {
     "data": {
      "text/plain": [
       "   ride_id          rideable_type        started_at                 \n",
       " Length:4331707     Length:4331707     Min.   :2023-01-01 00:02:06  \n",
       " Class :character   Class :character   1st Qu.:2023-05-20 13:02:18  \n",
       " Mode  :character   Mode  :character   Median :2023-07-20 15:12:22  \n",
       "                                       Mean   :2023-07-15 19:09:12  \n",
       "                                       3rd Qu.:2023-09-16 16:19:20  \n",
       "                                       Max.   :2023-12-31 23:58:00  \n",
       "    ended_at                   start_station_name start_station_id  \n",
       " Min.   :2023-01-01 00:07:23   Length:4331707     Length:4331707    \n",
       " 1st Qu.:2023-05-20 13:23:20   Class :character   Class :character  \n",
       " Median :2023-07-20 15:29:43   Mode  :character   Mode  :character  \n",
       " Mean   :2023-07-15 19:25:09                                        \n",
       " 3rd Qu.:2023-09-16 16:39:39                                        \n",
       " Max.   :2024-01-01 14:20:00                                        \n",
       " end_station_name   end_station_id       start_lat       start_lng     \n",
       " Length:4331707     Length:4331707     Min.   :41.65   Min.   :-87.84  \n",
       " Class :character   Class :character   1st Qu.:41.88   1st Qu.:-87.66  \n",
       " Mode  :character   Mode  :character   Median :41.90   Median :-87.64  \n",
       "                                       Mean   :41.90   Mean   :-87.64  \n",
       "                                       3rd Qu.:41.93   3rd Qu.:-87.63  \n",
       "                                       Max.   :42.06   Max.   :-87.53  \n",
       "    end_lat         end_lng       member_casual     \n",
       " Min.   : 0.00   Min.   :-87.84   Length:4331707    \n",
       " 1st Qu.:41.88   1st Qu.:-87.66   Class :character  \n",
       " Median :41.90   Median :-87.64   Mode  :character  \n",
       " Mean   :41.90   Mean   :-87.64                     \n",
       " 3rd Qu.:41.93   3rd Qu.:-87.63                     \n",
       " Max.   :42.06   Max.   :  0.00                     "
      ]
     },
     "metadata": {},
     "output_type": "display_data"
    },
    {
     "data": {
      "text/html": [
       "<style>\n",
       ".list-inline {list-style: none; margin:0; padding: 0}\n",
       ".list-inline>li {display: inline-block}\n",
       ".list-inline>li:not(:last-child)::after {content: \"\\00b7\"; padding: 0 .5ex}\n",
       "</style>\n",
       "<ol class=list-inline><li>'ride_id'</li><li>'rideable_type'</li><li>'started_at'</li><li>'ended_at'</li><li>'start_station_name'</li><li>'start_station_id'</li><li>'end_station_name'</li><li>'end_station_id'</li><li>'start_lat'</li><li>'start_lng'</li><li>'end_lat'</li><li>'end_lng'</li><li>'member_casual'</li></ol>\n"
      ],
      "text/latex": [
       "\\begin{enumerate*}\n",
       "\\item 'ride\\_id'\n",
       "\\item 'rideable\\_type'\n",
       "\\item 'started\\_at'\n",
       "\\item 'ended\\_at'\n",
       "\\item 'start\\_station\\_name'\n",
       "\\item 'start\\_station\\_id'\n",
       "\\item 'end\\_station\\_name'\n",
       "\\item 'end\\_station\\_id'\n",
       "\\item 'start\\_lat'\n",
       "\\item 'start\\_lng'\n",
       "\\item 'end\\_lat'\n",
       "\\item 'end\\_lng'\n",
       "\\item 'member\\_casual'\n",
       "\\end{enumerate*}\n"
      ],
      "text/markdown": [
       "1. 'ride_id'\n",
       "2. 'rideable_type'\n",
       "3. 'started_at'\n",
       "4. 'ended_at'\n",
       "5. 'start_station_name'\n",
       "6. 'start_station_id'\n",
       "7. 'end_station_name'\n",
       "8. 'end_station_id'\n",
       "9. 'start_lat'\n",
       "10. 'start_lng'\n",
       "11. 'end_lat'\n",
       "12. 'end_lng'\n",
       "13. 'member_casual'\n",
       "\n",
       "\n"
      ],
      "text/plain": [
       " [1] \"ride_id\"            \"rideable_type\"      \"started_at\"        \n",
       " [4] \"ended_at\"           \"start_station_name\" \"start_station_id\"  \n",
       " [7] \"end_station_name\"   \"end_station_id\"     \"start_lat\"         \n",
       "[10] \"start_lng\"          \"end_lat\"            \"end_lng\"           \n",
       "[13] \"member_casual\"     "
      ]
     },
     "metadata": {},
     "output_type": "display_data"
    },
    {
     "data": {
      "text/html": [
       "4331707"
      ],
      "text/latex": [
       "4331707"
      ],
      "text/markdown": [
       "4331707"
      ],
      "text/plain": [
       "[1] 4331707"
      ]
     },
     "metadata": {},
     "output_type": "display_data"
    },
    {
     "data": {
      "text/html": [
       "<table class=\"dataframe\">\n",
       "<caption>A tibble: 6 × 13</caption>\n",
       "<thead>\n",
       "\t<tr><th scope=col>ride_id</th><th scope=col>rideable_type</th><th scope=col>started_at</th><th scope=col>ended_at</th><th scope=col>start_station_name</th><th scope=col>start_station_id</th><th scope=col>end_station_name</th><th scope=col>end_station_id</th><th scope=col>start_lat</th><th scope=col>start_lng</th><th scope=col>end_lat</th><th scope=col>end_lng</th><th scope=col>member_casual</th></tr>\n",
       "\t<tr><th scope=col>&lt;chr&gt;</th><th scope=col>&lt;chr&gt;</th><th scope=col>&lt;dttm&gt;</th><th scope=col>&lt;dttm&gt;</th><th scope=col>&lt;chr&gt;</th><th scope=col>&lt;chr&gt;</th><th scope=col>&lt;chr&gt;</th><th scope=col>&lt;chr&gt;</th><th scope=col>&lt;dbl&gt;</th><th scope=col>&lt;dbl&gt;</th><th scope=col>&lt;dbl&gt;</th><th scope=col>&lt;dbl&gt;</th><th scope=col>&lt;chr&gt;</th></tr>\n",
       "</thead>\n",
       "<tbody>\n",
       "\t<tr><td>F96D5A74A3E41399</td><td>electric_bike</td><td>2023-01-21 20:05:42</td><td>2023-01-21 20:16:33</td><td><span style=white-space:pre-wrap>Lincoln Ave &amp; Fullerton Ave  </span></td><td>TA1309000058</td><td><span style=white-space:pre-wrap>Hampden Ct &amp; Diversey Ave     </span></td><td><span style=white-space:pre-wrap>202480.0    </span></td><td>41.92407</td><td>-87.64628</td><td>41.93000</td><td>-87.64000</td><td>member</td></tr>\n",
       "\t<tr><td>13CB7EB698CEDB88</td><td>classic_bike </td><td>2023-01-10 15:37:36</td><td>2023-01-10 15:46:05</td><td><span style=white-space:pre-wrap>Kimbark Ave &amp; 53rd St        </span></td><td>TA1309000037</td><td><span style=white-space:pre-wrap>Greenwood Ave &amp; 47th St       </span></td><td>TA1308000002</td><td>41.79957</td><td>-87.59475</td><td>41.80983</td><td>-87.59938</td><td>member</td></tr>\n",
       "\t<tr><td>BD88A2E670661CE5</td><td>electric_bike</td><td>2023-01-02 07:51:57</td><td>2023-01-02 08:05:11</td><td><span style=white-space:pre-wrap>Western Ave &amp; Lunt Ave       </span></td><td><span style=white-space:pre-wrap>RP-005      </span></td><td>Valli Produce - Evanston Plaza</td><td><span style=white-space:pre-wrap>599         </span></td><td>42.00857</td><td>-87.69048</td><td>42.03974</td><td>-87.69941</td><td>casual</td></tr>\n",
       "\t<tr><td>C90792D034FED968</td><td>classic_bike </td><td>2023-01-22 10:52:58</td><td>2023-01-22 11:01:44</td><td><span style=white-space:pre-wrap>Kimbark Ave &amp; 53rd St        </span></td><td>TA1309000037</td><td><span style=white-space:pre-wrap>Greenwood Ave &amp; 47th St       </span></td><td>TA1308000002</td><td>41.79957</td><td>-87.59475</td><td>41.80983</td><td>-87.59938</td><td>member</td></tr>\n",
       "\t<tr><td>3397017529188E8A</td><td>classic_bike </td><td>2023-01-12 13:58:01</td><td>2023-01-12 14:13:20</td><td><span style=white-space:pre-wrap>Kimbark Ave &amp; 53rd St        </span></td><td>TA1309000037</td><td><span style=white-space:pre-wrap>Greenwood Ave &amp; 47th St       </span></td><td>TA1308000002</td><td>41.79957</td><td>-87.59475</td><td>41.80983</td><td>-87.59938</td><td>member</td></tr>\n",
       "\t<tr><td>58E68156DAE3E311</td><td>electric_bike</td><td>2023-01-31 07:18:03</td><td>2023-01-31 07:21:16</td><td>Lakeview Ave &amp; Fullerton Pkwy</td><td>TA1309000019</td><td><span style=white-space:pre-wrap>Hampden Ct &amp; Diversey Ave     </span></td><td><span style=white-space:pre-wrap>202480.0    </span></td><td>41.92607</td><td>-87.63886</td><td>41.93000</td><td>-87.64000</td><td>member</td></tr>\n",
       "</tbody>\n",
       "</table>\n"
      ],
      "text/latex": [
       "A tibble: 6 × 13\n",
       "\\begin{tabular}{lllllllllllll}\n",
       " ride\\_id & rideable\\_type & started\\_at & ended\\_at & start\\_station\\_name & start\\_station\\_id & end\\_station\\_name & end\\_station\\_id & start\\_lat & start\\_lng & end\\_lat & end\\_lng & member\\_casual\\\\\n",
       " <chr> & <chr> & <dttm> & <dttm> & <chr> & <chr> & <chr> & <chr> & <dbl> & <dbl> & <dbl> & <dbl> & <chr>\\\\\n",
       "\\hline\n",
       "\t F96D5A74A3E41399 & electric\\_bike & 2023-01-21 20:05:42 & 2023-01-21 20:16:33 & Lincoln Ave \\& Fullerton Ave   & TA1309000058 & Hampden Ct \\& Diversey Ave      & 202480.0     & 41.92407 & -87.64628 & 41.93000 & -87.64000 & member\\\\\n",
       "\t 13CB7EB698CEDB88 & classic\\_bike  & 2023-01-10 15:37:36 & 2023-01-10 15:46:05 & Kimbark Ave \\& 53rd St         & TA1309000037 & Greenwood Ave \\& 47th St        & TA1308000002 & 41.79957 & -87.59475 & 41.80983 & -87.59938 & member\\\\\n",
       "\t BD88A2E670661CE5 & electric\\_bike & 2023-01-02 07:51:57 & 2023-01-02 08:05:11 & Western Ave \\& Lunt Ave        & RP-005       & Valli Produce - Evanston Plaza & 599          & 42.00857 & -87.69048 & 42.03974 & -87.69941 & casual\\\\\n",
       "\t C90792D034FED968 & classic\\_bike  & 2023-01-22 10:52:58 & 2023-01-22 11:01:44 & Kimbark Ave \\& 53rd St         & TA1309000037 & Greenwood Ave \\& 47th St        & TA1308000002 & 41.79957 & -87.59475 & 41.80983 & -87.59938 & member\\\\\n",
       "\t 3397017529188E8A & classic\\_bike  & 2023-01-12 13:58:01 & 2023-01-12 14:13:20 & Kimbark Ave \\& 53rd St         & TA1309000037 & Greenwood Ave \\& 47th St        & TA1308000002 & 41.79957 & -87.59475 & 41.80983 & -87.59938 & member\\\\\n",
       "\t 58E68156DAE3E311 & electric\\_bike & 2023-01-31 07:18:03 & 2023-01-31 07:21:16 & Lakeview Ave \\& Fullerton Pkwy & TA1309000019 & Hampden Ct \\& Diversey Ave      & 202480.0     & 41.92607 & -87.63886 & 41.93000 & -87.64000 & member\\\\\n",
       "\\end{tabular}\n"
      ],
      "text/markdown": [
       "\n",
       "A tibble: 6 × 13\n",
       "\n",
       "| ride_id &lt;chr&gt; | rideable_type &lt;chr&gt; | started_at &lt;dttm&gt; | ended_at &lt;dttm&gt; | start_station_name &lt;chr&gt; | start_station_id &lt;chr&gt; | end_station_name &lt;chr&gt; | end_station_id &lt;chr&gt; | start_lat &lt;dbl&gt; | start_lng &lt;dbl&gt; | end_lat &lt;dbl&gt; | end_lng &lt;dbl&gt; | member_casual &lt;chr&gt; |\n",
       "|---|---|---|---|---|---|---|---|---|---|---|---|---|\n",
       "| F96D5A74A3E41399 | electric_bike | 2023-01-21 20:05:42 | 2023-01-21 20:16:33 | Lincoln Ave &amp; Fullerton Ave   | TA1309000058 | Hampden Ct &amp; Diversey Ave      | 202480.0     | 41.92407 | -87.64628 | 41.93000 | -87.64000 | member |\n",
       "| 13CB7EB698CEDB88 | classic_bike  | 2023-01-10 15:37:36 | 2023-01-10 15:46:05 | Kimbark Ave &amp; 53rd St         | TA1309000037 | Greenwood Ave &amp; 47th St        | TA1308000002 | 41.79957 | -87.59475 | 41.80983 | -87.59938 | member |\n",
       "| BD88A2E670661CE5 | electric_bike | 2023-01-02 07:51:57 | 2023-01-02 08:05:11 | Western Ave &amp; Lunt Ave        | RP-005       | Valli Produce - Evanston Plaza | 599          | 42.00857 | -87.69048 | 42.03974 | -87.69941 | casual |\n",
       "| C90792D034FED968 | classic_bike  | 2023-01-22 10:52:58 | 2023-01-22 11:01:44 | Kimbark Ave &amp; 53rd St         | TA1309000037 | Greenwood Ave &amp; 47th St        | TA1308000002 | 41.79957 | -87.59475 | 41.80983 | -87.59938 | member |\n",
       "| 3397017529188E8A | classic_bike  | 2023-01-12 13:58:01 | 2023-01-12 14:13:20 | Kimbark Ave &amp; 53rd St         | TA1309000037 | Greenwood Ave &amp; 47th St        | TA1308000002 | 41.79957 | -87.59475 | 41.80983 | -87.59938 | member |\n",
       "| 58E68156DAE3E311 | electric_bike | 2023-01-31 07:18:03 | 2023-01-31 07:21:16 | Lakeview Ave &amp; Fullerton Pkwy | TA1309000019 | Hampden Ct &amp; Diversey Ave      | 202480.0     | 41.92607 | -87.63886 | 41.93000 | -87.64000 | member |\n",
       "\n"
      ],
      "text/plain": [
       "  ride_id          rideable_type started_at          ended_at           \n",
       "1 F96D5A74A3E41399 electric_bike 2023-01-21 20:05:42 2023-01-21 20:16:33\n",
       "2 13CB7EB698CEDB88 classic_bike  2023-01-10 15:37:36 2023-01-10 15:46:05\n",
       "3 BD88A2E670661CE5 electric_bike 2023-01-02 07:51:57 2023-01-02 08:05:11\n",
       "4 C90792D034FED968 classic_bike  2023-01-22 10:52:58 2023-01-22 11:01:44\n",
       "5 3397017529188E8A classic_bike  2023-01-12 13:58:01 2023-01-12 14:13:20\n",
       "6 58E68156DAE3E311 electric_bike 2023-01-31 07:18:03 2023-01-31 07:21:16\n",
       "  start_station_name            start_station_id end_station_name              \n",
       "1 Lincoln Ave & Fullerton Ave   TA1309000058     Hampden Ct & Diversey Ave     \n",
       "2 Kimbark Ave & 53rd St         TA1309000037     Greenwood Ave & 47th St       \n",
       "3 Western Ave & Lunt Ave        RP-005           Valli Produce - Evanston Plaza\n",
       "4 Kimbark Ave & 53rd St         TA1309000037     Greenwood Ave & 47th St       \n",
       "5 Kimbark Ave & 53rd St         TA1309000037     Greenwood Ave & 47th St       \n",
       "6 Lakeview Ave & Fullerton Pkwy TA1309000019     Hampden Ct & Diversey Ave     \n",
       "  end_station_id start_lat start_lng end_lat  end_lng   member_casual\n",
       "1 202480.0       41.92407  -87.64628 41.93000 -87.64000 member       \n",
       "2 TA1308000002   41.79957  -87.59475 41.80983 -87.59938 member       \n",
       "3 599            42.00857  -87.69048 42.03974 -87.69941 casual       \n",
       "4 TA1308000002   41.79957  -87.59475 41.80983 -87.59938 member       \n",
       "5 TA1308000002   41.79957  -87.59475 41.80983 -87.59938 member       \n",
       "6 202480.0       41.92607  -87.63886 41.93000 -87.64000 member       "
      ]
     },
     "metadata": {},
     "output_type": "display_data"
    },
    {
     "name": "stdout",
     "output_type": "stream",
     "text": [
      "tibble [4,331,707 × 13] (S3: tbl_df/tbl/data.frame)\n",
      " $ ride_id           : chr [1:4331707] \"F96D5A74A3E41399\" \"13CB7EB698CEDB88\" \"BD88A2E670661CE5\" \"C90792D034FED968\" ...\n",
      " $ rideable_type     : chr [1:4331707] \"electric_bike\" \"classic_bike\" \"electric_bike\" \"classic_bike\" ...\n",
      " $ started_at        : POSIXct[1:4331707], format: \"2023-01-21 20:05:42\" \"2023-01-10 15:37:36\" ...\n",
      " $ ended_at          : POSIXct[1:4331707], format: \"2023-01-21 20:16:33\" \"2023-01-10 15:46:05\" ...\n",
      " $ start_station_name: chr [1:4331707] \"Lincoln Ave & Fullerton Ave\" \"Kimbark Ave & 53rd St\" \"Western Ave & Lunt Ave\" \"Kimbark Ave & 53rd St\" ...\n",
      " $ start_station_id  : chr [1:4331707] \"TA1309000058\" \"TA1309000037\" \"RP-005\" \"TA1309000037\" ...\n",
      " $ end_station_name  : chr [1:4331707] \"Hampden Ct & Diversey Ave\" \"Greenwood Ave & 47th St\" \"Valli Produce - Evanston Plaza\" \"Greenwood Ave & 47th St\" ...\n",
      " $ end_station_id    : chr [1:4331707] \"202480.0\" \"TA1308000002\" \"599\" \"TA1308000002\" ...\n",
      " $ start_lat         : num [1:4331707] 41.9 41.8 42 41.8 41.8 ...\n",
      " $ start_lng         : num [1:4331707] -87.6 -87.6 -87.7 -87.6 -87.6 ...\n",
      " $ end_lat           : num [1:4331707] 41.9 41.8 42 41.8 41.8 ...\n",
      " $ end_lng           : num [1:4331707] -87.6 -87.6 -87.7 -87.6 -87.6 ...\n",
      " $ member_casual     : chr [1:4331707] \"member\" \"member\" \"casual\" \"member\" ...\n",
      "Rows: 4,331,707\n",
      "Columns: 13\n",
      "$ ride_id            \u001b[3m\u001b[90m<chr>\u001b[39m\u001b[23m \"F96D5A74A3E41399\", \"13CB7EB698CEDB88\", \"BD88A2E670…\n",
      "$ rideable_type      \u001b[3m\u001b[90m<chr>\u001b[39m\u001b[23m \"electric_bike\", \"classic_bike\", \"electric_bike\", \"…\n",
      "$ started_at         \u001b[3m\u001b[90m<dttm>\u001b[39m\u001b[23m 2023-01-21 20:05:42, 2023-01-10 15:37:36, 2023-01-…\n",
      "$ ended_at           \u001b[3m\u001b[90m<dttm>\u001b[39m\u001b[23m 2023-01-21 20:16:33, 2023-01-10 15:46:05, 2023-01-…\n",
      "$ start_station_name \u001b[3m\u001b[90m<chr>\u001b[39m\u001b[23m \"Lincoln Ave & Fullerton Ave\", \"Kimbark Ave & 53rd …\n",
      "$ start_station_id   \u001b[3m\u001b[90m<chr>\u001b[39m\u001b[23m \"TA1309000058\", \"TA1309000037\", \"RP-005\", \"TA130900…\n",
      "$ end_station_name   \u001b[3m\u001b[90m<chr>\u001b[39m\u001b[23m \"Hampden Ct & Diversey Ave\", \"Greenwood Ave & 47th …\n",
      "$ end_station_id     \u001b[3m\u001b[90m<chr>\u001b[39m\u001b[23m \"202480.0\", \"TA1308000002\", \"599\", \"TA1308000002\", …\n",
      "$ start_lat          \u001b[3m\u001b[90m<dbl>\u001b[39m\u001b[23m 41.92407, 41.79957, 42.00857, 41.79957, 41.79957, 4…\n",
      "$ start_lng          \u001b[3m\u001b[90m<dbl>\u001b[39m\u001b[23m -87.64628, -87.59475, -87.69048, -87.59475, -87.594…\n",
      "$ end_lat            \u001b[3m\u001b[90m<dbl>\u001b[39m\u001b[23m 41.93000, 41.80983, 42.03974, 41.80983, 41.80983, 4…\n",
      "$ end_lng            \u001b[3m\u001b[90m<dbl>\u001b[39m\u001b[23m -87.64000, -87.59938, -87.69941, -87.59938, -87.599…\n",
      "$ member_casual      \u001b[3m\u001b[90m<chr>\u001b[39m\u001b[23m \"member\", \"member\", \"casual\", \"member\", \"member\", \"…\n"
     ]
    }
   ],
   "source": [
    "#Check the summary for cleaned dataset\n",
    "summary(Cyclistic1)\n",
    "colnames(Cyclistic1)\n",
    "nrow(Cyclistic1)\n",
    "head(Cyclistic1)\n",
    "str(Cyclistic1)\n",
    "glimpse(Cyclistic1)"
   ]
  },
  {
   "cell_type": "code",
   "execution_count": 14,
   "id": "d7827f82",
   "metadata": {
    "execution": {
     "iopub.execute_input": "2024-05-23T16:59:21.993943Z",
     "iopub.status.busy": "2024-05-23T16:59:21.992402Z",
     "iopub.status.idle": "2024-05-23T16:59:23.080758Z",
     "shell.execute_reply": "2024-05-23T16:59:23.079138Z"
    },
    "papermill": {
     "duration": 1.113119,
     "end_time": "2024-05-23T16:59:23.082937",
     "exception": false,
     "start_time": "2024-05-23T16:59:21.969818",
     "status": "completed"
    },
    "tags": []
   },
   "outputs": [
    {
     "data": {
      "text/html": [
       "4331707"
      ],
      "text/latex": [
       "4331707"
      ],
      "text/markdown": [
       "4331707"
      ],
      "text/plain": [
       "[1] 4331707"
      ]
     },
     "metadata": {},
     "output_type": "display_data"
    },
    {
     "data": {
      "text/html": [
       "3"
      ],
      "text/latex": [
       "3"
      ],
      "text/markdown": [
       "3"
      ],
      "text/plain": [
       "[1] 3"
      ]
     },
     "metadata": {},
     "output_type": "display_data"
    },
    {
     "data": {
      "text/html": [
       "1534"
      ],
      "text/latex": [
       "1534"
      ],
      "text/markdown": [
       "1534"
      ],
      "text/plain": [
       "[1] 1534"
      ]
     },
     "metadata": {},
     "output_type": "display_data"
    },
    {
     "data": {
      "text/html": [
       "1549"
      ],
      "text/latex": [
       "1549"
      ],
      "text/markdown": [
       "1549"
      ],
      "text/plain": [
       "[1] 1549"
      ]
     },
     "metadata": {},
     "output_type": "display_data"
    },
    {
     "data": {
      "text/html": [
       "1557"
      ],
      "text/latex": [
       "1557"
      ],
      "text/markdown": [
       "1557"
      ],
      "text/plain": [
       "[1] 1557"
      ]
     },
     "metadata": {},
     "output_type": "display_data"
    },
    {
     "data": {
      "text/html": [
       "1560"
      ],
      "text/latex": [
       "1560"
      ],
      "text/markdown": [
       "1560"
      ],
      "text/plain": [
       "[1] 1560"
      ]
     },
     "metadata": {},
     "output_type": "display_data"
    },
    {
     "data": {
      "text/html": [
       "2"
      ],
      "text/latex": [
       "2"
      ],
      "text/markdown": [
       "2"
      ],
      "text/plain": [
       "[1] 2"
      ]
     },
     "metadata": {},
     "output_type": "display_data"
    }
   ],
   "source": [
    "#Check if the value of each columns which can be categorised (optional)\n",
    "n_distinct(Cyclistic1$ride_id)\n",
    "n_distinct(Cyclistic1$rideable_type)\n",
    "n_distinct(Cyclistic1$start_station_name)\n",
    "n_distinct(Cyclistic1$start_station_id)\n",
    "n_distinct(Cyclistic1$end_station_name)\n",
    "n_distinct(Cyclistic1$end_station_id)\n",
    "n_distinct(Cyclistic1$member_casual)"
   ]
  },
  {
   "cell_type": "markdown",
   "id": "cc0b5d76",
   "metadata": {
    "papermill": {
     "duration": 0.021124,
     "end_time": "2024-05-23T16:59:23.125431",
     "exception": false,
     "start_time": "2024-05-23T16:59:23.104307",
     "status": "completed"
    },
    "tags": []
   },
   "source": [
    "**Summary of new dataframe, 'Cyclistic1':**\n",
    "* There are 4,331,707 rows in the new dataframe, which consists 75.7% of the original data. \n",
    "* Removed 1,388,170 rows, which consists 24.3% of the original data.\n"
   ]
  },
  {
   "cell_type": "markdown",
   "id": "96050155",
   "metadata": {
    "papermill": {
     "duration": 0.021174,
     "end_time": "2024-05-23T16:59:23.167814",
     "exception": false,
     "start_time": "2024-05-23T16:59:23.146640",
     "status": "completed"
    },
    "tags": []
   },
   "source": [
    "**Create further breakdown of information**\n",
    "* Created new columns to separate information in 'started_at' and 'ended_at' to the following:\n",
    "> date\n",
    "> year\n",
    "> month\n",
    "> day\n",
    "> day_of_the_week\n",
    "> start_time\n",
    "> end_time\n",
    "* Created new columns to calculate trip duration and trip distance made by riders\n",
    "> trip_duration_secs\n",
    "> trip_duration_mins\n",
    "> trip_distance_km\n",
    "* For *'trip_distance_km'*, I used the haversine formula to calculate the distance between stations since the data has information on latitude and longitude"
   ]
  },
  {
   "cell_type": "code",
   "execution_count": 15,
   "id": "417617ed",
   "metadata": {
    "execution": {
     "iopub.execute_input": "2024-05-23T16:59:23.213693Z",
     "iopub.status.busy": "2024-05-23T16:59:23.212198Z",
     "iopub.status.idle": "2024-05-23T16:59:42.735086Z",
     "shell.execute_reply": "2024-05-23T16:59:42.733215Z"
    },
    "papermill": {
     "duration": 19.549206,
     "end_time": "2024-05-23T16:59:42.738214",
     "exception": false,
     "start_time": "2024-05-23T16:59:23.189008",
     "status": "completed"
    },
    "tags": []
   },
   "outputs": [],
   "source": [
    "# Further breakdown on information for started_at and ended_at (dttm)\n",
    "#Date-related information\n",
    "Cyclistic1$date <- as.Date(Cyclistic1$started_at)\n",
    "Cyclistic1$year <- format(as.Date(Cyclistic1$date),\"%Y\")\n",
    "Cyclistic1$month <- format(as.Date(Cyclistic1$date),\"%B\")\n",
    "Cyclistic1$month <- factor(Cyclistic1$month, levels = c(\"January\", \"February\", \"March\", \"April\", \"May\", \"June\", \"July\", \"August\", \"September\", \"October\", \"November\", \"December\"), ordered=TRUE)\n",
    "Cyclistic1$day <- format(as.Date(Cyclistic1$date),\"%d\")\n",
    "Cyclistic1$day_of_week <- format(as.Date(Cyclistic1$date),\"%A\")\n",
    "Cyclistic1$day_of_week <- factor(Cyclistic1$day_of_week, levels = c(\"Monday\", \"Tuesday\", \"Wednesday\", \"Thursday\", \"Friday\", \"Saturday\", \"Sunday\"), ordered=TRUE)\n",
    "\n",
    "#Time-related information\n",
    "Cyclistic1$start_time <- format(as.POSIXct(Cyclistic1$started_at),\"%H:%M:%S\")\n",
    "Cyclistic1$end_time <- format(as.POSIXct(Cyclistic1$ended_at),\"%H:%M:%S\")\n",
    "\n",
    "##(TO REVIEW)\n",
    "#Change type of columns for start_time and end_time \n",
    "Cyclistic1$start_time = hms(Cyclistic1$start_time)\n",
    "Cyclistic1$end_time = hms(Cyclistic1$end_time)\n",
    "\n",
    "#Find trip duration (difference between start and end of trips)\n",
    "Cyclistic1$trip_duration_secs <- as.numeric(difftime(Cyclistic1$ended_at, Cyclistic1$started_at, units = \"secs\"))\n",
    "#Convert to minute\n",
    "Cyclistic1$trip_duration_mins <- seconds_to_period(Cyclistic1$trip_duration_secs)\n",
    "\n",
    "#Function for haversine\n",
    "haversine_distance <- function(start_lat, start_lng, end_lat, end_lng) {\n",
    "  #Convert lat to radians\n",
    "  lat1 <- start_lat * pi / 180\n",
    "  lon1 <- start_lng * pi / 180\n",
    "  lat2 <- end_lat * pi / 180\n",
    "  lon2 <- end_lng * pi / 180\n",
    "  \n",
    "  #Radius Earth in km\n",
    "  earth_radius <- 6371\n",
    "  \n",
    "  #Haversine formula\n",
    "  dlat <- lat2 - lat1\n",
    "  dlon <- lon2 - lon1\n",
    "  \n",
    "  a <- sin(dlat/2)^2 + cos(lat1) * cos(lat2) * sin(dlon/2)^2\n",
    "  c <- 2 * atan2(sqrt(a), sqrt(1-a))\n",
    "  distance <- 6371 * c\n",
    "}\n",
    "\n",
    "#Distance-related data\n",
    "Cyclistic1$trip_distance_km <- haversine_distance (Cyclistic1$start_lat, Cyclistic1$start_lng, Cyclistic1$end_lat, Cyclistic1$end_lng)\n"
   ]
  },
  {
   "cell_type": "code",
   "execution_count": 16,
   "id": "a4cd96ee",
   "metadata": {
    "execution": {
     "iopub.execute_input": "2024-05-23T16:59:42.784844Z",
     "iopub.status.busy": "2024-05-23T16:59:42.783344Z",
     "iopub.status.idle": "2024-05-23T16:59:42.972006Z",
     "shell.execute_reply": "2024-05-23T16:59:42.970379Z"
    },
    "papermill": {
     "duration": 0.214091,
     "end_time": "2024-05-23T16:59:42.974174",
     "exception": false,
     "start_time": "2024-05-23T16:59:42.760083",
     "status": "completed"
    },
    "tags": []
   },
   "outputs": [
    {
     "data": {
      "text/html": [
       "<table class=\"dataframe\">\n",
       "<caption>A tibble: 1 × 2</caption>\n",
       "<thead>\n",
       "\t<tr><th scope=col>trip_distance_km</th><th scope=col>n</th></tr>\n",
       "\t<tr><th scope=col>&lt;dbl&gt;</th><th scope=col>&lt;int&gt;</th></tr>\n",
       "</thead>\n",
       "<tbody>\n",
       "\t<tr><td>0</td><td>179862</td></tr>\n",
       "</tbody>\n",
       "</table>\n"
      ],
      "text/latex": [
       "A tibble: 1 × 2\n",
       "\\begin{tabular}{ll}\n",
       " trip\\_distance\\_km & n\\\\\n",
       " <dbl> & <int>\\\\\n",
       "\\hline\n",
       "\t 0 & 179862\\\\\n",
       "\\end{tabular}\n"
      ],
      "text/markdown": [
       "\n",
       "A tibble: 1 × 2\n",
       "\n",
       "| trip_distance_km &lt;dbl&gt; | n &lt;int&gt; |\n",
       "|---|---|\n",
       "| 0 | 179862 |\n",
       "\n"
      ],
      "text/plain": [
       "  trip_distance_km n     \n",
       "1 0                179862"
      ]
     },
     "metadata": {},
     "output_type": "display_data"
    }
   ],
   "source": [
    "#Check how many rows with 0km in trip_distance_km column\n",
    "Cyclistic1 %>%\n",
    "  filter(trip_distance_km == 0) %>%\n",
    "  count(trip_distance_km)\n"
   ]
  },
  {
   "cell_type": "markdown",
   "id": "48893ca7",
   "metadata": {
    "papermill": {
     "duration": 0.021976,
     "end_time": "2024-05-23T16:59:43.017981",
     "exception": false,
     "start_time": "2024-05-23T16:59:42.996005",
     "status": "completed"
    },
    "tags": []
   },
   "source": [
    "* From the data frame, Cyclistic1 there are 179,862 rows with 0 km as trip distance. \n",
    "However, I decided to filter any bike trips with less than 100m to avoid any inaccuracy as these data could be noisy data. \n",
    "* As per divvybikes’ disclaimer, **any trip below 60 seconds in length are potentially false starts or users were trying to redock bike to ensure it was secure**. Hence, I created a new data frame to filter out these conditions.\n",
    "* Created a new data frame, Cyclistic2, to filter trips below 60 seconds and those with a trip distance less than 100m. Removed 282,484 rows from Cyclistic1.\n",
    "* Next, I checked the average, minimum, maximum and standard deviation for both trip_duration and trip_distance to ensure there were no anomalies in the data frame."
   ]
  },
  {
   "cell_type": "code",
   "execution_count": 17,
   "id": "262548b7",
   "metadata": {
    "execution": {
     "iopub.execute_input": "2024-05-23T16:59:43.064841Z",
     "iopub.status.busy": "2024-05-23T16:59:43.063240Z",
     "iopub.status.idle": "2024-05-23T17:00:04.178236Z",
     "shell.execute_reply": "2024-05-23T17:00:04.176522Z"
    },
    "papermill": {
     "duration": 21.140939,
     "end_time": "2024-05-23T17:00:04.180544",
     "exception": false,
     "start_time": "2024-05-23T16:59:43.039605",
     "status": "completed"
    },
    "tags": []
   },
   "outputs": [
    {
     "data": {
      "text/plain": [
       "   ride_id          rideable_type        started_at                 \n",
       " Length:4049223     Length:4049223     Min.   :2023-01-01 00:02:06  \n",
       " Class :character   Class :character   1st Qu.:2023-05-20 14:09:00  \n",
       " Mode  :character   Mode  :character   Median :2023-07-20 20:02:50  \n",
       "                                       Mean   :2023-07-16 02:29:34  \n",
       "                                       3rd Qu.:2023-09-17 13:56:45  \n",
       "                                       Max.   :2023-12-31 23:58:00  \n",
       "                                                                    \n",
       "    ended_at                   start_station_name start_station_id  \n",
       " Min.   :2023-01-01 00:13:56   Length:4049223     Length:4049223    \n",
       " 1st Qu.:2023-05-20 14:29:26   Class :character   Class :character  \n",
       " Median :2023-07-20 20:18:49   Mode  :character   Mode  :character  \n",
       " Mean   :2023-07-16 02:44:52                                        \n",
       " 3rd Qu.:2023-09-17 14:14:49                                        \n",
       " Max.   :2024-01-01 14:20:00                                        \n",
       "                                                                    \n",
       " end_station_name   end_station_id       start_lat       start_lng     \n",
       " Length:4049223     Length:4049223     Min.   :41.65   Min.   :-87.84  \n",
       " Class :character   Class :character   1st Qu.:41.88   1st Qu.:-87.66  \n",
       " Mode  :character   Mode  :character   Median :41.90   Median :-87.64  \n",
       "                                       Mean   :41.90   Mean   :-87.64  \n",
       "                                       3rd Qu.:41.93   3rd Qu.:-87.63  \n",
       "                                       Max.   :42.06   Max.   :-87.53  \n",
       "                                                                       \n",
       "    end_lat         end_lng       member_casual           date           \n",
       " Min.   : 0.00   Min.   :-87.84   Length:4049223     Min.   :2023-01-01  \n",
       " 1st Qu.:41.88   1st Qu.:-87.66   Class :character   1st Qu.:2023-05-20  \n",
       " Median :41.90   Median :-87.64   Mode  :character   Median :2023-07-20  \n",
       " Mean   :41.90   Mean   :-87.65                      Mean   :2023-07-15  \n",
       " 3rd Qu.:41.93   3rd Qu.:-87.63                      3rd Qu.:2023-09-17  \n",
       " Max.   :42.06   Max.   :  0.00                      Max.   :2023-12-31  \n",
       "                                                                         \n",
       "     year                 month             day               day_of_week    \n",
       " Length:4049223     August   : 545496   Length:4049223     Monday   :525634  \n",
       " Class :character   July     : 531267   Class :character   Tuesday  :595045  \n",
       " Mode  :character   June     : 498662   Mode  :character   Wednesday:601264  \n",
       "                    September: 473992                      Thursday :614800  \n",
       "                    May      : 429260                      Friday   :588085  \n",
       "                    October  : 382323                      Saturday :609206  \n",
       "                    (Other)  :1188223                      Sunday   :515189  \n",
       "   start_time                           end_time                        \n",
       " Min.   :0S                          Min.   :0S                         \n",
       " 1st Qu.:11H 2M 35S                  1st Qu.:11H 13M 34S                \n",
       " Median :15H 23M 27S                 Median :15H 36M 34S                \n",
       " Mean   :14H 32M 10.9344086507554S   Mean   :14H 42M 1.09594853136514S  \n",
       " 3rd Qu.:18H 4M 52S                  3rd Qu.:18H 17M 32S                \n",
       " Max.   :23H 59M 59S                 Max.   :23H 59M 59S                \n",
       "                                                                        \n",
       " trip_duration_secs trip_duration_mins              trip_distance_km  \n",
       " Min.   :    61.0   Min.   :1M 1S                   Min.   :   0.100  \n",
       " 1st Qu.:   352.0   1st Qu.:5M 52S                  1st Qu.:   0.994  \n",
       " Median :   593.0   Median :9M 53S                  Median :   1.621  \n",
       " Mean   :   917.4   Mean   :15M 17.4349945656253S   Mean   :   2.205  \n",
       " 3rd Qu.:  1026.0   3rd Qu.:17M 6S                  3rd Qu.:   2.801  \n",
       " Max.   :728178.0   Max.   :8d 10H 16M 18S          Max.   :9811.344  \n",
       "                                                                      "
      ]
     },
     "metadata": {},
     "output_type": "display_data"
    },
    {
     "data": {
      "text/html": [
       "917.434994565625"
      ],
      "text/latex": [
       "917.434994565625"
      ],
      "text/markdown": [
       "917.434994565625"
      ],
      "text/plain": [
       "[1] 917.435"
      ]
     },
     "metadata": {},
     "output_type": "display_data"
    },
    {
     "data": {
      "text/html": [
       "61"
      ],
      "text/latex": [
       "61"
      ],
      "text/markdown": [
       "61"
      ],
      "text/plain": [
       "[1] 61"
      ]
     },
     "metadata": {},
     "output_type": "display_data"
    },
    {
     "data": {
      "text/html": [
       "728178"
      ],
      "text/latex": [
       "728178"
      ],
      "text/markdown": [
       "728178"
      ],
      "text/plain": [
       "[1] 728178"
      ]
     },
     "metadata": {},
     "output_type": "display_data"
    },
    {
     "data": {
      "text/html": [
       "1923.51960427835"
      ],
      "text/latex": [
       "1923.51960427835"
      ],
      "text/markdown": [
       "1923.51960427835"
      ],
      "text/plain": [
       "[1] 1923.52"
      ]
     },
     "metadata": {},
     "output_type": "display_data"
    },
    {
     "data": {
      "text/html": [
       "2.20506832947126"
      ],
      "text/latex": [
       "2.20506832947126"
      ],
      "text/markdown": [
       "2.20506832947126"
      ],
      "text/plain": [
       "[1] 2.205068"
      ]
     },
     "metadata": {},
     "output_type": "display_data"
    },
    {
     "data": {
      "text/html": [
       "0.100004651691429"
      ],
      "text/latex": [
       "0.100004651691429"
      ],
      "text/markdown": [
       "0.100004651691429"
      ],
      "text/plain": [
       "[1] 0.1000047"
      ]
     },
     "metadata": {},
     "output_type": "display_data"
    },
    {
     "data": {
      "text/html": [
       "9811.34357542808"
      ],
      "text/latex": [
       "9811.34357542808"
      ],
      "text/markdown": [
       "9811.34357542808"
      ],
      "text/plain": [
       "[1] 9811.344"
      ]
     },
     "metadata": {},
     "output_type": "display_data"
    },
    {
     "data": {
      "text/html": [
       "7.13244895687955"
      ],
      "text/latex": [
       "7.13244895687955"
      ],
      "text/markdown": [
       "7.13244895687955"
      ],
      "text/plain": [
       "[1] 7.132449"
      ]
     },
     "metadata": {},
     "output_type": "display_data"
    }
   ],
   "source": [
    "#Create a new data frame to remove trips > 60secs and to filter 0 km trip distance\n",
    "Cyclistic2 <- Cyclistic1 %>%\n",
    "  filter(trip_duration_secs > 60) %>%\n",
    "  filter(trip_distance_km >= 0.1)\n",
    "\n",
    "summary(Cyclistic2)\n",
    "\n",
    "#Check the mean, min, max, sd of the data\n",
    "mean(Cyclistic2$trip_duration_secs)\n",
    "min(Cyclistic2$trip_duration_secs)\n",
    "max(Cyclistic2$trip_duration_secs)\n",
    "sd(Cyclistic2$trip_duration_secs)\n",
    "\n",
    "\n",
    "mean(Cyclistic2$trip_distance_km)\n",
    "min(Cyclistic2$trip_distance_km)\n",
    "max(Cyclistic2$trip_distance_km)\n",
    "sd(Cyclistic2$trip_distance_km)"
   ]
  },
  {
   "cell_type": "markdown",
   "id": "3215e43c",
   "metadata": {
    "papermill": {
     "duration": 0.02285,
     "end_time": "2024-05-23T17:00:04.226947",
     "exception": false,
     "start_time": "2024-05-23T17:00:04.204097",
     "status": "completed"
    },
    "tags": []
   },
   "source": [
    "***For easy reference***\n",
    "* **Mean_tripduration**: 917.43 secs, **Min_tripduration**: 61.00 secs,**Max_tripduration**: 728178 secs\n",
    "* **Standard Deviation for tripduration**: 1923.51 secs\n",
    "\n",
    "* **Mean_tripduration**: 2.20 km, **Min_tripduration**: 0.10 km, **Max_tripduration**: 9811.34 km\n",
    "* **Standard Deviation for tripdistance**: 7.13 km\n",
    "\n",
    "**Dealing with Outliers in the dataframe**\n",
    "* Based on the above numbers, I discovered outliers in the data frame: the maximum values in trip_duration and trip_distance seemed implausible and significantly deviated from the standard deviation. To further investigate, I generated a box and whisker plot graph of the data frame to detect outliers."
   ]
  },
  {
   "cell_type": "code",
   "execution_count": 18,
   "id": "7b7e4dd9",
   "metadata": {
    "execution": {
     "iopub.execute_input": "2024-05-23T17:00:04.275866Z",
     "iopub.status.busy": "2024-05-23T17:00:04.274353Z",
     "iopub.status.idle": "2024-05-23T17:00:37.642453Z",
     "shell.execute_reply": "2024-05-23T17:00:37.640617Z"
    },
    "papermill": {
     "duration": 33.419297,
     "end_time": "2024-05-23T17:00:37.669047",
     "exception": false,
     "start_time": "2024-05-23T17:00:04.249750",
     "status": "completed"
    },
    "tags": []
   },
   "outputs": [
    {
     "data": {
      "image/png": "[encoded data removed]"
     },
     "metadata": {
      "image/png": {
       "height": 420,
       "width": 420
      }
     },
     "output_type": "display_data"
    },
    {
     "data": {
      "image/png": "[encoded data removed]"
     },
     "metadata": {
      "image/png": {
       "height": 420,
       "width": 420
      }
     },
     "output_type": "display_data"
    }
   ],
   "source": [
    "##Load library ggplot\n",
    "library(ggplot2)\n",
    "options(scipen=999)\n",
    "\n",
    "#To detect outlier\n",
    "ggplot(Cyclistic2) +\n",
    "  aes(member_casual, trip_duration_secs) +\n",
    "  geom_boxplot()\n",
    "\n",
    "ggplot(Cyclistic2) +\n",
    "  aes(member_casual, trip_distance_km) +\n",
    "  geom_boxplot()"
   ]
  },
  {
   "cell_type": "markdown",
   "id": "792253ca",
   "metadata": {
    "papermill": {
     "duration": 0.024109,
     "end_time": "2024-05-23T17:00:37.717059",
     "exception": false,
     "start_time": "2024-05-23T17:00:37.692950",
     "status": "completed"
    },
    "tags": []
   },
   "source": [
    "* From the above box and whisker plot graphs, I can conclude that  trip_duration above 100,000 secs and trip_distance more than 2,500 km are indeed the outliers and needs to be removed.\n",
    "* Created a new dataframe, Cyclistic3 to filter the trip_duration_sec above 100,000 secs and trip_distance_km above 2,500 km\n",
    "* Generated another box and whisker plot graph to check the outliers in the new dataframe, **Cyclistic3**"
   ]
  },
  {
   "cell_type": "code",
   "execution_count": 19,
   "id": "80b0a629",
   "metadata": {
    "execution": {
     "iopub.execute_input": "2024-05-23T17:00:37.768779Z",
     "iopub.status.busy": "2024-05-23T17:00:37.767182Z",
     "iopub.status.idle": "2024-05-23T17:01:19.603111Z",
     "shell.execute_reply": "2024-05-23T17:01:19.601254Z"
    },
    "papermill": {
     "duration": 41.864174,
     "end_time": "2024-05-23T17:01:19.605407",
     "exception": false,
     "start_time": "2024-05-23T17:00:37.741233",
     "status": "completed"
    },
    "tags": []
   },
   "outputs": [
    {
     "data": {
      "image/png": "[encoded data removed]"
     },
     "metadata": {
      "image/png": {
       "height": 420,
       "width": 420
      }
     },
     "output_type": "display_data"
    },
    {
     "data": {
      "image/png": "[encoded data removed]"
     },
     "metadata": {
      "image/png": {
       "height": 420,
       "width": 420
      }
     },
     "output_type": "display_data"
    }
   ],
   "source": [
    "#Create new data frame to remove the outlier\n",
    "Cyclistic3 <- Cyclistic2 %>%\n",
    "  filter(trip_duration_secs < 100000) %>%\n",
    "  filter(trip_distance_km < 2500)\n",
    "\n",
    "ggplot(Cyclistic3) +\n",
    "  aes(member_casual, trip_duration_secs) +\n",
    "  geom_boxplot()\n",
    "\n",
    "ggplot(Cyclistic3) +\n",
    "  aes(member_casual, trip_distance_km) +\n",
    "  geom_boxplot()"
   ]
  },
  {
   "cell_type": "code",
   "execution_count": 20,
   "id": "67cf0560",
   "metadata": {
    "execution": {
     "iopub.execute_input": "2024-05-23T17:01:19.658950Z",
     "iopub.status.busy": "2024-05-23T17:01:19.657409Z",
     "iopub.status.idle": "2024-05-23T17:01:25.283510Z",
     "shell.execute_reply": "2024-05-23T17:01:25.281856Z"
    },
    "papermill": {
     "duration": 5.655164,
     "end_time": "2024-05-23T17:01:25.285687",
     "exception": false,
     "start_time": "2024-05-23T17:01:19.630523",
     "status": "completed"
    },
    "tags": []
   },
   "outputs": [
    {
     "data": {
      "text/plain": [
       "   ride_id          rideable_type        started_at                 \n",
       " Length:4049211     Length:4049211     Min.   :2023-01-01 00:02:06  \n",
       " Class :character   Class :character   1st Qu.:2023-05-20 14:09:00  \n",
       " Mode  :character   Mode  :character   Median :2023-07-20 20:02:53  \n",
       "                                       Mean   :2023-07-16 02:29:40  \n",
       "                                       3rd Qu.:2023-09-17 13:57:00  \n",
       "                                       Max.   :2023-12-31 23:58:00  \n",
       "                                                                    \n",
       "    ended_at                   start_station_name start_station_id  \n",
       " Min.   :2023-01-01 00:13:56   Length:4049211     Length:4049211    \n",
       " 1st Qu.:2023-05-20 14:29:26   Class :character   Class :character  \n",
       " Median :2023-07-20 20:18:57   Mode  :character   Mode  :character  \n",
       " Mean   :2023-07-16 02:44:57                                        \n",
       " 3rd Qu.:2023-09-17 14:15:16                                        \n",
       " Max.   :2024-01-01 14:20:00                                        \n",
       "                                                                    \n",
       " end_station_name   end_station_id       start_lat       start_lng     \n",
       " Length:4049211     Length:4049211     Min.   :41.65   Min.   :-87.84  \n",
       " Class :character   Class :character   1st Qu.:41.88   1st Qu.:-87.66  \n",
       " Mode  :character   Mode  :character   Median :41.90   Median :-87.64  \n",
       "                                       Mean   :41.90   Mean   :-87.64  \n",
       "                                       3rd Qu.:41.93   3rd Qu.:-87.63  \n",
       "                                       Max.   :42.06   Max.   :-87.53  \n",
       "                                                                       \n",
       "    end_lat         end_lng       member_casual           date           \n",
       " Min.   :41.65   Min.   :-87.84   Length:4049211     Min.   :2023-01-01  \n",
       " 1st Qu.:41.88   1st Qu.:-87.66   Class :character   1st Qu.:2023-05-20  \n",
       " Median :41.90   Median :-87.64   Mode  :character   Median :2023-07-20  \n",
       " Mean   :41.90   Mean   :-87.65                      Mean   :2023-07-15  \n",
       " 3rd Qu.:41.93   3rd Qu.:-87.63                      3rd Qu.:2023-09-17  \n",
       " Max.   :42.06   Max.   :-87.53                      Max.   :2023-12-31  \n",
       "                                                                         \n",
       "     year                 month             day               day_of_week    \n",
       " Length:4049211     August   : 545492   Length:4049211     Monday   :525633  \n",
       " Class :character   July     : 531266   Class :character   Tuesday  :595044  \n",
       " Mode  :character   June     : 498659   Mode  :character   Wednesday:601262  \n",
       "                    September: 473992                      Thursday :614795  \n",
       "                    May      : 429257                      Friday   :588084  \n",
       "                    October  : 382323                      Saturday :609205  \n",
       "                    (Other)  :1188222                      Sunday   :515188  \n",
       "   start_time                           end_time                        \n",
       " Min.   :0S                          Min.   :0S                         \n",
       " 1st Qu.:11H 2M 35S                  1st Qu.:11H 13M 34S                \n",
       " Median :15H 23M 27S                 Median :15H 36M 34S                \n",
       " Mean   :14H 32M 10.9170512477504S   Mean   :14H 42M 1.09609699271823S  \n",
       " 3rd Qu.:18H 4M 52S                  3rd Qu.:18H 17M 32S                \n",
       " Max.   :23H 59M 59S                 Max.   :23H 59M 59S                \n",
       "                                                                        \n",
       " trip_duration_secs trip_duration_mins              trip_distance_km \n",
       " Min.   :   61.0    Min.   :1M 1S                   Min.   : 0.1000  \n",
       " 1st Qu.:  352.0    1st Qu.:5M 52S                  1st Qu.: 0.9944  \n",
       " Median :  593.0    Median :9M 53S                  Median : 1.6210  \n",
       " Mean   :  916.8    Mean   :15M 16.7493331416905S   Mean   : 2.2002  \n",
       " 3rd Qu.: 1026.0    3rd Qu.:17M 6S                  3rd Qu.: 2.8007  \n",
       " Max.   :89929.0    Max.   :1d 0H 58M 49S           Max.   :33.0850  \n",
       "                                                                     "
      ]
     },
     "metadata": {},
     "output_type": "display_data"
    },
    {
     "data": {
      "text/html": [
       "916.74933314169"
      ],
      "text/latex": [
       "916.74933314169"
      ],
      "text/markdown": [
       "916.74933314169"
      ],
      "text/plain": [
       "[1] 916.7493"
      ]
     },
     "metadata": {},
     "output_type": "display_data"
    },
    {
     "data": {
      "text/html": [
       "61"
      ],
      "text/latex": [
       "61"
      ],
      "text/markdown": [
       "61"
      ],
      "text/plain": [
       "[1] 61"
      ]
     },
     "metadata": {},
     "output_type": "display_data"
    },
    {
     "data": {
      "text/html": [
       "89929"
      ],
      "text/latex": [
       "89929"
      ],
      "text/markdown": [
       "89929"
      ],
      "text/plain": [
       "[1] 89929"
      ]
     },
     "metadata": {},
     "output_type": "display_data"
    },
    {
     "data": {
      "text/html": [
       "1853.5974807551"
      ],
      "text/latex": [
       "1853.5974807551"
      ],
      "text/markdown": [
       "1853.5974807551"
      ],
      "text/plain": [
       "[1] 1853.597"
      ]
     },
     "metadata": {},
     "output_type": "display_data"
    },
    {
     "data": {
      "text/html": [
       "2.20022045515023"
      ],
      "text/latex": [
       "2.20022045515023"
      ],
      "text/markdown": [
       "2.20022045515023"
      ],
      "text/plain": [
       "[1] 2.20022"
      ]
     },
     "metadata": {},
     "output_type": "display_data"
    },
    {
     "data": {
      "text/html": [
       "0.100004651691429"
      ],
      "text/latex": [
       "0.100004651691429"
      ],
      "text/markdown": [
       "0.100004651691429"
      ],
      "text/plain": [
       "[1] 0.1000047"
      ]
     },
     "metadata": {},
     "output_type": "display_data"
    },
    {
     "data": {
      "text/html": [
       "33.0849811205525"
      ],
      "text/latex": [
       "33.0849811205525"
      ],
      "text/markdown": [
       "33.0849811205525"
      ],
      "text/plain": [
       "[1] 33.08498"
      ]
     },
     "metadata": {},
     "output_type": "display_data"
    },
    {
     "data": {
      "text/html": [
       "1.83025371229119"
      ],
      "text/latex": [
       "1.83025371229119"
      ],
      "text/markdown": [
       "1.83025371229119"
      ],
      "text/plain": [
       "[1] 1.830254"
      ]
     },
     "metadata": {},
     "output_type": "display_data"
    }
   ],
   "source": [
    "summary(Cyclistic3)\n",
    "\n",
    "#Check the mean, min, max, sd of the data\n",
    "mean(Cyclistic3$trip_duration_secs)\n",
    "min(Cyclistic3$trip_duration_secs)\n",
    "max(Cyclistic3$trip_duration_secs)\n",
    "sd(Cyclistic3$trip_duration_secs)\n",
    "\n",
    "mean(Cyclistic3$trip_distance_km)\n",
    "min(Cyclistic3$trip_distance_km)\n",
    "max(Cyclistic3$trip_distance_km)\n",
    "sd(Cyclistic3$trip_distance_km)\n"
   ]
  },
  {
   "cell_type": "markdown",
   "id": "65ef4fd3",
   "metadata": {
    "papermill": {
     "duration": 0.026116,
     "end_time": "2024-05-23T17:01:25.338286",
     "exception": false,
     "start_time": "2024-05-23T17:01:25.312170",
     "status": "completed"
    },
    "tags": []
   },
   "source": [
    "***For easy reference***\n",
    "* **Mean_tripduration**: 916.74 secs, **Min_tripduration**: 61.00 secs,**Max_tripduration**: 89929 secs\n",
    "* **Standard Deviation for tripduration**: 1853.59 secs\n",
    "\n",
    "* **Mean_tripduration**: 2.20 km, **Min_tripduration**: 0.10 km, **Max_tripduration**: 33.08 km\n",
    "* **Standard Deviation for tripdistance**: 1.83 km\n",
    "\n",
    "* Since the maximum values in trip_duration and trip_distance still seemed implausible and deviated from the standard deviation, I decided to remove the outliers using Interquartile Range (IQR)"
   ]
  },
  {
   "cell_type": "code",
   "execution_count": 21,
   "id": "ab161bd5",
   "metadata": {
    "execution": {
     "iopub.execute_input": "2024-05-23T17:01:25.394024Z",
     "iopub.status.busy": "2024-05-23T17:01:25.392543Z",
     "iopub.status.idle": "2024-05-23T17:01:25.435456Z",
     "shell.execute_reply": "2024-05-23T17:01:25.433773Z"
    },
    "papermill": {
     "duration": 0.073209,
     "end_time": "2024-05-23T17:01:25.437583",
     "exception": false,
     "start_time": "2024-05-23T17:01:25.364374",
     "status": "completed"
    },
    "tags": []
   },
   "outputs": [
    {
     "name": "stdout",
     "output_type": "stream",
     "text": [
      "[1] 674\n",
      "[1] -659\n",
      "[1] 2037\n",
      "[1] 1.8063\n",
      "[1] -1.71505\n",
      "[1] 5.51015\n"
     ]
    }
   ],
   "source": [
    "#Function to find outliers using Interquartile Range (IQR) - trip duration\n",
    "trip_duration_iqr <- 1026-352\n",
    "trip_duration_lowoutliers <- 352 - 1.5*674\n",
    "trip_duration_highoutliers <- 1026 + 1.5*674\n",
    "\n",
    "#Result of the above functions\n",
    "print(trip_duration_iqr)\n",
    "print(trip_duration_lowoutliers)\n",
    "print(trip_duration_highoutliers)\n",
    "\n",
    "#Function to find outliers using Interquartile Range (IQR) - trip distance\n",
    "trip_distance_iqr <- 2.8007-0.9944\n",
    "trip_distance_lowoutliers <- 0.9944 - 1.5*1.8063\n",
    "trip_distance_highoutliers <- 2.8007 + 1.5*1.8063\n",
    "\n",
    "#Result of the above functions\n",
    "print(trip_distance_iqr)\n",
    "print(trip_distance_lowoutliers)\n",
    "print(trip_distance_highoutliers)"
   ]
  },
  {
   "cell_type": "markdown",
   "id": "781f6fe1",
   "metadata": {
    "papermill": {
     "duration": 0.026872,
     "end_time": "2024-05-23T17:01:25.491507",
     "exception": false,
     "start_time": "2024-05-23T17:01:25.464635",
     "status": "completed"
    },
    "tags": []
   },
   "source": [
    "* Created a new dataframe, **Cyclistic4**, filtering out the high outliers for trip_duration and trip_distance\n",
    "* Generated box and whisker plot graph for Cyclistic4 to recheck on the outliers."
   ]
  },
  {
   "cell_type": "code",
   "execution_count": 22,
   "id": "f068d6e1",
   "metadata": {
    "execution": {
     "iopub.execute_input": "2024-05-23T17:01:25.548445Z",
     "iopub.status.busy": "2024-05-23T17:01:25.546854Z",
     "iopub.status.idle": "2024-05-23T17:01:47.558606Z",
     "shell.execute_reply": "2024-05-23T17:01:47.556780Z"
    },
    "papermill": {
     "duration": 22.042802,
     "end_time": "2024-05-23T17:01:47.560834",
     "exception": false,
     "start_time": "2024-05-23T17:01:25.518032",
     "status": "completed"
    },
    "tags": []
   },
   "outputs": [
    {
     "data": {
      "text/plain": [
       "   ride_id          rideable_type        started_at                 \n",
       " Length:3623233     Length:3623233     Min.   :2023-01-01 00:02:06  \n",
       " Class :character   Class :character   1st Qu.:2023-05-18 18:19:05  \n",
       " Mode  :character   Mode  :character   Median :2023-07-20 23:23:51  \n",
       "                                       Mean   :2023-07-15 23:17:22  \n",
       "                                       3rd Qu.:2023-09-19 07:12:52  \n",
       "                                       Max.   :2023-12-31 23:58:00  \n",
       "                                                                    \n",
       "    ended_at                   start_station_name start_station_id  \n",
       " Min.   :2023-01-01 00:13:56   Length:3623233     Length:3623233    \n",
       " 1st Qu.:2023-05-18 18:31:14   Class :character   Class :character  \n",
       " Median :2023-07-20 23:33:54   Mode  :character   Mode  :character  \n",
       " Mean   :2023-07-15 23:27:58                                        \n",
       " 3rd Qu.:2023-09-19 07:23:23                                        \n",
       " Max.   :2024-01-01 00:24:00                                        \n",
       "                                                                    \n",
       " end_station_name   end_station_id       start_lat       start_lng     \n",
       " Length:3623233     Length:3623233     Min.   :41.65   Min.   :-87.84  \n",
       " Class :character   Class :character   1st Qu.:41.88   1st Qu.:-87.66  \n",
       " Mode  :character   Mode  :character   Median :41.90   Median :-87.64  \n",
       "                                       Mean   :41.90   Mean   :-87.65  \n",
       "                                       3rd Qu.:41.93   3rd Qu.:-87.63  \n",
       "                                       Max.   :42.06   Max.   :-87.53  \n",
       "                                                                       \n",
       "    end_lat         end_lng       member_casual           date           \n",
       " Min.   :41.65   Min.   :-87.84   Length:3623233     Min.   :2023-01-01  \n",
       " 1st Qu.:41.88   1st Qu.:-87.66   Class :character   1st Qu.:2023-05-18  \n",
       " Median :41.90   Median :-87.64   Mode  :character   Median :2023-07-20  \n",
       " Mean   :41.90   Mean   :-87.65                      Mean   :2023-07-15  \n",
       " 3rd Qu.:41.93   3rd Qu.:-87.63                      3rd Qu.:2023-09-19  \n",
       " Max.   :42.06   Max.   :-87.53                      Max.   :2023-12-31  \n",
       "                                                                         \n",
       "     year                 month             day               day_of_week    \n",
       " Length:3623233     August   : 480123   Length:3623233     Monday   :475373  \n",
       " Class :character   July     : 461663   Class :character   Tuesday  :541402  \n",
       " Mode  :character   June     : 437713   Mode  :character   Wednesday:550327  \n",
       "                    September: 419016                      Thursday :560407  \n",
       "                    May      : 376632                      Friday   :528359  \n",
       "                    October  : 347060                      Saturday :524146  \n",
       "                    (Other)  :1101026                      Sunday   :443219  \n",
       "   start_time                           end_time                        \n",
       " Min.   :0S                          Min.   :0S                         \n",
       " 1st Qu.:10H 55M 47S                 1st Qu.:11H 2M 48S                 \n",
       " Median :15H 25M 39S                 Median :15H 34M 37S                \n",
       " Mean   :14H 31M 47.5055686454507S   Mean   :14H 39M 1.07350838326238S  \n",
       " 3rd Qu.:18H 7M 26S                  3rd Qu.:18H 17M 10S                \n",
       " Max.   :23H 59M 59S                 Max.   :23H 59M 59S                \n",
       "                                                                        \n",
       " trip_duration_secs trip_duration_mins              trip_distance_km\n",
       " Min.   :  61.0     Min.   :1M 1S                   Min.   :0.1000  \n",
       " 1st Qu.: 329.0     1st Qu.:5M 29S                  1st Qu.:0.9544  \n",
       " Median : 535.0     Median :8M 55S                  Median :1.5201  \n",
       " Mean   : 636.6     Mean   :10M 36.6175366033589S   Mean   :1.8389  \n",
       " 3rd Qu.: 845.0     3rd Qu.:14M 5S                  3rd Qu.:2.4642  \n",
       " Max.   :2036.0     Max.   :33M 56S                 Max.   :5.5101  \n",
       "                                                                    "
      ]
     },
     "metadata": {},
     "output_type": "display_data"
    },
    {
     "data": {
      "image/png": "[encoded data removed]"
     },
     "metadata": {
      "image/png": {
       "height": 420,
       "width": 420
      }
     },
     "output_type": "display_data"
    }
   ],
   "source": [
    "Cyclistic4 <- Cyclistic3 %>%\n",
    "  filter(trip_duration_secs < 2037) %>%\n",
    "  filter(trip_distance_km < 5.51015)\n",
    "\n",
    "summary(Cyclistic4)\n",
    "\n",
    "ggplot(Cyclistic4) +\n",
    "  aes(member_casual, trip_duration_secs) +\n",
    "  geom_boxplot()"
   ]
  },
  {
   "cell_type": "markdown",
   "id": "4c401baa",
   "metadata": {
    "papermill": {
     "duration": 0.027784,
     "end_time": "2024-05-23T17:01:47.616526",
     "exception": false,
     "start_time": "2024-05-23T17:01:47.588742",
     "status": "completed"
    },
    "tags": []
   },
   "source": [
    "**[OPTIONAL]** I decided to break down the cleaned dataframe to separate type of riders to casual riders and members to ease my analysis. "
   ]
  },
  {
   "cell_type": "code",
   "execution_count": 23,
   "id": "a5b22db6",
   "metadata": {
    "execution": {
     "iopub.execute_input": "2024-05-23T17:01:47.675180Z",
     "iopub.status.busy": "2024-05-23T17:01:47.673582Z",
     "iopub.status.idle": "2024-05-23T17:01:50.224793Z",
     "shell.execute_reply": "2024-05-23T17:01:50.222935Z"
    },
    "papermill": {
     "duration": 2.583369,
     "end_time": "2024-05-23T17:01:50.227189",
     "exception": false,
     "start_time": "2024-05-23T17:01:47.643820",
     "status": "completed"
    },
    "tags": []
   },
   "outputs": [],
   "source": [
    "Cyclistic_casual <- Cyclistic4 %>%\n",
    "  filter(member_casual == \"casual\")\n",
    "Cyclistic_member <- Cyclistic4 %>%\n",
    "  filter(member_casual == \"member\")"
   ]
  },
  {
   "cell_type": "markdown",
   "id": "165e23b7",
   "metadata": {
    "papermill": {
     "duration": 0.027476,
     "end_time": "2024-05-23T17:01:50.282286",
     "exception": false,
     "start_time": "2024-05-23T17:01:50.254810",
     "status": "completed"
    },
    "tags": []
   },
   "source": [
    "### Phase 4: ANALYSIS\n",
    "* There are several questions I prepared for the analysis, which are:\n",
    ">1. How many riders are casual riders and members?\n",
    ">2. What are the type of rides commonly used by casual riders and members riders? \n",
    ">3. What is the top 5 months with highest number of rides for overall, casual riders, members? \n",
    ">4. What factors contribute to the above?\n",
    ">5. Which day is the highest number of rides for casual riders, members?\n",
    ">6. What is the average time spent on the rides by casual riders and members\n",
    ">7. What is the average distance made by casual riders and members?\n",
    ">8. What is the highest starting station for overall, casual riders and members?\n",
    "\n"
   ]
  },
  {
   "cell_type": "code",
   "execution_count": 24,
   "id": "bab500f6",
   "metadata": {
    "execution": {
     "iopub.execute_input": "2024-05-23T17:01:50.340572Z",
     "iopub.status.busy": "2024-05-23T17:01:50.339003Z",
     "iopub.status.idle": "2024-05-23T17:01:50.523162Z",
     "shell.execute_reply": "2024-05-23T17:01:50.521502Z"
    },
    "papermill": {
     "duration": 0.215694,
     "end_time": "2024-05-23T17:01:50.525285",
     "exception": false,
     "start_time": "2024-05-23T17:01:50.309591",
     "status": "completed"
    },
    "tags": []
   },
   "outputs": [
    {
     "data": {
      "text/html": [
       "<table class=\"dataframe\">\n",
       "<caption>A grouped_df: 2 × 2</caption>\n",
       "<thead>\n",
       "\t<tr><th scope=col>member_casual</th><th scope=col>n</th></tr>\n",
       "\t<tr><th scope=col>&lt;chr&gt;</th><th scope=col>&lt;int&gt;</th></tr>\n",
       "</thead>\n",
       "<tbody>\n",
       "\t<tr><td>casual</td><td>1160050</td></tr>\n",
       "\t<tr><td>member</td><td>2463183</td></tr>\n",
       "</tbody>\n",
       "</table>\n"
      ],
      "text/latex": [
       "A grouped\\_df: 2 × 2\n",
       "\\begin{tabular}{ll}\n",
       " member\\_casual & n\\\\\n",
       " <chr> & <int>\\\\\n",
       "\\hline\n",
       "\t casual & 1160050\\\\\n",
       "\t member & 2463183\\\\\n",
       "\\end{tabular}\n"
      ],
      "text/markdown": [
       "\n",
       "A grouped_df: 2 × 2\n",
       "\n",
       "| member_casual &lt;chr&gt; | n &lt;int&gt; |\n",
       "|---|---|\n",
       "| casual | 1160050 |\n",
       "| member | 2463183 |\n",
       "\n"
      ],
      "text/plain": [
       "  member_casual n      \n",
       "1 casual        1160050\n",
       "2 member        2463183"
      ]
     },
     "metadata": {},
     "output_type": "display_data"
    }
   ],
   "source": [
    "#Question 1: How many riders are casual riders and members?\n",
    "Cyclistic4 %>%\n",
    "    group_by(member_casual) %>%\n",
    "    count(member_casual)"
   ]
  },
  {
   "cell_type": "code",
   "execution_count": 25,
   "id": "7abd6570",
   "metadata": {
    "execution": {
     "iopub.execute_input": "2024-05-23T17:01:50.584661Z",
     "iopub.status.busy": "2024-05-23T17:01:50.583052Z",
     "iopub.status.idle": "2024-05-23T17:01:58.132612Z",
     "shell.execute_reply": "2024-05-23T17:01:58.130828Z"
    },
    "papermill": {
     "duration": 7.581671,
     "end_time": "2024-05-23T17:01:58.134818",
     "exception": false,
     "start_time": "2024-05-23T17:01:50.553147",
     "status": "completed"
    },
    "tags": []
   },
   "outputs": [
    {
     "data": {
      "text/html": [
       "<table class=\"dataframe\">\n",
       "<caption>A tibble: 3 × 3</caption>\n",
       "<thead>\n",
       "\t<tr><th scope=col>rideable_type</th><th scope=col>n</th><th scope=col>percentage</th></tr>\n",
       "\t<tr><th scope=col>&lt;chr&gt;</th><th scope=col>&lt;int&gt;</th><th scope=col>&lt;dbl&gt;</th></tr>\n",
       "</thead>\n",
       "<tbody>\n",
       "\t<tr><td>classic_bike </td><td>2255853</td><td>62.26078</td></tr>\n",
       "\t<tr><td>docked_bike  </td><td>  38107</td><td> 1.05174</td></tr>\n",
       "\t<tr><td>electric_bike</td><td>1329273</td><td>36.68748</td></tr>\n",
       "</tbody>\n",
       "</table>\n"
      ],
      "text/latex": [
       "A tibble: 3 × 3\n",
       "\\begin{tabular}{lll}\n",
       " rideable\\_type & n & percentage\\\\\n",
       " <chr> & <int> & <dbl>\\\\\n",
       "\\hline\n",
       "\t classic\\_bike  & 2255853 & 62.26078\\\\\n",
       "\t docked\\_bike   &   38107 &  1.05174\\\\\n",
       "\t electric\\_bike & 1329273 & 36.68748\\\\\n",
       "\\end{tabular}\n"
      ],
      "text/markdown": [
       "\n",
       "A tibble: 3 × 3\n",
       "\n",
       "| rideable_type &lt;chr&gt; | n &lt;int&gt; | percentage &lt;dbl&gt; |\n",
       "|---|---|---|\n",
       "| classic_bike  | 2255853 | 62.26078 |\n",
       "| docked_bike   |   38107 |  1.05174 |\n",
       "| electric_bike | 1329273 | 36.68748 |\n",
       "\n"
      ],
      "text/plain": [
       "  rideable_type n       percentage\n",
       "1 classic_bike  2255853 62.26078  \n",
       "2 docked_bike     38107  1.05174  \n",
       "3 electric_bike 1329273 36.68748  "
      ]
     },
     "metadata": {},
     "output_type": "display_data"
    },
    {
     "data": {
      "text/html": [
       "<table class=\"dataframe\">\n",
       "<caption>A grouped_df: 5 × 3</caption>\n",
       "<thead>\n",
       "\t<tr><th scope=col>member_casual</th><th scope=col>rideable_type</th><th scope=col>n</th></tr>\n",
       "\t<tr><th scope=col>&lt;chr&gt;</th><th scope=col>&lt;chr&gt;</th><th scope=col>&lt;int&gt;</th></tr>\n",
       "</thead>\n",
       "<tbody>\n",
       "\t<tr><td>casual</td><td>classic_bike </td><td> 645896</td></tr>\n",
       "\t<tr><td>casual</td><td>docked_bike  </td><td>  38107</td></tr>\n",
       "\t<tr><td>casual</td><td>electric_bike</td><td> 476047</td></tr>\n",
       "\t<tr><td>member</td><td>classic_bike </td><td>1609957</td></tr>\n",
       "\t<tr><td>member</td><td>electric_bike</td><td> 853226</td></tr>\n",
       "</tbody>\n",
       "</table>\n"
      ],
      "text/latex": [
       "A grouped\\_df: 5 × 3\n",
       "\\begin{tabular}{lll}\n",
       " member\\_casual & rideable\\_type & n\\\\\n",
       " <chr> & <chr> & <int>\\\\\n",
       "\\hline\n",
       "\t casual & classic\\_bike  &  645896\\\\\n",
       "\t casual & docked\\_bike   &   38107\\\\\n",
       "\t casual & electric\\_bike &  476047\\\\\n",
       "\t member & classic\\_bike  & 1609957\\\\\n",
       "\t member & electric\\_bike &  853226\\\\\n",
       "\\end{tabular}\n"
      ],
      "text/markdown": [
       "\n",
       "A grouped_df: 5 × 3\n",
       "\n",
       "| member_casual &lt;chr&gt; | rideable_type &lt;chr&gt; | n &lt;int&gt; |\n",
       "|---|---|---|\n",
       "| casual | classic_bike  |  645896 |\n",
       "| casual | docked_bike   |   38107 |\n",
       "| casual | electric_bike |  476047 |\n",
       "| member | classic_bike  | 1609957 |\n",
       "| member | electric_bike |  853226 |\n",
       "\n"
      ],
      "text/plain": [
       "  member_casual rideable_type n      \n",
       "1 casual        classic_bike   645896\n",
       "2 casual        docked_bike     38107\n",
       "3 casual        electric_bike  476047\n",
       "4 member        classic_bike  1609957\n",
       "5 member        electric_bike  853226"
      ]
     },
     "metadata": {},
     "output_type": "display_data"
    },
    {
     "data": {
      "image/png": "[encoded data removed]"
     },
     "metadata": {
      "image/png": {
       "height": 420,
       "width": 420
      }
     },
     "output_type": "display_data"
    }
   ],
   "source": [
    "#Question 2: What are the type of rides commonly used by casual riders and members riders?\n",
    "\n",
    "Cyclistic4 %>%\n",
    "  count(rideable_type) %>%\n",
    "  mutate(percentage = n / sum(n) * 100)\n",
    "\n",
    "Cyclistic4 %>%\n",
    "    group_by(member_casual, rideable_type) %>% \n",
    "    count(rideable_type)\n",
    "\n",
    "ggplot(data=Cyclistic4) +\n",
    "  geom_bar(mapping = aes(x=rideable_type, fill=member_casual)) +\n",
    "  labs (title = \"No. of Rides for Casual Riders and Members\", subtitle = \"Data from January 2023 to December 2023\") + \n",
    "  facet_wrap(~member_casual)\n"
   ]
  },
  {
   "cell_type": "markdown",
   "id": "3e177957",
   "metadata": {
    "papermill": {
     "duration": 0.029041,
     "end_time": "2024-05-23T17:01:58.193273",
     "exception": false,
     "start_time": "2024-05-23T17:01:58.164232",
     "status": "completed"
    },
    "tags": []
   },
   "source": [
    "* Classic bikes were the most preferred type and the bikes were used **62.26%** of the time.  Casual riders used classic bikes 645,896 times and members riders used them 1,609,957 times.\n",
    "* Following this, electric bikes were used **36.68%** of the time, with casual riders used them 476,047 times and member riders used them 853,226 times.\n",
    "* Lastly, docked bikes were used by only **1.05%** of the time. No member riders used docked bike, while a small number of casual riders used them 38,107 times in 2023."
   ]
  },
  {
   "cell_type": "code",
   "execution_count": 26,
   "id": "1c5ba805",
   "metadata": {
    "execution": {
     "iopub.execute_input": "2024-05-23T17:01:58.254177Z",
     "iopub.status.busy": "2024-05-23T17:01:58.252590Z",
     "iopub.status.idle": "2024-05-23T17:02:05.274059Z",
     "shell.execute_reply": "2024-05-23T17:02:05.272323Z"
    },
    "papermill": {
     "duration": 7.054796,
     "end_time": "2024-05-23T17:02:05.276638",
     "exception": false,
     "start_time": "2024-05-23T17:01:58.221842",
     "status": "completed"
    },
    "tags": []
   },
   "outputs": [
    {
     "data": {
      "text/html": [
       "<table class=\"dataframe\">\n",
       "<caption>A tibble: 12 × 2</caption>\n",
       "<thead>\n",
       "\t<tr><th scope=col>month</th><th scope=col>n</th></tr>\n",
       "\t<tr><th scope=col>&lt;ord&gt;</th><th scope=col>&lt;int&gt;</th></tr>\n",
       "</thead>\n",
       "<tbody>\n",
       "\t<tr><td>August   </td><td>480123</td></tr>\n",
       "\t<tr><td>July     </td><td>461663</td></tr>\n",
       "\t<tr><td>June     </td><td>437713</td></tr>\n",
       "\t<tr><td>September</td><td>419016</td></tr>\n",
       "\t<tr><td>May      </td><td>376632</td></tr>\n",
       "\t<tr><td>October  </td><td>347060</td></tr>\n",
       "\t<tr><td>April    </td><td>268730</td></tr>\n",
       "\t<tr><td>November </td><td>242946</td></tr>\n",
       "\t<tr><td>March    </td><td>176482</td></tr>\n",
       "\t<tr><td>December </td><td>147826</td></tr>\n",
       "\t<tr><td>January  </td><td>133014</td></tr>\n",
       "\t<tr><td>February </td><td>132028</td></tr>\n",
       "</tbody>\n",
       "</table>\n"
      ],
      "text/latex": [
       "A tibble: 12 × 2\n",
       "\\begin{tabular}{ll}\n",
       " month & n\\\\\n",
       " <ord> & <int>\\\\\n",
       "\\hline\n",
       "\t August    & 480123\\\\\n",
       "\t July      & 461663\\\\\n",
       "\t June      & 437713\\\\\n",
       "\t September & 419016\\\\\n",
       "\t May       & 376632\\\\\n",
       "\t October   & 347060\\\\\n",
       "\t April     & 268730\\\\\n",
       "\t November  & 242946\\\\\n",
       "\t March     & 176482\\\\\n",
       "\t December  & 147826\\\\\n",
       "\t January   & 133014\\\\\n",
       "\t February  & 132028\\\\\n",
       "\\end{tabular}\n"
      ],
      "text/markdown": [
       "\n",
       "A tibble: 12 × 2\n",
       "\n",
       "| month &lt;ord&gt; | n &lt;int&gt; |\n",
       "|---|---|\n",
       "| August    | 480123 |\n",
       "| July      | 461663 |\n",
       "| June      | 437713 |\n",
       "| September | 419016 |\n",
       "| May       | 376632 |\n",
       "| October   | 347060 |\n",
       "| April     | 268730 |\n",
       "| November  | 242946 |\n",
       "| March     | 176482 |\n",
       "| December  | 147826 |\n",
       "| January   | 133014 |\n",
       "| February  | 132028 |\n",
       "\n"
      ],
      "text/plain": [
       "   month     n     \n",
       "1  August    480123\n",
       "2  July      461663\n",
       "3  June      437713\n",
       "4  September 419016\n",
       "5  May       376632\n",
       "6  October   347060\n",
       "7  April     268730\n",
       "8  November  242946\n",
       "9  March     176482\n",
       "10 December  147826\n",
       "11 January   133014\n",
       "12 February  132028"
      ]
     },
     "metadata": {},
     "output_type": "display_data"
    },
    {
     "data": {
      "text/html": [
       "<table class=\"dataframe\">\n",
       "<caption>A tibble: 12 × 2</caption>\n",
       "<thead>\n",
       "\t<tr><th scope=col>month</th><th scope=col>n</th></tr>\n",
       "\t<tr><th scope=col>&lt;ord&gt;</th><th scope=col>&lt;int&gt;</th></tr>\n",
       "</thead>\n",
       "<tbody>\n",
       "\t<tr><td>July     </td><td>177945</td></tr>\n",
       "\t<tr><td>August   </td><td>175095</td></tr>\n",
       "\t<tr><td>June     </td><td>163790</td></tr>\n",
       "\t<tr><td>September</td><td>147687</td></tr>\n",
       "\t<tr><td>May      </td><td>128526</td></tr>\n",
       "\t<tr><td>October  </td><td>102507</td></tr>\n",
       "\t<tr><td>April    </td><td> 82508</td></tr>\n",
       "\t<tr><td>November </td><td> 59803</td></tr>\n",
       "\t<tr><td>March    </td><td> 38929</td></tr>\n",
       "\t<tr><td>December </td><td> 30910</td></tr>\n",
       "\t<tr><td>February </td><td> 26817</td></tr>\n",
       "\t<tr><td>January  </td><td> 25533</td></tr>\n",
       "</tbody>\n",
       "</table>\n"
      ],
      "text/latex": [
       "A tibble: 12 × 2\n",
       "\\begin{tabular}{ll}\n",
       " month & n\\\\\n",
       " <ord> & <int>\\\\\n",
       "\\hline\n",
       "\t July      & 177945\\\\\n",
       "\t August    & 175095\\\\\n",
       "\t June      & 163790\\\\\n",
       "\t September & 147687\\\\\n",
       "\t May       & 128526\\\\\n",
       "\t October   & 102507\\\\\n",
       "\t April     &  82508\\\\\n",
       "\t November  &  59803\\\\\n",
       "\t March     &  38929\\\\\n",
       "\t December  &  30910\\\\\n",
       "\t February  &  26817\\\\\n",
       "\t January   &  25533\\\\\n",
       "\\end{tabular}\n"
      ],
      "text/markdown": [
       "\n",
       "A tibble: 12 × 2\n",
       "\n",
       "| month &lt;ord&gt; | n &lt;int&gt; |\n",
       "|---|---|\n",
       "| July      | 177945 |\n",
       "| August    | 175095 |\n",
       "| June      | 163790 |\n",
       "| September | 147687 |\n",
       "| May       | 128526 |\n",
       "| October   | 102507 |\n",
       "| April     |  82508 |\n",
       "| November  |  59803 |\n",
       "| March     |  38929 |\n",
       "| December  |  30910 |\n",
       "| February  |  26817 |\n",
       "| January   |  25533 |\n",
       "\n"
      ],
      "text/plain": [
       "   month     n     \n",
       "1  July      177945\n",
       "2  August    175095\n",
       "3  June      163790\n",
       "4  September 147687\n",
       "5  May       128526\n",
       "6  October   102507\n",
       "7  April      82508\n",
       "8  November   59803\n",
       "9  March      38929\n",
       "10 December   30910\n",
       "11 February   26817\n",
       "12 January    25533"
      ]
     },
     "metadata": {},
     "output_type": "display_data"
    },
    {
     "data": {
      "text/html": [
       "<table class=\"dataframe\">\n",
       "<caption>A tibble: 12 × 2</caption>\n",
       "<thead>\n",
       "\t<tr><th scope=col>month</th><th scope=col>n</th></tr>\n",
       "\t<tr><th scope=col>&lt;ord&gt;</th><th scope=col>&lt;int&gt;</th></tr>\n",
       "</thead>\n",
       "<tbody>\n",
       "\t<tr><td>August   </td><td>305028</td></tr>\n",
       "\t<tr><td>July     </td><td>283718</td></tr>\n",
       "\t<tr><td>June     </td><td>273923</td></tr>\n",
       "\t<tr><td>September</td><td>271329</td></tr>\n",
       "\t<tr><td>May      </td><td>248106</td></tr>\n",
       "\t<tr><td>October  </td><td>244553</td></tr>\n",
       "\t<tr><td>April    </td><td>186222</td></tr>\n",
       "\t<tr><td>November </td><td>183143</td></tr>\n",
       "\t<tr><td>March    </td><td>137553</td></tr>\n",
       "\t<tr><td>December </td><td>116916</td></tr>\n",
       "\t<tr><td>January  </td><td>107481</td></tr>\n",
       "\t<tr><td>February </td><td>105211</td></tr>\n",
       "</tbody>\n",
       "</table>\n"
      ],
      "text/latex": [
       "A tibble: 12 × 2\n",
       "\\begin{tabular}{ll}\n",
       " month & n\\\\\n",
       " <ord> & <int>\\\\\n",
       "\\hline\n",
       "\t August    & 305028\\\\\n",
       "\t July      & 283718\\\\\n",
       "\t June      & 273923\\\\\n",
       "\t September & 271329\\\\\n",
       "\t May       & 248106\\\\\n",
       "\t October   & 244553\\\\\n",
       "\t April     & 186222\\\\\n",
       "\t November  & 183143\\\\\n",
       "\t March     & 137553\\\\\n",
       "\t December  & 116916\\\\\n",
       "\t January   & 107481\\\\\n",
       "\t February  & 105211\\\\\n",
       "\\end{tabular}\n"
      ],
      "text/markdown": [
       "\n",
       "A tibble: 12 × 2\n",
       "\n",
       "| month &lt;ord&gt; | n &lt;int&gt; |\n",
       "|---|---|\n",
       "| August    | 305028 |\n",
       "| July      | 283718 |\n",
       "| June      | 273923 |\n",
       "| September | 271329 |\n",
       "| May       | 248106 |\n",
       "| October   | 244553 |\n",
       "| April     | 186222 |\n",
       "| November  | 183143 |\n",
       "| March     | 137553 |\n",
       "| December  | 116916 |\n",
       "| January   | 107481 |\n",
       "| February  | 105211 |\n",
       "\n"
      ],
      "text/plain": [
       "   month     n     \n",
       "1  August    305028\n",
       "2  July      283718\n",
       "3  June      273923\n",
       "4  September 271329\n",
       "5  May       248106\n",
       "6  October   244553\n",
       "7  April     186222\n",
       "8  November  183143\n",
       "9  March     137553\n",
       "10 December  116916\n",
       "11 January   107481\n",
       "12 February  105211"
      ]
     },
     "metadata": {},
     "output_type": "display_data"
    },
    {
     "data": {
      "image/png": "[encoded data removed]"
     },
     "metadata": {
      "image/png": {
       "height": 420,
       "width": 420
      }
     },
     "output_type": "display_data"
    }
   ],
   "source": [
    "#Question 3: What is the top 5 months with highest number of rides for overall, casual riders, members? \n",
    "Cyclistic4 %>%\n",
    "  count(month) %>%\n",
    "  arrange(desc(n))\n",
    "\n",
    "Cyclistic_casual %>%\n",
    "  count(month) %>%\n",
    "  arrange(desc(n))\n",
    "\n",
    "Cyclistic_member %>%\n",
    "  count(month) %>%\n",
    "  arrange(desc(n))\n",
    "\n",
    "ggplot(data=Cyclistic4) + \n",
    "  geom_bar(mapping= aes(x=member_casual, fill = member_casual)) +\n",
    "  labs (title = \"Difference between Casual Riders & Members\", subtitle = \"Data from January 2023 to December 2023\") + \n",
    "  facet_wrap(~month)"
   ]
  },
  {
   "cell_type": "code",
   "execution_count": 27,
   "id": "afb7a589",
   "metadata": {
    "execution": {
     "iopub.execute_input": "2024-05-23T17:02:05.341906Z",
     "iopub.status.busy": "2024-05-23T17:02:05.340290Z",
     "iopub.status.idle": "2024-05-23T17:02:08.531186Z",
     "shell.execute_reply": "2024-05-23T17:02:08.529482Z"
    },
    "papermill": {
     "duration": 3.225458,
     "end_time": "2024-05-23T17:02:08.533359",
     "exception": false,
     "start_time": "2024-05-23T17:02:05.307901",
     "status": "completed"
    },
    "tags": []
   },
   "outputs": [
    {
     "data": {
      "text/html": [
       "<table class=\"dataframe\">\n",
       "<caption>A tibble: 12 × 3</caption>\n",
       "<thead>\n",
       "\t<tr><th scope=col>month</th><th scope=col>n</th><th scope=col>season</th></tr>\n",
       "\t<tr><th scope=col>&lt;ord&gt;</th><th scope=col>&lt;int&gt;</th><th scope=col>&lt;chr&gt;</th></tr>\n",
       "</thead>\n",
       "<tbody>\n",
       "\t<tr><td>January  </td><td>133014</td><td>Winter</td></tr>\n",
       "\t<tr><td>February </td><td>132028</td><td>Winter</td></tr>\n",
       "\t<tr><td>March    </td><td>176482</td><td>Spring</td></tr>\n",
       "\t<tr><td>April    </td><td>268730</td><td>Spring</td></tr>\n",
       "\t<tr><td>May      </td><td>376632</td><td>Spring</td></tr>\n",
       "\t<tr><td>June     </td><td>437713</td><td>Summer</td></tr>\n",
       "\t<tr><td>July     </td><td>461663</td><td>Summer</td></tr>\n",
       "\t<tr><td>August   </td><td>480123</td><td>Summer</td></tr>\n",
       "\t<tr><td>September</td><td>419016</td><td>Fall  </td></tr>\n",
       "\t<tr><td>October  </td><td>347060</td><td>Fall  </td></tr>\n",
       "\t<tr><td>November </td><td>242946</td><td>Fall  </td></tr>\n",
       "\t<tr><td>December </td><td>147826</td><td>Winter</td></tr>\n",
       "</tbody>\n",
       "</table>\n"
      ],
      "text/latex": [
       "A tibble: 12 × 3\n",
       "\\begin{tabular}{lll}\n",
       " month & n & season\\\\\n",
       " <ord> & <int> & <chr>\\\\\n",
       "\\hline\n",
       "\t January   & 133014 & Winter\\\\\n",
       "\t February  & 132028 & Winter\\\\\n",
       "\t March     & 176482 & Spring\\\\\n",
       "\t April     & 268730 & Spring\\\\\n",
       "\t May       & 376632 & Spring\\\\\n",
       "\t June      & 437713 & Summer\\\\\n",
       "\t July      & 461663 & Summer\\\\\n",
       "\t August    & 480123 & Summer\\\\\n",
       "\t September & 419016 & Fall  \\\\\n",
       "\t October   & 347060 & Fall  \\\\\n",
       "\t November  & 242946 & Fall  \\\\\n",
       "\t December  & 147826 & Winter\\\\\n",
       "\\end{tabular}\n"
      ],
      "text/markdown": [
       "\n",
       "A tibble: 12 × 3\n",
       "\n",
       "| month &lt;ord&gt; | n &lt;int&gt; | season &lt;chr&gt; |\n",
       "|---|---|---|\n",
       "| January   | 133014 | Winter |\n",
       "| February  | 132028 | Winter |\n",
       "| March     | 176482 | Spring |\n",
       "| April     | 268730 | Spring |\n",
       "| May       | 376632 | Spring |\n",
       "| June      | 437713 | Summer |\n",
       "| July      | 461663 | Summer |\n",
       "| August    | 480123 | Summer |\n",
       "| September | 419016 | Fall   |\n",
       "| October   | 347060 | Fall   |\n",
       "| November  | 242946 | Fall   |\n",
       "| December  | 147826 | Winter |\n",
       "\n"
      ],
      "text/plain": [
       "   month     n      season\n",
       "1  January   133014 Winter\n",
       "2  February  132028 Winter\n",
       "3  March     176482 Spring\n",
       "4  April     268730 Spring\n",
       "5  May       376632 Spring\n",
       "6  June      437713 Summer\n",
       "7  July      461663 Summer\n",
       "8  August    480123 Summer\n",
       "9  September 419016 Fall  \n",
       "10 October   347060 Fall  \n",
       "11 November  242946 Fall  \n",
       "12 December  147826 Winter"
      ]
     },
     "metadata": {},
     "output_type": "display_data"
    },
    {
     "data": {
      "text/html": [
       "<table class=\"dataframe\">\n",
       "<caption>A tibble: 4 × 2</caption>\n",
       "<thead>\n",
       "\t<tr><th scope=col>month</th><th scope=col>n</th></tr>\n",
       "\t<tr><th scope=col>&lt;chr&gt;</th><th scope=col>&lt;int&gt;</th></tr>\n",
       "</thead>\n",
       "<tbody>\n",
       "\t<tr><td>March</td><td>176482</td></tr>\n",
       "\t<tr><td>April</td><td>268730</td></tr>\n",
       "\t<tr><td>May  </td><td>376632</td></tr>\n",
       "\t<tr><td>Total</td><td>821844</td></tr>\n",
       "</tbody>\n",
       "</table>\n"
      ],
      "text/latex": [
       "A tibble: 4 × 2\n",
       "\\begin{tabular}{ll}\n",
       " month & n\\\\\n",
       " <chr> & <int>\\\\\n",
       "\\hline\n",
       "\t March & 176482\\\\\n",
       "\t April & 268730\\\\\n",
       "\t May   & 376632\\\\\n",
       "\t Total & 821844\\\\\n",
       "\\end{tabular}\n"
      ],
      "text/markdown": [
       "\n",
       "A tibble: 4 × 2\n",
       "\n",
       "| month &lt;chr&gt; | n &lt;int&gt; |\n",
       "|---|---|\n",
       "| March | 176482 |\n",
       "| April | 268730 |\n",
       "| May   | 376632 |\n",
       "| Total | 821844 |\n",
       "\n"
      ],
      "text/plain": [
       "  month n     \n",
       "1 March 176482\n",
       "2 April 268730\n",
       "3 May   376632\n",
       "4 Total 821844"
      ]
     },
     "metadata": {},
     "output_type": "display_data"
    },
    {
     "data": {
      "text/html": [
       "<table class=\"dataframe\">\n",
       "<caption>A tibble: 4 × 2</caption>\n",
       "<thead>\n",
       "\t<tr><th scope=col>month</th><th scope=col>n</th></tr>\n",
       "\t<tr><th scope=col>&lt;chr&gt;</th><th scope=col>&lt;int&gt;</th></tr>\n",
       "</thead>\n",
       "<tbody>\n",
       "\t<tr><td>June  </td><td> 437713</td></tr>\n",
       "\t<tr><td>July  </td><td> 461663</td></tr>\n",
       "\t<tr><td>August</td><td> 480123</td></tr>\n",
       "\t<tr><td>Total </td><td>1379499</td></tr>\n",
       "</tbody>\n",
       "</table>\n"
      ],
      "text/latex": [
       "A tibble: 4 × 2\n",
       "\\begin{tabular}{ll}\n",
       " month & n\\\\\n",
       " <chr> & <int>\\\\\n",
       "\\hline\n",
       "\t June   &  437713\\\\\n",
       "\t July   &  461663\\\\\n",
       "\t August &  480123\\\\\n",
       "\t Total  & 1379499\\\\\n",
       "\\end{tabular}\n"
      ],
      "text/markdown": [
       "\n",
       "A tibble: 4 × 2\n",
       "\n",
       "| month &lt;chr&gt; | n &lt;int&gt; |\n",
       "|---|---|\n",
       "| June   |  437713 |\n",
       "| July   |  461663 |\n",
       "| August |  480123 |\n",
       "| Total  | 1379499 |\n",
       "\n"
      ],
      "text/plain": [
       "  month  n      \n",
       "1 June    437713\n",
       "2 July    461663\n",
       "3 August  480123\n",
       "4 Total  1379499"
      ]
     },
     "metadata": {},
     "output_type": "display_data"
    },
    {
     "data": {
      "text/html": [
       "<table class=\"dataframe\">\n",
       "<caption>A tibble: 4 × 2</caption>\n",
       "<thead>\n",
       "\t<tr><th scope=col>month</th><th scope=col>n</th></tr>\n",
       "\t<tr><th scope=col>&lt;chr&gt;</th><th scope=col>&lt;int&gt;</th></tr>\n",
       "</thead>\n",
       "<tbody>\n",
       "\t<tr><td>September</td><td> 419016</td></tr>\n",
       "\t<tr><td>October  </td><td> 347060</td></tr>\n",
       "\t<tr><td>November </td><td> 242946</td></tr>\n",
       "\t<tr><td>Total    </td><td>1009022</td></tr>\n",
       "</tbody>\n",
       "</table>\n"
      ],
      "text/latex": [
       "A tibble: 4 × 2\n",
       "\\begin{tabular}{ll}\n",
       " month & n\\\\\n",
       " <chr> & <int>\\\\\n",
       "\\hline\n",
       "\t September &  419016\\\\\n",
       "\t October   &  347060\\\\\n",
       "\t November  &  242946\\\\\n",
       "\t Total     & 1009022\\\\\n",
       "\\end{tabular}\n"
      ],
      "text/markdown": [
       "\n",
       "A tibble: 4 × 2\n",
       "\n",
       "| month &lt;chr&gt; | n &lt;int&gt; |\n",
       "|---|---|\n",
       "| September |  419016 |\n",
       "| October   |  347060 |\n",
       "| November  |  242946 |\n",
       "| Total     | 1009022 |\n",
       "\n"
      ],
      "text/plain": [
       "  month     n      \n",
       "1 September  419016\n",
       "2 October    347060\n",
       "3 November   242946\n",
       "4 Total     1009022"
      ]
     },
     "metadata": {},
     "output_type": "display_data"
    },
    {
     "data": {
      "text/html": [
       "<table class=\"dataframe\">\n",
       "<caption>A tibble: 4 × 2</caption>\n",
       "<thead>\n",
       "\t<tr><th scope=col>month</th><th scope=col>n</th></tr>\n",
       "\t<tr><th scope=col>&lt;chr&gt;</th><th scope=col>&lt;int&gt;</th></tr>\n",
       "</thead>\n",
       "<tbody>\n",
       "\t<tr><td>January </td><td>133014</td></tr>\n",
       "\t<tr><td>February</td><td>132028</td></tr>\n",
       "\t<tr><td>December</td><td>147826</td></tr>\n",
       "\t<tr><td>Total   </td><td>412868</td></tr>\n",
       "</tbody>\n",
       "</table>\n"
      ],
      "text/latex": [
       "A tibble: 4 × 2\n",
       "\\begin{tabular}{ll}\n",
       " month & n\\\\\n",
       " <chr> & <int>\\\\\n",
       "\\hline\n",
       "\t January  & 133014\\\\\n",
       "\t February & 132028\\\\\n",
       "\t December & 147826\\\\\n",
       "\t Total    & 412868\\\\\n",
       "\\end{tabular}\n"
      ],
      "text/markdown": [
       "\n",
       "A tibble: 4 × 2\n",
       "\n",
       "| month &lt;chr&gt; | n &lt;int&gt; |\n",
       "|---|---|\n",
       "| January  | 133014 |\n",
       "| February | 132028 |\n",
       "| December | 147826 |\n",
       "| Total    | 412868 |\n",
       "\n"
      ],
      "text/plain": [
       "  month    n     \n",
       "1 January  133014\n",
       "2 February 132028\n",
       "3 December 147826\n",
       "4 Total    412868"
      ]
     },
     "metadata": {},
     "output_type": "display_data"
    }
   ],
   "source": [
    "#Seasonal analysis\n",
    "Cyclistic4 %>%\n",
    "  count(month) %>% \n",
    "  mutate(season = case_when(\n",
    "    month %in% c(\"December\", \"January\", \"February\") ~ \"Winter\",\n",
    "    month %in% c(\"March\", \"April\", \"May\") ~ \"Spring\",\n",
    "    month %in% c(\"June\", \"July\", \"August\") ~ \"Summer\",\n",
    "    month %in% c(\"September\", \"October\", \"November\") ~ \"Fall\"\n",
    "  ))\n",
    "\n",
    "##SPRING SEASON\n",
    "Cyclistic4 %>%\n",
    "  filter(month == \"March\" | month == \"April\" | month == \"May\") %>%\n",
    "  count(month) %>%\n",
    "  add_row(month = \"Total\", n = sum(.$n))\n",
    "\n",
    "##SUMMER SEASON\n",
    "Cyclistic4 %>%\n",
    "  filter(month == \"June\" | month == \"July\" | month == \"August\") %>%\n",
    "  count(month) %>%\n",
    "  add_row(month = \"Total\", n = sum(.$n))\n",
    "\n",
    "##AUTUMN SEASON\n",
    "Cyclistic4 %>%\n",
    "  filter(month == \"September\" | month == \"October\" | month == \"November\") %>%\n",
    "  count(month) %>%\n",
    "  add_row(month = \"Total\", n = sum(.$n))\n",
    "\n",
    "##WINTER SEASON\n",
    "Cyclistic4 %>%\n",
    "  filter(month == \"January\" | month == \"February\" | month == \"December\") %>%\n",
    "  count(month) %>%\n",
    "  add_row(month = \"Total\", n = sum(.$n))"
   ]
  },
  {
   "cell_type": "markdown",
   "id": "ac7927ed",
   "metadata": {
    "papermill": {
     "duration": 0.03139,
     "end_time": "2024-05-23T17:02:08.596531",
     "exception": false,
     "start_time": "2024-05-23T17:02:08.565141",
     "status": "completed"
    },
    "tags": []
   },
   "source": [
    "***Question 4: What factors contribute to the above?***\n",
    "* Overall, the top 5 months with highest number of riders were **August** (480,123 times), **July** (461,663 times), **June** (437,713 times), **September** (419,016 times) and **May** (376,632 times).\n",
    "* For casual riders, the top 5 months with highest number of riders were **July** (177,945 times), **August** (175,095 times), **June** (163,790 times), **September** (147,687 times) and **May** (128,526 times).\n",
    "* For members, the top 5 months with highest number of riders were **August** (305,028 times), **July** (283,718 times), **June** (273,923 times), **September** (271,329 times) and **May** (248,106 times).\n",
    "* The similarity among the above is that the top 3 months with the highest rides - **June, July and August** occured during the **summer season**. The summer season had the highest number of rides with 1,379,499 times.\n",
    "* The fall season had the second highest number of rides with 1,099,022 times, followed by the spring season with 821,844 times.\n",
    "* The lowest number of rides occur during the **winter season** (**December, January and February**) with a total of 412,868 times.\n"
   ]
  },
  {
   "cell_type": "code",
   "execution_count": 28,
   "id": "60f11451",
   "metadata": {
    "execution": {
     "iopub.execute_input": "2024-05-23T17:02:08.662128Z",
     "iopub.status.busy": "2024-05-23T17:02:08.660592Z",
     "iopub.status.idle": "2024-05-23T17:02:16.701097Z",
     "shell.execute_reply": "2024-05-23T17:02:16.699329Z"
    },
    "papermill": {
     "duration": 8.075939,
     "end_time": "2024-05-23T17:02:16.703557",
     "exception": false,
     "start_time": "2024-05-23T17:02:08.627618",
     "status": "completed"
    },
    "tags": []
   },
   "outputs": [
    {
     "data": {
      "text/html": [
       "<table class=\"dataframe\">\n",
       "<caption>A tibble: 7 × 2</caption>\n",
       "<thead>\n",
       "\t<tr><th scope=col>day_of_week</th><th scope=col>n</th></tr>\n",
       "\t<tr><th scope=col>&lt;ord&gt;</th><th scope=col>&lt;int&gt;</th></tr>\n",
       "</thead>\n",
       "<tbody>\n",
       "\t<tr><td>Saturday </td><td>222908</td></tr>\n",
       "\t<tr><td>Sunday   </td><td>179846</td></tr>\n",
       "\t<tr><td>Friday   </td><td>174909</td></tr>\n",
       "\t<tr><td>Thursday </td><td>159319</td></tr>\n",
       "\t<tr><td>Wednesday</td><td>147282</td></tr>\n",
       "\t<tr><td>Tuesday  </td><td>143306</td></tr>\n",
       "\t<tr><td>Monday   </td><td>132480</td></tr>\n",
       "</tbody>\n",
       "</table>\n"
      ],
      "text/latex": [
       "A tibble: 7 × 2\n",
       "\\begin{tabular}{ll}\n",
       " day\\_of\\_week & n\\\\\n",
       " <ord> & <int>\\\\\n",
       "\\hline\n",
       "\t Saturday  & 222908\\\\\n",
       "\t Sunday    & 179846\\\\\n",
       "\t Friday    & 174909\\\\\n",
       "\t Thursday  & 159319\\\\\n",
       "\t Wednesday & 147282\\\\\n",
       "\t Tuesday   & 143306\\\\\n",
       "\t Monday    & 132480\\\\\n",
       "\\end{tabular}\n"
      ],
      "text/markdown": [
       "\n",
       "A tibble: 7 × 2\n",
       "\n",
       "| day_of_week &lt;ord&gt; | n &lt;int&gt; |\n",
       "|---|---|\n",
       "| Saturday  | 222908 |\n",
       "| Sunday    | 179846 |\n",
       "| Friday    | 174909 |\n",
       "| Thursday  | 159319 |\n",
       "| Wednesday | 147282 |\n",
       "| Tuesday   | 143306 |\n",
       "| Monday    | 132480 |\n",
       "\n"
      ],
      "text/plain": [
       "  day_of_week n     \n",
       "1 Saturday    222908\n",
       "2 Sunday      179846\n",
       "3 Friday      174909\n",
       "4 Thursday    159319\n",
       "5 Wednesday   147282\n",
       "6 Tuesday     143306\n",
       "7 Monday      132480"
      ]
     },
     "metadata": {},
     "output_type": "display_data"
    },
    {
     "data": {
      "text/html": [
       "<table class=\"dataframe\">\n",
       "<caption>A tibble: 7 × 2</caption>\n",
       "<thead>\n",
       "\t<tr><th scope=col>day_of_week</th><th scope=col>n</th></tr>\n",
       "\t<tr><th scope=col>&lt;ord&gt;</th><th scope=col>&lt;int&gt;</th></tr>\n",
       "</thead>\n",
       "<tbody>\n",
       "\t<tr><td>Wednesday</td><td>403045</td></tr>\n",
       "\t<tr><td>Thursday </td><td>401088</td></tr>\n",
       "\t<tr><td>Tuesday  </td><td>398096</td></tr>\n",
       "\t<tr><td>Friday   </td><td>353450</td></tr>\n",
       "\t<tr><td>Monday   </td><td>342893</td></tr>\n",
       "\t<tr><td>Saturday </td><td>301238</td></tr>\n",
       "\t<tr><td>Sunday   </td><td>263373</td></tr>\n",
       "</tbody>\n",
       "</table>\n"
      ],
      "text/latex": [
       "A tibble: 7 × 2\n",
       "\\begin{tabular}{ll}\n",
       " day\\_of\\_week & n\\\\\n",
       " <ord> & <int>\\\\\n",
       "\\hline\n",
       "\t Wednesday & 403045\\\\\n",
       "\t Thursday  & 401088\\\\\n",
       "\t Tuesday   & 398096\\\\\n",
       "\t Friday    & 353450\\\\\n",
       "\t Monday    & 342893\\\\\n",
       "\t Saturday  & 301238\\\\\n",
       "\t Sunday    & 263373\\\\\n",
       "\\end{tabular}\n"
      ],
      "text/markdown": [
       "\n",
       "A tibble: 7 × 2\n",
       "\n",
       "| day_of_week &lt;ord&gt; | n &lt;int&gt; |\n",
       "|---|---|\n",
       "| Wednesday | 403045 |\n",
       "| Thursday  | 401088 |\n",
       "| Tuesday   | 398096 |\n",
       "| Friday    | 353450 |\n",
       "| Monday    | 342893 |\n",
       "| Saturday  | 301238 |\n",
       "| Sunday    | 263373 |\n",
       "\n"
      ],
      "text/plain": [
       "  day_of_week n     \n",
       "1 Wednesday   403045\n",
       "2 Thursday    401088\n",
       "3 Tuesday     398096\n",
       "4 Friday      353450\n",
       "5 Monday      342893\n",
       "6 Saturday    301238\n",
       "7 Sunday      263373"
      ]
     },
     "metadata": {},
     "output_type": "display_data"
    },
    {
     "data": {
      "image/png": "[encoded data removed]"
     },
     "metadata": {
      "image/png": {
       "height": 420,
       "width": 420
      }
     },
     "output_type": "display_data"
    }
   ],
   "source": [
    "#Question 5: Which day is the highest number of rides for casual riders, members?\n",
    "Cyclistic_casual %>% \n",
    "  count(day_of_week) %>%\n",
    "  arrange(desc(n))\n",
    "\n",
    "Cyclistic_member %>% \n",
    "  count(day_of_week) %>%\n",
    "  arrange(desc(n))\n",
    "\n",
    "ggplot(data=Cyclistic4) + \n",
    "  geom_bar(mapping= aes(x=member_casual, fill = member_casual)) +\n",
    "  labs (title = \"Difference between Casual Riders & Members\", subtitle = \"Data from January 2023 to December 2023\") +\n",
    "  facet_wrap(~day_of_week)\n",
    "  "
   ]
  },
  {
   "cell_type": "markdown",
   "id": "d7325bd4",
   "metadata": {
    "papermill": {
     "duration": 0.03289,
     "end_time": "2024-05-23T17:02:16.770001",
     "exception": false,
     "start_time": "2024-05-23T17:02:16.737111",
     "status": "completed"
    },
    "tags": []
   },
   "source": [
    "* The number of casual riders were the highest on **weekends**, with 222,908 times on Saturdays and 179,846 times on Sundays. These figures take 11% of the total number of rides in 2023. \n",
    "* However, the abovementioned number is still lower if I were to compare with members riders as the number of rides made by members where there was 301,283 times on Saturdays and 263,373 times on Sundays, despite being the least popular days for members riders.\n",
    "* Members riders were the highest on **weekdays** and the top 3 days with highest number of members riders occured on Wednesdays (403,045 times), Thursday (401,088 times) and Tuesdays (398,096 times)."
   ]
  },
  {
   "cell_type": "code",
   "execution_count": 29,
   "id": "96eb4b81",
   "metadata": {
    "execution": {
     "iopub.execute_input": "2024-05-23T17:02:16.839018Z",
     "iopub.status.busy": "2024-05-23T17:02:16.837359Z",
     "iopub.status.idle": "2024-05-23T17:02:16.869595Z",
     "shell.execute_reply": "2024-05-23T17:02:16.867885Z"
    },
    "papermill": {
     "duration": 0.069197,
     "end_time": "2024-05-23T17:02:16.871759",
     "exception": false,
     "start_time": "2024-05-23T17:02:16.802562",
     "status": "completed"
    },
    "tags": []
   },
   "outputs": [
    {
     "data": {
      "text/html": [
       "749.612008103099"
      ],
      "text/latex": [
       "749.612008103099"
      ],
      "text/markdown": [
       "749.612008103099"
      ],
      "text/plain": [
       "[1] 749.612"
      ]
     },
     "metadata": {},
     "output_type": "display_data"
    },
    {
     "data": {
      "text/html": [
       "583.402149576381"
      ],
      "text/latex": [
       "583.402149576381"
      ],
      "text/markdown": [
       "583.402149576381"
      ],
      "text/plain": [
       "[1] 583.4021"
      ]
     },
     "metadata": {},
     "output_type": "display_data"
    }
   ],
   "source": [
    "#Question 6: What is the average time spent on the rides by casual riders and members?\n",
    "# Find average of trip duration for casual riders and members\n",
    "mean(Cyclistic_casual$trip_duration_secs)\n",
    "mean(Cyclistic_member$trip_duration_secs)"
   ]
  },
  {
   "cell_type": "markdown",
   "id": "a107199b",
   "metadata": {
    "papermill": {
     "duration": 0.033162,
     "end_time": "2024-05-23T17:02:16.937900",
     "exception": false,
     "start_time": "2024-05-23T17:02:16.904738",
     "status": "completed"
    },
    "tags": []
   },
   "source": [
    "* Casual riders spent an average of 749 seconds (equivalent to approximately ~12 minutes), while members riders spent an average of 583 seconds (equivalent to approximately ~9 minutes)."
   ]
  },
  {
   "cell_type": "code",
   "execution_count": 30,
   "id": "127e24a8",
   "metadata": {
    "execution": {
     "iopub.execute_input": "2024-05-23T17:02:17.006724Z",
     "iopub.status.busy": "2024-05-23T17:02:17.005102Z",
     "iopub.status.idle": "2024-05-23T17:02:17.037151Z",
     "shell.execute_reply": "2024-05-23T17:02:17.035483Z"
    },
    "papermill": {
     "duration": 0.068743,
     "end_time": "2024-05-23T17:02:17.039338",
     "exception": false,
     "start_time": "2024-05-23T17:02:16.970595",
     "status": "completed"
    },
    "tags": []
   },
   "outputs": [
    {
     "data": {
      "text/html": [
       "1.91978466324513"
      ],
      "text/latex": [
       "1.91978466324513"
      ],
      "text/markdown": [
       "1.91978466324513"
      ],
      "text/plain": [
       "[1] 1.919785"
      ]
     },
     "metadata": {},
     "output_type": "display_data"
    },
    {
     "data": {
      "text/html": [
       "1.80077529939411"
      ],
      "text/latex": [
       "1.80077529939411"
      ],
      "text/markdown": [
       "1.80077529939411"
      ],
      "text/plain": [
       "[1] 1.800775"
      ]
     },
     "metadata": {},
     "output_type": "display_data"
    }
   ],
   "source": [
    "#Question 7: What is the average distance made by casual riders and members?\n",
    "mean(Cyclistic_casual$trip_distance_km)\n",
    "mean(Cyclistic_member$trip_distance_km)"
   ]
  },
  {
   "cell_type": "markdown",
   "id": "3f52f157",
   "metadata": {
    "papermill": {
     "duration": 0.033367,
     "end_time": "2024-05-23T17:02:17.106007",
     "exception": false,
     "start_time": "2024-05-23T17:02:17.072640",
     "status": "completed"
    },
    "tags": []
   },
   "source": [
    "* The average distance travelled by casual riders is slightly greater by 0.1 km (100m) compared to average distance travelled by members riders."
   ]
  },
  {
   "cell_type": "code",
   "execution_count": 31,
   "id": "ab67f80a",
   "metadata": {
    "execution": {
     "iopub.execute_input": "2024-05-23T17:02:17.176663Z",
     "iopub.status.busy": "2024-05-23T17:02:17.175011Z",
     "iopub.status.idle": "2024-05-23T17:02:17.719660Z",
     "shell.execute_reply": "2024-05-23T17:02:17.717937Z"
    },
    "papermill": {
     "duration": 0.582053,
     "end_time": "2024-05-23T17:02:17.721852",
     "exception": false,
     "start_time": "2024-05-23T17:02:17.139799",
     "status": "completed"
    },
    "tags": []
   },
   "outputs": [
    {
     "data": {
      "text/html": [
       "<table class=\"dataframe\">\n",
       "<caption>A tibble: 10 × 2</caption>\n",
       "<thead>\n",
       "\t<tr><th scope=col>start_station_name</th><th scope=col>n</th></tr>\n",
       "\t<tr><th scope=col>&lt;chr&gt;</th><th scope=col>&lt;int&gt;</th></tr>\n",
       "</thead>\n",
       "<tbody>\n",
       "\t<tr><td><span style=white-space:pre-wrap>Streeter Dr &amp; Grand Ave           </span></td><td>34542</td></tr>\n",
       "\t<tr><td><span style=white-space:pre-wrap>Kingsbury St &amp; Kinzie St          </span></td><td>30177</td></tr>\n",
       "\t<tr><td><span style=white-space:pre-wrap>Clark St &amp; Elm St                 </span></td><td>29508</td></tr>\n",
       "\t<tr><td><span style=white-space:pre-wrap>Clinton St &amp; Washington Blvd      </span></td><td>27245</td></tr>\n",
       "\t<tr><td><span style=white-space:pre-wrap>Wells St &amp; Concord Ln             </span></td><td>27208</td></tr>\n",
       "\t<tr><td><span style=white-space:pre-wrap>Wells St &amp; Elm St                 </span></td><td>25321</td></tr>\n",
       "\t<tr><td>DuSable Lake Shore Dr &amp; North Blvd</td><td>25136</td></tr>\n",
       "\t<tr><td><span style=white-space:pre-wrap>Clinton St &amp; Madison St           </span></td><td>22345</td></tr>\n",
       "\t<tr><td><span style=white-space:pre-wrap>Ellis Ave &amp; 60th St               </span></td><td>21662</td></tr>\n",
       "\t<tr><td><span style=white-space:pre-wrap>University Ave &amp; 57th St          </span></td><td>21571</td></tr>\n",
       "</tbody>\n",
       "</table>\n"
      ],
      "text/latex": [
       "A tibble: 10 × 2\n",
       "\\begin{tabular}{ll}\n",
       " start\\_station\\_name & n\\\\\n",
       " <chr> & <int>\\\\\n",
       "\\hline\n",
       "\t Streeter Dr \\& Grand Ave            & 34542\\\\\n",
       "\t Kingsbury St \\& Kinzie St           & 30177\\\\\n",
       "\t Clark St \\& Elm St                  & 29508\\\\\n",
       "\t Clinton St \\& Washington Blvd       & 27245\\\\\n",
       "\t Wells St \\& Concord Ln              & 27208\\\\\n",
       "\t Wells St \\& Elm St                  & 25321\\\\\n",
       "\t DuSable Lake Shore Dr \\& North Blvd & 25136\\\\\n",
       "\t Clinton St \\& Madison St            & 22345\\\\\n",
       "\t Ellis Ave \\& 60th St                & 21662\\\\\n",
       "\t University Ave \\& 57th St           & 21571\\\\\n",
       "\\end{tabular}\n"
      ],
      "text/markdown": [
       "\n",
       "A tibble: 10 × 2\n",
       "\n",
       "| start_station_name &lt;chr&gt; | n &lt;int&gt; |\n",
       "|---|---|\n",
       "| Streeter Dr &amp; Grand Ave            | 34542 |\n",
       "| Kingsbury St &amp; Kinzie St           | 30177 |\n",
       "| Clark St &amp; Elm St                  | 29508 |\n",
       "| Clinton St &amp; Washington Blvd       | 27245 |\n",
       "| Wells St &amp; Concord Ln              | 27208 |\n",
       "| Wells St &amp; Elm St                  | 25321 |\n",
       "| DuSable Lake Shore Dr &amp; North Blvd | 25136 |\n",
       "| Clinton St &amp; Madison St            | 22345 |\n",
       "| Ellis Ave &amp; 60th St                | 21662 |\n",
       "| University Ave &amp; 57th St           | 21571 |\n",
       "\n"
      ],
      "text/plain": [
       "   start_station_name                 n    \n",
       "1  Streeter Dr & Grand Ave            34542\n",
       "2  Kingsbury St & Kinzie St           30177\n",
       "3  Clark St & Elm St                  29508\n",
       "4  Clinton St & Washington Blvd       27245\n",
       "5  Wells St & Concord Ln              27208\n",
       "6  Wells St & Elm St                  25321\n",
       "7  DuSable Lake Shore Dr & North Blvd 25136\n",
       "8  Clinton St & Madison St            22345\n",
       "9  Ellis Ave & 60th St                21662\n",
       "10 University Ave & 57th St           21571"
      ]
     },
     "metadata": {},
     "output_type": "display_data"
    },
    {
     "data": {
      "text/html": [
       "<table class=\"dataframe\">\n",
       "<caption>A tibble: 10 × 2</caption>\n",
       "<thead>\n",
       "\t<tr><th scope=col>start_station_name</th><th scope=col>n</th></tr>\n",
       "\t<tr><th scope=col>&lt;chr&gt;</th><th scope=col>&lt;int&gt;</th></tr>\n",
       "</thead>\n",
       "<tbody>\n",
       "\t<tr><td><span style=white-space:pre-wrap>Streeter Dr &amp; Grand Ave           </span></td><td>22863</td></tr>\n",
       "\t<tr><td>DuSable Lake Shore Dr &amp; Monroe St </td><td>14013</td></tr>\n",
       "\t<tr><td>DuSable Lake Shore Dr &amp; North Blvd</td><td>13340</td></tr>\n",
       "\t<tr><td><span style=white-space:pre-wrap>Michigan Ave &amp; Oak St             </span></td><td>11041</td></tr>\n",
       "\t<tr><td>Shedd Aquarium                    </td><td>10844</td></tr>\n",
       "\t<tr><td>Theater on the Lake               </td><td> 9998</td></tr>\n",
       "\t<tr><td>Millennium Park                   </td><td> 9750</td></tr>\n",
       "\t<tr><td><span style=white-space:pre-wrap>Wells St &amp; Concord Ln             </span></td><td> 9330</td></tr>\n",
       "\t<tr><td><span style=white-space:pre-wrap>Clark St &amp; Elm St                 </span></td><td> 8439</td></tr>\n",
       "\t<tr><td><span style=white-space:pre-wrap>Wells St &amp; Elm St                 </span></td><td> 8029</td></tr>\n",
       "</tbody>\n",
       "</table>\n"
      ],
      "text/latex": [
       "A tibble: 10 × 2\n",
       "\\begin{tabular}{ll}\n",
       " start\\_station\\_name & n\\\\\n",
       " <chr> & <int>\\\\\n",
       "\\hline\n",
       "\t Streeter Dr \\& Grand Ave            & 22863\\\\\n",
       "\t DuSable Lake Shore Dr \\& Monroe St  & 14013\\\\\n",
       "\t DuSable Lake Shore Dr \\& North Blvd & 13340\\\\\n",
       "\t Michigan Ave \\& Oak St              & 11041\\\\\n",
       "\t Shedd Aquarium                     & 10844\\\\\n",
       "\t Theater on the Lake                &  9998\\\\\n",
       "\t Millennium Park                    &  9750\\\\\n",
       "\t Wells St \\& Concord Ln              &  9330\\\\\n",
       "\t Clark St \\& Elm St                  &  8439\\\\\n",
       "\t Wells St \\& Elm St                  &  8029\\\\\n",
       "\\end{tabular}\n"
      ],
      "text/markdown": [
       "\n",
       "A tibble: 10 × 2\n",
       "\n",
       "| start_station_name &lt;chr&gt; | n &lt;int&gt; |\n",
       "|---|---|\n",
       "| Streeter Dr &amp; Grand Ave            | 22863 |\n",
       "| DuSable Lake Shore Dr &amp; Monroe St  | 14013 |\n",
       "| DuSable Lake Shore Dr &amp; North Blvd | 13340 |\n",
       "| Michigan Ave &amp; Oak St              | 11041 |\n",
       "| Shedd Aquarium                     | 10844 |\n",
       "| Theater on the Lake                |  9998 |\n",
       "| Millennium Park                    |  9750 |\n",
       "| Wells St &amp; Concord Ln              |  9330 |\n",
       "| Clark St &amp; Elm St                  |  8439 |\n",
       "| Wells St &amp; Elm St                  |  8029 |\n",
       "\n"
      ],
      "text/plain": [
       "   start_station_name                 n    \n",
       "1  Streeter Dr & Grand Ave            22863\n",
       "2  DuSable Lake Shore Dr & Monroe St  14013\n",
       "3  DuSable Lake Shore Dr & North Blvd 13340\n",
       "4  Michigan Ave & Oak St              11041\n",
       "5  Shedd Aquarium                     10844\n",
       "6  Theater on the Lake                 9998\n",
       "7  Millennium Park                     9750\n",
       "8  Wells St & Concord Ln               9330\n",
       "9  Clark St & Elm St                   8439\n",
       "10 Wells St & Elm St                   8029"
      ]
     },
     "metadata": {},
     "output_type": "display_data"
    },
    {
     "data": {
      "text/html": [
       "<table class=\"dataframe\">\n",
       "<caption>A tibble: 10 × 2</caption>\n",
       "<thead>\n",
       "\t<tr><th scope=col>start_station_name</th><th scope=col>n</th></tr>\n",
       "\t<tr><th scope=col>&lt;chr&gt;</th><th scope=col>&lt;int&gt;</th></tr>\n",
       "</thead>\n",
       "<tbody>\n",
       "\t<tr><td><span style=white-space:pre-wrap>Kingsbury St &amp; Kinzie St    </span></td><td>22889</td></tr>\n",
       "\t<tr><td>Clinton St &amp; Washington Blvd</td><td>22116</td></tr>\n",
       "\t<tr><td><span style=white-space:pre-wrap>Clark St &amp; Elm St           </span></td><td>21069</td></tr>\n",
       "\t<tr><td><span style=white-space:pre-wrap>Wells St &amp; Concord Ln       </span></td><td>17878</td></tr>\n",
       "\t<tr><td><span style=white-space:pre-wrap>Clinton St &amp; Madison St     </span></td><td>17517</td></tr>\n",
       "\t<tr><td><span style=white-space:pre-wrap>Wells St &amp; Elm St           </span></td><td>17292</td></tr>\n",
       "\t<tr><td><span style=white-space:pre-wrap>University Ave &amp; 57th St    </span></td><td>16697</td></tr>\n",
       "\t<tr><td><span style=white-space:pre-wrap>Loomis St &amp; Lexington St    </span></td><td>16262</td></tr>\n",
       "\t<tr><td><span style=white-space:pre-wrap>Ellis Ave &amp; 60th St         </span></td><td>15869</td></tr>\n",
       "\t<tr><td><span style=white-space:pre-wrap>State St &amp; Chicago Ave      </span></td><td>14861</td></tr>\n",
       "</tbody>\n",
       "</table>\n"
      ],
      "text/latex": [
       "A tibble: 10 × 2\n",
       "\\begin{tabular}{ll}\n",
       " start\\_station\\_name & n\\\\\n",
       " <chr> & <int>\\\\\n",
       "\\hline\n",
       "\t Kingsbury St \\& Kinzie St     & 22889\\\\\n",
       "\t Clinton St \\& Washington Blvd & 22116\\\\\n",
       "\t Clark St \\& Elm St            & 21069\\\\\n",
       "\t Wells St \\& Concord Ln        & 17878\\\\\n",
       "\t Clinton St \\& Madison St      & 17517\\\\\n",
       "\t Wells St \\& Elm St            & 17292\\\\\n",
       "\t University Ave \\& 57th St     & 16697\\\\\n",
       "\t Loomis St \\& Lexington St     & 16262\\\\\n",
       "\t Ellis Ave \\& 60th St          & 15869\\\\\n",
       "\t State St \\& Chicago Ave       & 14861\\\\\n",
       "\\end{tabular}\n"
      ],
      "text/markdown": [
       "\n",
       "A tibble: 10 × 2\n",
       "\n",
       "| start_station_name &lt;chr&gt; | n &lt;int&gt; |\n",
       "|---|---|\n",
       "| Kingsbury St &amp; Kinzie St     | 22889 |\n",
       "| Clinton St &amp; Washington Blvd | 22116 |\n",
       "| Clark St &amp; Elm St            | 21069 |\n",
       "| Wells St &amp; Concord Ln        | 17878 |\n",
       "| Clinton St &amp; Madison St      | 17517 |\n",
       "| Wells St &amp; Elm St            | 17292 |\n",
       "| University Ave &amp; 57th St     | 16697 |\n",
       "| Loomis St &amp; Lexington St     | 16262 |\n",
       "| Ellis Ave &amp; 60th St          | 15869 |\n",
       "| State St &amp; Chicago Ave       | 14861 |\n",
       "\n"
      ],
      "text/plain": [
       "   start_station_name           n    \n",
       "1  Kingsbury St & Kinzie St     22889\n",
       "2  Clinton St & Washington Blvd 22116\n",
       "3  Clark St & Elm St            21069\n",
       "4  Wells St & Concord Ln        17878\n",
       "5  Clinton St & Madison St      17517\n",
       "6  Wells St & Elm St            17292\n",
       "7  University Ave & 57th St     16697\n",
       "8  Loomis St & Lexington St     16262\n",
       "9  Ellis Ave & 60th St          15869\n",
       "10 State St & Chicago Ave       14861"
      ]
     },
     "metadata": {},
     "output_type": "display_data"
    },
    {
     "data": {
      "text/html": [
       "<table class=\"dataframe\">\n",
       "<caption>A tibble: 10 × 2</caption>\n",
       "<thead>\n",
       "\t<tr><th scope=col>end_station_name</th><th scope=col>n</th></tr>\n",
       "\t<tr><th scope=col>&lt;chr&gt;</th><th scope=col>&lt;int&gt;</th></tr>\n",
       "</thead>\n",
       "<tbody>\n",
       "\t<tr><td><span style=white-space:pre-wrap>Streeter Dr &amp; Grand Ave           </span></td><td>33806</td></tr>\n",
       "\t<tr><td><span style=white-space:pre-wrap>Kingsbury St &amp; Kinzie St          </span></td><td>29734</td></tr>\n",
       "\t<tr><td><span style=white-space:pre-wrap>Clark St &amp; Elm St                 </span></td><td>29014</td></tr>\n",
       "\t<tr><td><span style=white-space:pre-wrap>Clinton St &amp; Washington Blvd      </span></td><td>28784</td></tr>\n",
       "\t<tr><td><span style=white-space:pre-wrap>Wells St &amp; Concord Ln             </span></td><td>28237</td></tr>\n",
       "\t<tr><td>DuSable Lake Shore Dr &amp; North Blvd</td><td>27591</td></tr>\n",
       "\t<tr><td><span style=white-space:pre-wrap>Wells St &amp; Elm St                 </span></td><td>25894</td></tr>\n",
       "\t<tr><td><span style=white-space:pre-wrap>Clinton St &amp; Madison St           </span></td><td>23894</td></tr>\n",
       "\t<tr><td><span style=white-space:pre-wrap>University Ave &amp; 57th St          </span></td><td>22231</td></tr>\n",
       "\t<tr><td><span style=white-space:pre-wrap>Broadway &amp; Barry Ave              </span></td><td>22118</td></tr>\n",
       "</tbody>\n",
       "</table>\n"
      ],
      "text/latex": [
       "A tibble: 10 × 2\n",
       "\\begin{tabular}{ll}\n",
       " end\\_station\\_name & n\\\\\n",
       " <chr> & <int>\\\\\n",
       "\\hline\n",
       "\t Streeter Dr \\& Grand Ave            & 33806\\\\\n",
       "\t Kingsbury St \\& Kinzie St           & 29734\\\\\n",
       "\t Clark St \\& Elm St                  & 29014\\\\\n",
       "\t Clinton St \\& Washington Blvd       & 28784\\\\\n",
       "\t Wells St \\& Concord Ln              & 28237\\\\\n",
       "\t DuSable Lake Shore Dr \\& North Blvd & 27591\\\\\n",
       "\t Wells St \\& Elm St                  & 25894\\\\\n",
       "\t Clinton St \\& Madison St            & 23894\\\\\n",
       "\t University Ave \\& 57th St           & 22231\\\\\n",
       "\t Broadway \\& Barry Ave               & 22118\\\\\n",
       "\\end{tabular}\n"
      ],
      "text/markdown": [
       "\n",
       "A tibble: 10 × 2\n",
       "\n",
       "| end_station_name &lt;chr&gt; | n &lt;int&gt; |\n",
       "|---|---|\n",
       "| Streeter Dr &amp; Grand Ave            | 33806 |\n",
       "| Kingsbury St &amp; Kinzie St           | 29734 |\n",
       "| Clark St &amp; Elm St                  | 29014 |\n",
       "| Clinton St &amp; Washington Blvd       | 28784 |\n",
       "| Wells St &amp; Concord Ln              | 28237 |\n",
       "| DuSable Lake Shore Dr &amp; North Blvd | 27591 |\n",
       "| Wells St &amp; Elm St                  | 25894 |\n",
       "| Clinton St &amp; Madison St            | 23894 |\n",
       "| University Ave &amp; 57th St           | 22231 |\n",
       "| Broadway &amp; Barry Ave               | 22118 |\n",
       "\n"
      ],
      "text/plain": [
       "   end_station_name                   n    \n",
       "1  Streeter Dr & Grand Ave            33806\n",
       "2  Kingsbury St & Kinzie St           29734\n",
       "3  Clark St & Elm St                  29014\n",
       "4  Clinton St & Washington Blvd       28784\n",
       "5  Wells St & Concord Ln              28237\n",
       "6  DuSable Lake Shore Dr & North Blvd 27591\n",
       "7  Wells St & Elm St                  25894\n",
       "8  Clinton St & Madison St            23894\n",
       "9  University Ave & 57th St           22231\n",
       "10 Broadway & Barry Ave               22118"
      ]
     },
     "metadata": {},
     "output_type": "display_data"
    },
    {
     "data": {
      "text/html": [
       "<table class=\"dataframe\">\n",
       "<caption>A tibble: 10 × 2</caption>\n",
       "<thead>\n",
       "\t<tr><th scope=col>end_station_name</th><th scope=col>n</th></tr>\n",
       "\t<tr><th scope=col>&lt;chr&gt;</th><th scope=col>&lt;int&gt;</th></tr>\n",
       "</thead>\n",
       "<tbody>\n",
       "\t<tr><td><span style=white-space:pre-wrap>Streeter Dr &amp; Grand Ave           </span></td><td>24356</td></tr>\n",
       "\t<tr><td>DuSable Lake Shore Dr &amp; North Blvd</td><td>15471</td></tr>\n",
       "\t<tr><td>Millennium Park                   </td><td>12029</td></tr>\n",
       "\t<tr><td><span style=white-space:pre-wrap>Michigan Ave &amp; Oak St             </span></td><td>11835</td></tr>\n",
       "\t<tr><td>DuSable Lake Shore Dr &amp; Monroe St </td><td>11441</td></tr>\n",
       "\t<tr><td>Theater on the Lake               </td><td>10171</td></tr>\n",
       "\t<tr><td><span style=white-space:pre-wrap>Wells St &amp; Concord Ln             </span></td><td> 9447</td></tr>\n",
       "\t<tr><td>Shedd Aquarium                    </td><td> 9218</td></tr>\n",
       "\t<tr><td><span style=white-space:pre-wrap>Clark St &amp; Lincoln Ave            </span></td><td> 8508</td></tr>\n",
       "\t<tr><td><span style=white-space:pre-wrap>Wells St &amp; Elm St                 </span></td><td> 8330</td></tr>\n",
       "</tbody>\n",
       "</table>\n"
      ],
      "text/latex": [
       "A tibble: 10 × 2\n",
       "\\begin{tabular}{ll}\n",
       " end\\_station\\_name & n\\\\\n",
       " <chr> & <int>\\\\\n",
       "\\hline\n",
       "\t Streeter Dr \\& Grand Ave            & 24356\\\\\n",
       "\t DuSable Lake Shore Dr \\& North Blvd & 15471\\\\\n",
       "\t Millennium Park                    & 12029\\\\\n",
       "\t Michigan Ave \\& Oak St              & 11835\\\\\n",
       "\t DuSable Lake Shore Dr \\& Monroe St  & 11441\\\\\n",
       "\t Theater on the Lake                & 10171\\\\\n",
       "\t Wells St \\& Concord Ln              &  9447\\\\\n",
       "\t Shedd Aquarium                     &  9218\\\\\n",
       "\t Clark St \\& Lincoln Ave             &  8508\\\\\n",
       "\t Wells St \\& Elm St                  &  8330\\\\\n",
       "\\end{tabular}\n"
      ],
      "text/markdown": [
       "\n",
       "A tibble: 10 × 2\n",
       "\n",
       "| end_station_name &lt;chr&gt; | n &lt;int&gt; |\n",
       "|---|---|\n",
       "| Streeter Dr &amp; Grand Ave            | 24356 |\n",
       "| DuSable Lake Shore Dr &amp; North Blvd | 15471 |\n",
       "| Millennium Park                    | 12029 |\n",
       "| Michigan Ave &amp; Oak St              | 11835 |\n",
       "| DuSable Lake Shore Dr &amp; Monroe St  | 11441 |\n",
       "| Theater on the Lake                | 10171 |\n",
       "| Wells St &amp; Concord Ln              |  9447 |\n",
       "| Shedd Aquarium                     |  9218 |\n",
       "| Clark St &amp; Lincoln Ave             |  8508 |\n",
       "| Wells St &amp; Elm St                  |  8330 |\n",
       "\n"
      ],
      "text/plain": [
       "   end_station_name                   n    \n",
       "1  Streeter Dr & Grand Ave            24356\n",
       "2  DuSable Lake Shore Dr & North Blvd 15471\n",
       "3  Millennium Park                    12029\n",
       "4  Michigan Ave & Oak St              11835\n",
       "5  DuSable Lake Shore Dr & Monroe St  11441\n",
       "6  Theater on the Lake                10171\n",
       "7  Wells St & Concord Ln               9447\n",
       "8  Shedd Aquarium                      9218\n",
       "9  Clark St & Lincoln Ave              8508\n",
       "10 Wells St & Elm St                   8330"
      ]
     },
     "metadata": {},
     "output_type": "display_data"
    },
    {
     "data": {
      "text/html": [
       "<table class=\"dataframe\">\n",
       "<caption>A tibble: 10 × 2</caption>\n",
       "<thead>\n",
       "\t<tr><th scope=col>end_station_name</th><th scope=col>n</th></tr>\n",
       "\t<tr><th scope=col>&lt;chr&gt;</th><th scope=col>&lt;int&gt;</th></tr>\n",
       "</thead>\n",
       "<tbody>\n",
       "\t<tr><td>Clinton St &amp; Washington Blvd</td><td>23843</td></tr>\n",
       "\t<tr><td><span style=white-space:pre-wrap>Kingsbury St &amp; Kinzie St    </span></td><td>23066</td></tr>\n",
       "\t<tr><td><span style=white-space:pre-wrap>Clark St &amp; Elm St           </span></td><td>21182</td></tr>\n",
       "\t<tr><td><span style=white-space:pre-wrap>Clinton St &amp; Madison St     </span></td><td>19119</td></tr>\n",
       "\t<tr><td><span style=white-space:pre-wrap>Wells St &amp; Concord Ln       </span></td><td>18790</td></tr>\n",
       "\t<tr><td><span style=white-space:pre-wrap>Wells St &amp; Elm St           </span></td><td>17564</td></tr>\n",
       "\t<tr><td><span style=white-space:pre-wrap>University Ave &amp; 57th St    </span></td><td>17192</td></tr>\n",
       "\t<tr><td><span style=white-space:pre-wrap>Loomis St &amp; Lexington St    </span></td><td>16019</td></tr>\n",
       "\t<tr><td><span style=white-space:pre-wrap>Ellis Ave &amp; 60th St         </span></td><td>15583</td></tr>\n",
       "\t<tr><td><span style=white-space:pre-wrap>State St &amp; Chicago Ave      </span></td><td>15563</td></tr>\n",
       "</tbody>\n",
       "</table>\n"
      ],
      "text/latex": [
       "A tibble: 10 × 2\n",
       "\\begin{tabular}{ll}\n",
       " end\\_station\\_name & n\\\\\n",
       " <chr> & <int>\\\\\n",
       "\\hline\n",
       "\t Clinton St \\& Washington Blvd & 23843\\\\\n",
       "\t Kingsbury St \\& Kinzie St     & 23066\\\\\n",
       "\t Clark St \\& Elm St            & 21182\\\\\n",
       "\t Clinton St \\& Madison St      & 19119\\\\\n",
       "\t Wells St \\& Concord Ln        & 18790\\\\\n",
       "\t Wells St \\& Elm St            & 17564\\\\\n",
       "\t University Ave \\& 57th St     & 17192\\\\\n",
       "\t Loomis St \\& Lexington St     & 16019\\\\\n",
       "\t Ellis Ave \\& 60th St          & 15583\\\\\n",
       "\t State St \\& Chicago Ave       & 15563\\\\\n",
       "\\end{tabular}\n"
      ],
      "text/markdown": [
       "\n",
       "A tibble: 10 × 2\n",
       "\n",
       "| end_station_name &lt;chr&gt; | n &lt;int&gt; |\n",
       "|---|---|\n",
       "| Clinton St &amp; Washington Blvd | 23843 |\n",
       "| Kingsbury St &amp; Kinzie St     | 23066 |\n",
       "| Clark St &amp; Elm St            | 21182 |\n",
       "| Clinton St &amp; Madison St      | 19119 |\n",
       "| Wells St &amp; Concord Ln        | 18790 |\n",
       "| Wells St &amp; Elm St            | 17564 |\n",
       "| University Ave &amp; 57th St     | 17192 |\n",
       "| Loomis St &amp; Lexington St     | 16019 |\n",
       "| Ellis Ave &amp; 60th St          | 15583 |\n",
       "| State St &amp; Chicago Ave       | 15563 |\n",
       "\n"
      ],
      "text/plain": [
       "   end_station_name             n    \n",
       "1  Clinton St & Washington Blvd 23843\n",
       "2  Kingsbury St & Kinzie St     23066\n",
       "3  Clark St & Elm St            21182\n",
       "4  Clinton St & Madison St      19119\n",
       "5  Wells St & Concord Ln        18790\n",
       "6  Wells St & Elm St            17564\n",
       "7  University Ave & 57th St     17192\n",
       "8  Loomis St & Lexington St     16019\n",
       "9  Ellis Ave & 60th St          15583\n",
       "10 State St & Chicago Ave       15563"
      ]
     },
     "metadata": {},
     "output_type": "display_data"
    }
   ],
   "source": [
    "#Question 8: What is the highest starting station for overall, casual riders and members?\n",
    "\n",
    "# Find top 10 start stations for riders\n",
    "## start station for overall riders\n",
    "Cyclistic4 %>%\n",
    "  count(start_station_name) %>%\n",
    "  arrange(desc(n)) %>% \n",
    "  slice (1:10)\n",
    "\n",
    "## start station for casual riders\n",
    "Cyclistic_casual %>% \n",
    "  count(start_station_name) %>%\n",
    "  arrange(desc(n)) %>%\n",
    "  slice(1:10)\n",
    "\n",
    "## start station for members riders\n",
    "Cyclistic_member %>%\n",
    "  count(start_station_name) %>%\n",
    "  arrange(desc(n)) %>%\n",
    "  slice(1:10)\n",
    "\n",
    "# Find top 10 end stations for riders\n",
    "## end station for overall riders\n",
    "Cyclistic4 %>%\n",
    "  count(end_station_name) %>%\n",
    "  arrange(desc(n)) %>% \n",
    "  slice (1:10)\n",
    "\n",
    "## end station for casual riders\n",
    "Cyclistic_casual %>% \n",
    "  count(end_station_name) %>%\n",
    "  arrange(desc(n)) %>%\n",
    "  slice(1:10)\n",
    "\n",
    "## end station for members riders\n",
    "Cyclistic_member %>%\n",
    "  count(end_station_name) %>%\n",
    "  arrange(desc(n)) %>%\n",
    "  slice(1:10)"
   ]
  },
  {
   "cell_type": "markdown",
   "id": "4ad37efb",
   "metadata": {
    "papermill": {
     "duration": 0.034587,
     "end_time": "2024-05-23T17:02:17.791267",
     "exception": false,
     "start_time": "2024-05-23T17:02:17.756680",
     "status": "completed"
    },
    "tags": []
   },
   "source": [
    "* Overall, top *start stations* with highest number of rides were **Streeter Dr & Grand Ave** (34,542 times), **Kingsbury St & Kinzie St** (30,177 times) and **Clark St & Elm St** (29,508 times). \n",
    "* The same stations were also recorded as *top end stations* for riders where **Streeter Dr & Grand Ave** was chosen 33,806 times, following by **Kingsbury St & Kinzie St** with 29,734 times and **Clark St & Elm St** with 29,014 times.\n",
    "\n",
    "##### Casual Riders Preferred Stations\n",
    "* At **Streeter Dr & Grand Ave**, casual riders are the majority riders used Cyclistic as a starting point with 22,863 riders (66.18% of the riders are casual riders). The same station is also the top ending station chosen by riders with 33,806 times in total and casual riders were the highest number of users picked this station point as their end station with 24,356 times (72.04%). \n",
    "* Based on Internet research, this station is near to several tourist spots; Centennial Wheel, the Navy Pier, the Chicago Children's Museum and several parks. \n",
    "* Other stations with highest casual riders chosen as starting points are **DuSable Lake Shore Dr & Monroe St** with 14,013 times and **DuSable Lake Shore Dr & North Blvd** with 13,340 times which are also well known as tourist spots. \n",
    "* While, the second highest for ending destinations are **DuSable Lake Shore Dr & North Blvd** with 15,471 times, follow by **Millennium Park** with 12,029 times.\n",
    "\n",
    "##### Members Riders Preferred Stations\n",
    "* Members riders’ top start stations are nearby spots which are mixed of residential and commercial areas as per the Internet research - **Kingsbury St & Kinzie St** (22,889 times), **Clinton St & Washington Blvd** (22,116 times) and **Clark St & Elm St** (21,069 times).\n",
    "* The highest number of rides for the end stations chosen by members riders were also the same start stations - **Clinton St & Washington Blvd** being the highest number of times chosen by members with 23,843 times, followed by **Kingsbury St & Kinzie St** (23,066 times) and **Clark St & Elm St** (21,182 times).\n",
    "\n",
    "\n",
    "* The above-mentioned statements show that casual riders prefer to use Cyclistic at tourist spots for leisure purposes and also as the means for transportation, while members riders prefer to use Cyclistic nearby residential/commercial areas as the means for transportation."
   ]
  },
  {
   "cell_type": "markdown",
   "id": "4442324a",
   "metadata": {
    "papermill": {
     "duration": 0.03464,
     "end_time": "2024-05-23T17:02:17.860436",
     "exception": false,
     "start_time": "2024-05-23T17:02:17.825796",
     "status": "completed"
    },
    "tags": []
   },
   "source": [
    "#### Summary from the Analysis\n",
    "1. **Type of Rides:** \n",
    "* Casual riders used **3 types of bikes:** *Classic Bikes, Electric Bikes and Docked Bikes* \n",
    "* Members riders used only **2 types of bikes:** *Classic Bikes and Electrical Bikes*.\n",
    "* Classic bikes were the most preferred type for both casual riders (645,896 times) and members riders (1,609,957 times) which makes 62.26% usage of all times in 2023.\n",
    "* Electric bikes were the second highest with 476,047 times used by casual riders and 853,226 times by members riders, which makes 36.68% usage of all times in 2023.\n",
    "* Lastly, docked bikes which were used only by casual riders with 38,107 times takes up 1.05% usage of all times in 2023.\n",
    "\n",
    "2. **Preferred Day:** \n",
    "* Generally, members riders used Cyclistic more compared to casual riders throughout the week, whether weekdays or weekends.\n",
    "* However, the pattern shows that casual riders' used Cyclistic over the weekends with Saturdays being the highest number of rides with 222,908 times and followed by Sundays with 179,846 times. \n",
    "* While the pattern for members riders show that the highest number of rides happened on weekdays and the lowest on weekends, where Saturdays (301,238 times) and Sundays (263,373 times) are the lowest users for members. The highest number of rides occurred on Wednesdays (403,045 times), Thursday (401,088 times) and Tuesdays (398,096 times).\n",
    "\n",
    "\n",
    "3. **Preferred Season:**\n",
    "* Casual riders had the highest number of riders in **July** with 177,945 users, followed by **August** with 175,095 users and **June** with 163,790 users.\n",
    "* Members riders had the highest number of riders in **August** with 305,028 users, followed by **July** with 283,718 users and **June** with 273,923 users.\n",
    "* Overall, **August** had the highest number of riders in 2023 with 480,123 users, followed by **July** with 461,663 users and **June** with 437,713 users.\n",
    "* The abovementioned shows that the **summer season is the peak season** for riders to use Cyclistic with 1,379,499 rides in total. Followed by the fall season with 1,099,022 rides, the spring season with 821,844 rides and lastly, the winter season with 412,868 rides.\n",
    "* The summer season had triple times number of rides compared to the winter season, as it was the peak tourist season. This is also supported by an article from [CityPass](https://www.citypass.com/articles/chicago/when-is-the-best-time-to-visit-chicago) and [U.S News](https://travel.usnews.com/Chicago_IL/When_To_Visit/).\n",
    "\n",
    "4. **Preferred Location:**\n",
    "* **Streeter Dr & Grand Ave** is the top start station for riders with 34,542 times, follow by **Kingsbury St & Kinzie St** with 30,177 times and **Clark St & Elm St** with 29,508 times. **The same stations are the top end stations for riders** where Streeter Dr & Grand Ave was chosen 33,806 times as the end stations, follow by Kingsbury St & Kinzie St with 29,734 times and Clark St & Elm St with 29,014 times.\n",
    "* **Majority of the riders who chose Streeter Dr & Grand Ave station were casual riders** - 22,863 times (66.18%) casual riders chose this station as start station & 24,356 times (72.04%) chose as end station. Based on Internet research, this station is near several tourist spots; Centennial Wheel, the Navy Pier, the Chicago Children's Museum and several parks.\n",
    "* Members riders preferred start stations were near locations which are a mixed of residential and commercial areas - **Kingsbury St & Kinzie St** (22,889 times), **Clinton St & Washington Blvd** (22,116 times) and **Clark St & Elm St** (21,069 times). Same stations were also preferred end stations by members riders - **Clinton St & Washington Blvd** (23,843 times), **Kingsbury St & Kinzie St** (23,066 times) and **Clark St & Elm St** (21,182 times).\n",
    "* It can be conclude that casual riders prefer to use Cyclistic at tourist spots for leisure purposes and also as the means for transportation, while members riders prefer to use Cyclistic nearby residential/commercial areas as the means for transportation for daily use.\n",
    "\n",
    "5. **Average time using Cyclistic:**\n",
    "* The average time spent by casual riders are longer than members riders by approximately 4 minutes, where casual riders average time spent is 749 seconds (quivalent to approximately ~12 minutes) while members riders spent an an average of 583 seconds (equivalent to approximately ~9 minutes).\n",
    "\n",
    "\n",
    "\n"
   ]
  },
  {
   "cell_type": "markdown",
   "id": "81a05fb9",
   "metadata": {
    "papermill": {
     "duration": 0.034739,
     "end_time": "2024-05-23T17:02:17.930196",
     "exception": false,
     "start_time": "2024-05-23T17:02:17.895457",
     "status": "completed"
    },
    "tags": []
   },
   "source": [
    "### Phase 5: SHARE & ACT\n",
    "#### Recommendation to Stakeholders for Future Marketing Campaigns\n",
    "In order to attract more casual riders to subscribe for Cyclistic membership, these are  the recommendations to stakeholders’ consideration and action:\n",
    "1. **Summer Season Pass:** Since summer season *(June, July and August)* has the highest number of riders, it is more likely for casual riders to subscribe for membership during these periods. Hence, more marketing, campaigns and promotions can be done during this period, where riders can subscribe a seasonal membership with better rate. \n",
    "2. **Weekend Pass:** We can also promote a weekend pass for casual riders to subscribe as the data shows that weekends (Saturdays and Sundays) are the top 2 days for casual riders using Cyclistic.\n",
    "3. **Tourist Spots:** We can also do an on-site promotion at the tourist spots in order to increase awareness for Cyclistic membership to the public. For example, location nearby to the Streeter Dr & Grand Ave and DuSable Lake Shore Dr & North Blvd stations as these two stations are prominent start station and end station by casual riders."
   ]
  },
  {
   "cell_type": "markdown",
   "id": "e8c595a2",
   "metadata": {
    "papermill": {
     "duration": 0.035182,
     "end_time": "2024-05-23T17:02:18.000897",
     "exception": false,
     "start_time": "2024-05-23T17:02:17.965715",
     "status": "completed"
    },
    "tags": []
   },
   "source": [
    "#### For Data Visualisation:\n",
    "* As mentioned on the above, I used Tableau for data visualisation. Please refer [here](https://public.tableau.com/views/Draft1_17108489689070/Story1?:language=en-US&:sid=&:display_count=n&:origin=viz_share_link) for the data visualisation.\n"
   ]
  }
 ],
 "metadata": {
  "kaggle": {
   "accelerator": "none",
   "dataSources": [
    {
     "datasetId": 4859009,
     "sourceId": 8254589,
     "sourceType": "datasetVersion"
    }
   ],
   "dockerImageVersionId": 30618,
   "isGpuEnabled": false,
   "isInternetEnabled": true,
   "language": "r",
   "sourceType": "notebook"
  },
  "kernelspec": {
   "display_name": "R",
   "language": "R",
   "name": "ir"
  },
  "language_info": {
   "codemirror_mode": "r",
   "file_extension": ".r",
   "mimetype": "text/x-r-source",
   "name": "R",
   "pygments_lexer": "r",
   "version": "4.0.5"
  },
  "papermill": {
   "default_parameters": {},
   "duration": 371.49769,
   "end_time": "2024-05-23T17:02:18.658366",
   "environment_variables": {},
   "exception": null,
   "input_path": "__notebook__.ipynb",
   "output_path": "__notebook__.ipynb",
   "parameters": {},
   "start_time": "2024-05-23T16:56:07.160676",
   "version": "2.5.0"
  }
 },
 "nbformat": 4,
 "nbformat_minor": 5
}
